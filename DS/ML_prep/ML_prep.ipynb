{
 "cells": [
  {
   "cell_type": "markdown",
   "metadata": {},
   "source": [
    "## 1. Import libraries"
   ]
  },
  {
   "cell_type": "code",
   "execution_count": 3,
   "metadata": {},
   "outputs": [],
   "source": [
    "import numpy as np\n",
    "import matplotlib.pyplot as plt\n",
    "import pandas as pd   \n",
    "from sklearn.linear_model import LinearRegression, LogisticRegression   "
   ]
  },
  {
   "cell_type": "markdown",
   "metadata": {},
   "source": [
    "## 2. Linear Regression"
   ]
  },
  {
   "cell_type": "code",
   "execution_count": 21,
   "metadata": {},
   "outputs": [],
   "source": [
    "def _add_bias_term(X: np.ndarray) -> np.ndarray:\n",
    "    n = X.shape[0]\n",
    "    return np.hstack([np.ones((n, 1)), X])\n",
    "    \n",
    "\n",
    "# using matrix multiplication\n",
    "class CustomLinearRegression():\n",
    "    def __init__(self) -> None:\n",
    "        self.W = None\n",
    "        \n",
    "        \n",
    "    def fit(self, X, Y) -> None:\n",
    "        \"\"\" \n",
    "        y = X * W    \n",
    "        W = inv(X_t * X) * X_t * Y  \n",
    "        \"\"\"\n",
    "            \n",
    "        # Add bias\n",
    "        X = _add_bias_term(X)\n",
    "        self.W = np.linalg.inv(X.T @ X) @ X.T @ Y\n",
    "        return None\n",
    "        \n",
    "    def predict(self, X: np.ndarray) -> np.ndarray:\n",
    "        X = _add_bias_term(X)\n",
    "        return X @ self.W \n",
    "    \n",
    "    \n",
    "    \n",
    "    \n",
    "class CustomLinearRegressionGD():\n",
    "    \n",
    "    def __init__(self, L2_regul: float = 0.1):\n",
    "        self.L2_regul = L2_regul\n",
    "        self.W = None\n",
    "        \n",
    "        \n",
    "    def fit(self, X: np.ndarray, Y: np.ndarray, lr: float = 0.01, num_iters: int = 1000) -> None:\n",
    "        \n",
    "        # Add checks\n",
    "        if (len(X) != len(Y)) or len(X) ==0:\n",
    "            raise ValueError(\"The number of samples in X and Y should be the same.\")\n",
    "        \n",
    "        if (num_iters<=0) or (lr<=0):\n",
    "            raise ValueError(\"Number of iterations and learning rate should be positive.\")\n",
    "        \n",
    "        # Add bias\n",
    "        X = _add_bias_term(X)\n",
    "        \n",
    "        # Gradient decsent\n",
    "        self.W = np.zeros(X.shape[1])\n",
    "        for i in range(num_iters):\n",
    "            y_pred = np.dot(X, self.W)\n",
    "            \n",
    "            # cost\n",
    "            loss = np.sum((y_pred - y)**2) + (self.L2_regul * np.sum(self.W ** 2))\n",
    "            \n",
    "            # Calculate gradient\n",
    "            gradient = 2 * np.dot(X.T, y_pred-y) + 2 * self.L2_regul * self.W\n",
    "            \n",
    "            # Update weights\n",
    "            self.W -= lr*gradient \n",
    "                        \n",
    "        \n",
    "        return None\n",
    "        \n",
    "        \n",
    "    def predict(self, X: np.ndarray) -> np.ndarray:\n",
    "        return np.dot(_add_bias_term(X), self.W)\n",
    "\n",
    "    "
   ]
  },
  {
   "cell_type": "code",
   "execution_count": 6,
   "metadata": {},
   "outputs": [
    {
     "name": "stdout",
     "output_type": "stream",
     "text": [
      "[3. 1. 2.]\n",
      "[35. 44.]\n"
     ]
    }
   ],
   "source": [
    "# Using the non gradient descent algorithm\n",
    "# Create example input data\n",
    "X = np.array([[2, 2], [4, 5], [7, 8]])\n",
    "y = np.array([9, 17, 26])\n",
    "\n",
    "# Fit linear regression model\n",
    "lr = CustomLinearRegression()\n",
    "lr.fit(X, y)\n",
    "print(lr.W) # [3. 1. 2.]\n",
    "\n",
    "# Make predictions on new data\n",
    "X_new = np.array([[10, 11], [13, 14]])\n",
    "y_pred = lr.predict(X_new)\n",
    "print(y_pred)  # Output: [43. 55.]"
   ]
  },
  {
   "cell_type": "code",
   "execution_count": 25,
   "metadata": {},
   "outputs": [
    {
     "name": "stdout",
     "output_type": "stream",
     "text": [
      "[1.99964292 0.65345474]\n",
      "[2.65309766 3.3065524  3.96000714 4.61346188 5.26691662]\n"
     ]
    }
   ],
   "source": [
    "\n",
    "X = np.array([[1, 2, 3, 4, 5]]).T\n",
    "y = np.array([2, 4, 5, 4, 5])\n",
    "lr = CustomLinearRegressionGD()\n",
    "lr.fit(X, y, lr=0.01, num_iters=10000)\n",
    "print(lr.W)  # Output: [ 1.99964292  0.65345474 ]\n",
    "y_pred = lr.predict(X)\n",
    "print(y_pred) "
   ]
  },
  {
   "cell_type": "markdown",
   "metadata": {},
   "source": [
    "### 3. Logistic Regresison"
   ]
  },
  {
   "cell_type": "code",
   "execution_count": null,
   "metadata": {},
   "outputs": [],
   "source": [
    "class CustomLogisticRegression():\n",
    "    \n",
    "    \n",
    "    def __init__(self) -> None:\n",
    "        \n",
    "        return None\n",
    "    \n",
    "    def fit() -> None:\n",
    "        \n",
    "        return None\n",
    "        \n",
    "        \n",
    "    def predict(self, X) -> np.ndarray:\n",
    "        return None\n",
    "    "
   ]
  },
  {
   "cell_type": "code",
   "execution_count": null,
   "metadata": {},
   "outputs": [],
   "source": []
  },
  {
   "cell_type": "markdown",
   "metadata": {},
   "source": [
    "## 4. K-means clustering"
   ]
  },
  {
   "cell_type": "code",
   "execution_count": 29,
   "metadata": {},
   "outputs": [
    {
     "name": "stdout",
     "output_type": "stream",
     "text": [
      "\u001b[0;31mDocstring:\u001b[0m\n",
      "choice(a, size=None, replace=True, p=None)\n",
      "\n",
      "Generates a random sample from a given 1-D array\n",
      "\n",
      ".. versionadded:: 1.7.0\n",
      "\n",
      ".. note::\n",
      "    New code should use the `~numpy.random.Generator.choice`\n",
      "    method of a `~numpy.random.Generator` instance instead;\n",
      "    please see the :ref:`random-quick-start`.\n",
      "\n",
      "Parameters\n",
      "----------\n",
      "a : 1-D array-like or int\n",
      "    If an ndarray, a random sample is generated from its elements.\n",
      "    If an int, the random sample is generated as if it were ``np.arange(a)``\n",
      "size : int or tuple of ints, optional\n",
      "    Output shape.  If the given shape is, e.g., ``(m, n, k)``, then\n",
      "    ``m * n * k`` samples are drawn.  Default is None, in which case a\n",
      "    single value is returned.\n",
      "replace : boolean, optional\n",
      "    Whether the sample is with or without replacement. Default is True,\n",
      "    meaning that a value of ``a`` can be selected multiple times.\n",
      "p : 1-D array-like, optional\n",
      "    The probabilities associated with each entry in a.\n",
      "    If not given, the sample assumes a uniform distribution over all\n",
      "    entries in ``a``.\n",
      "\n",
      "Returns\n",
      "-------\n",
      "samples : single item or ndarray\n",
      "    The generated random samples\n",
      "\n",
      "Raises\n",
      "------\n",
      "ValueError\n",
      "    If a is an int and less than zero, if a or p are not 1-dimensional,\n",
      "    if a is an array-like of size 0, if p is not a vector of\n",
      "    probabilities, if a and p have different lengths, or if\n",
      "    replace=False and the sample size is greater than the population\n",
      "    size\n",
      "\n",
      "See Also\n",
      "--------\n",
      "randint, shuffle, permutation\n",
      "random.Generator.choice: which should be used in new code\n",
      "\n",
      "Notes\n",
      "-----\n",
      "Setting user-specified probabilities through ``p`` uses a more general but less\n",
      "efficient sampler than the default. The general sampler produces a different sample\n",
      "than the optimized sampler even if each element of ``p`` is 1 / len(a).\n",
      "\n",
      "Sampling random rows from a 2-D array is not possible with this function,\n",
      "but is possible with `Generator.choice` through its ``axis`` keyword.\n",
      "\n",
      "Examples\n",
      "--------\n",
      "Generate a uniform random sample from np.arange(5) of size 3:\n",
      "\n",
      ">>> np.random.choice(5, 3)\n",
      "array([0, 3, 4]) # random\n",
      ">>> #This is equivalent to np.random.randint(0,5,3)\n",
      "\n",
      "Generate a non-uniform random sample from np.arange(5) of size 3:\n",
      "\n",
      ">>> np.random.choice(5, 3, p=[0.1, 0, 0.3, 0.6, 0])\n",
      "array([3, 3, 0]) # random\n",
      "\n",
      "Generate a uniform random sample from np.arange(5) of size 3 without\n",
      "replacement:\n",
      "\n",
      ">>> np.random.choice(5, 3, replace=False)\n",
      "array([3,1,0]) # random\n",
      ">>> #This is equivalent to np.random.permutation(np.arange(5))[:3]\n",
      "\n",
      "Generate a non-uniform random sample from np.arange(5) of size\n",
      "3 without replacement:\n",
      "\n",
      ">>> np.random.choice(5, 3, replace=False, p=[0.1, 0, 0.3, 0.6, 0])\n",
      "array([2, 3, 0]) # random\n",
      "\n",
      "Any of the above can be repeated with an arbitrary array-like\n",
      "instead of just integers. For instance:\n",
      "\n",
      ">>> aa_milne_arr = ['pooh', 'rabbit', 'piglet', 'Christopher']\n",
      ">>> np.random.choice(aa_milne_arr, 5, p=[0.5, 0.1, 0.1, 0.3])\n",
      "array(['pooh', 'pooh', 'pooh', 'Christopher', 'piglet'], # random\n",
      "      dtype='<U11')\n",
      "\u001b[0;31mType:\u001b[0m      builtin_function_or_method"
     ]
    }
   ],
   "source": [
    "np.random.choice?"
   ]
  },
  {
   "cell_type": "code",
   "execution_count": 30,
   "metadata": {},
   "outputs": [
    {
     "name": "stdout",
     "output_type": "stream",
     "text": [
      "\u001b[0;31mSignature:\u001b[0m \u001b[0mnp\u001b[0m\u001b[0;34m.\u001b[0m\u001b[0mlinalg\u001b[0m\u001b[0;34m.\u001b[0m\u001b[0mnorm\u001b[0m\u001b[0;34m(\u001b[0m\u001b[0mx\u001b[0m\u001b[0;34m,\u001b[0m \u001b[0mord\u001b[0m\u001b[0;34m=\u001b[0m\u001b[0;32mNone\u001b[0m\u001b[0;34m,\u001b[0m \u001b[0maxis\u001b[0m\u001b[0;34m=\u001b[0m\u001b[0;32mNone\u001b[0m\u001b[0;34m,\u001b[0m \u001b[0mkeepdims\u001b[0m\u001b[0;34m=\u001b[0m\u001b[0;32mFalse\u001b[0m\u001b[0;34m)\u001b[0m\u001b[0;34m\u001b[0m\u001b[0;34m\u001b[0m\u001b[0m\n",
      "\u001b[0;31mDocstring:\u001b[0m\n",
      "Matrix or vector norm.\n",
      "\n",
      "This function is able to return one of eight different matrix norms,\n",
      "or one of an infinite number of vector norms (described below), depending\n",
      "on the value of the ``ord`` parameter.\n",
      "\n",
      "Parameters\n",
      "----------\n",
      "x : array_like\n",
      "    Input array.  If `axis` is None, `x` must be 1-D or 2-D, unless `ord`\n",
      "    is None. If both `axis` and `ord` are None, the 2-norm of\n",
      "    ``x.ravel`` will be returned.\n",
      "ord : {non-zero int, inf, -inf, 'fro', 'nuc'}, optional\n",
      "    Order of the norm (see table under ``Notes``). inf means numpy's\n",
      "    `inf` object. The default is None.\n",
      "axis : {None, int, 2-tuple of ints}, optional.\n",
      "    If `axis` is an integer, it specifies the axis of `x` along which to\n",
      "    compute the vector norms.  If `axis` is a 2-tuple, it specifies the\n",
      "    axes that hold 2-D matrices, and the matrix norms of these matrices\n",
      "    are computed.  If `axis` is None then either a vector norm (when `x`\n",
      "    is 1-D) or a matrix norm (when `x` is 2-D) is returned. The default\n",
      "    is None.\n",
      "\n",
      "    .. versionadded:: 1.8.0\n",
      "\n",
      "keepdims : bool, optional\n",
      "    If this is set to True, the axes which are normed over are left in the\n",
      "    result as dimensions with size one.  With this option the result will\n",
      "    broadcast correctly against the original `x`.\n",
      "\n",
      "    .. versionadded:: 1.10.0\n",
      "\n",
      "Returns\n",
      "-------\n",
      "n : float or ndarray\n",
      "    Norm of the matrix or vector(s).\n",
      "\n",
      "See Also\n",
      "--------\n",
      "scipy.linalg.norm : Similar function in SciPy.\n",
      "\n",
      "Notes\n",
      "-----\n",
      "For values of ``ord < 1``, the result is, strictly speaking, not a\n",
      "mathematical 'norm', but it may still be useful for various numerical\n",
      "purposes.\n",
      "\n",
      "The following norms can be calculated:\n",
      "\n",
      "=====  ============================  ==========================\n",
      "ord    norm for matrices             norm for vectors\n",
      "=====  ============================  ==========================\n",
      "None   Frobenius norm                2-norm\n",
      "'fro'  Frobenius norm                --\n",
      "'nuc'  nuclear norm                  --\n",
      "inf    max(sum(abs(x), axis=1))      max(abs(x))\n",
      "-inf   min(sum(abs(x), axis=1))      min(abs(x))\n",
      "0      --                            sum(x != 0)\n",
      "1      max(sum(abs(x), axis=0))      as below\n",
      "-1     min(sum(abs(x), axis=0))      as below\n",
      "2      2-norm (largest sing. value)  as below\n",
      "-2     smallest singular value       as below\n",
      "other  --                            sum(abs(x)**ord)**(1./ord)\n",
      "=====  ============================  ==========================\n",
      "\n",
      "The Frobenius norm is given by [1]_:\n",
      "\n",
      "    :math:`||A||_F = [\\sum_{i,j} abs(a_{i,j})^2]^{1/2}`\n",
      "\n",
      "The nuclear norm is the sum of the singular values.\n",
      "\n",
      "Both the Frobenius and nuclear norm orders are only defined for\n",
      "matrices and raise a ValueError when ``x.ndim != 2``.\n",
      "\n",
      "References\n",
      "----------\n",
      ".. [1] G. H. Golub and C. F. Van Loan, *Matrix Computations*,\n",
      "       Baltimore, MD, Johns Hopkins University Press, 1985, pg. 15\n",
      "\n",
      "Examples\n",
      "--------\n",
      ">>> from numpy import linalg as LA\n",
      ">>> a = np.arange(9) - 4\n",
      ">>> a\n",
      "array([-4, -3, -2, ...,  2,  3,  4])\n",
      ">>> b = a.reshape((3, 3))\n",
      ">>> b\n",
      "array([[-4, -3, -2],\n",
      "       [-1,  0,  1],\n",
      "       [ 2,  3,  4]])\n",
      "\n",
      ">>> LA.norm(a)\n",
      "7.745966692414834\n",
      ">>> LA.norm(b)\n",
      "7.745966692414834\n",
      ">>> LA.norm(b, 'fro')\n",
      "7.745966692414834\n",
      ">>> LA.norm(a, np.inf)\n",
      "4.0\n",
      ">>> LA.norm(b, np.inf)\n",
      "9.0\n",
      ">>> LA.norm(a, -np.inf)\n",
      "0.0\n",
      ">>> LA.norm(b, -np.inf)\n",
      "2.0\n",
      "\n",
      ">>> LA.norm(a, 1)\n",
      "20.0\n",
      ">>> LA.norm(b, 1)\n",
      "7.0\n",
      ">>> LA.norm(a, -1)\n",
      "-4.6566128774142013e-010\n",
      ">>> LA.norm(b, -1)\n",
      "6.0\n",
      ">>> LA.norm(a, 2)\n",
      "7.745966692414834\n",
      ">>> LA.norm(b, 2)\n",
      "7.3484692283495345\n",
      "\n",
      ">>> LA.norm(a, -2)\n",
      "0.0\n",
      ">>> LA.norm(b, -2)\n",
      "1.8570331885190563e-016 # may vary\n",
      ">>> LA.norm(a, 3)\n",
      "5.8480354764257312 # may vary\n",
      ">>> LA.norm(a, -3)\n",
      "0.0\n",
      "\n",
      "Using the `axis` argument to compute vector norms:\n",
      "\n",
      ">>> c = np.array([[ 1, 2, 3],\n",
      "...               [-1, 1, 4]])\n",
      ">>> LA.norm(c, axis=0)\n",
      "array([ 1.41421356,  2.23606798,  5.        ])\n",
      ">>> LA.norm(c, axis=1)\n",
      "array([ 3.74165739,  4.24264069])\n",
      ">>> LA.norm(c, ord=1, axis=1)\n",
      "array([ 6.,  6.])\n",
      "\n",
      "Using the `axis` argument to compute matrix norms:\n",
      "\n",
      ">>> m = np.arange(8).reshape(2,2,2)\n",
      ">>> LA.norm(m, axis=(1,2))\n",
      "array([  3.74165739,  11.22497216])\n",
      ">>> LA.norm(m[0, :, :]), LA.norm(m[1, :, :])\n",
      "(3.7416573867739413, 11.224972160321824)\n",
      "\u001b[0;31mFile:\u001b[0m      ~/Desktop/Projects/.venv/lib/python3.8/site-packages/numpy/linalg/linalg.py\n",
      "\u001b[0;31mType:\u001b[0m      function"
     ]
    }
   ],
   "source": [
    "np.linalg.norm?\n"
   ]
  },
  {
   "cell_type": "code",
   "execution_count": 31,
   "metadata": {},
   "outputs": [
    {
     "name": "stdout",
     "output_type": "stream",
     "text": [
      "\u001b[0;31mDocstring:\u001b[0m\n",
      "where(condition, [x, y], /)\n",
      "\n",
      "Return elements chosen from `x` or `y` depending on `condition`.\n",
      "\n",
      ".. note::\n",
      "    When only `condition` is provided, this function is a shorthand for\n",
      "    ``np.asarray(condition).nonzero()``. Using `nonzero` directly should be\n",
      "    preferred, as it behaves correctly for subclasses. The rest of this\n",
      "    documentation covers only the case where all three arguments are\n",
      "    provided.\n",
      "\n",
      "Parameters\n",
      "----------\n",
      "condition : array_like, bool\n",
      "    Where True, yield `x`, otherwise yield `y`.\n",
      "x, y : array_like\n",
      "    Values from which to choose. `x`, `y` and `condition` need to be\n",
      "    broadcastable to some shape.\n",
      "\n",
      "Returns\n",
      "-------\n",
      "out : ndarray\n",
      "    An array with elements from `x` where `condition` is True, and elements\n",
      "    from `y` elsewhere.\n",
      "\n",
      "See Also\n",
      "--------\n",
      "choose\n",
      "nonzero : The function that is called when x and y are omitted\n",
      "\n",
      "Notes\n",
      "-----\n",
      "If all the arrays are 1-D, `where` is equivalent to::\n",
      "\n",
      "    [xv if c else yv\n",
      "     for c, xv, yv in zip(condition, x, y)]\n",
      "\n",
      "Examples\n",
      "--------\n",
      ">>> a = np.arange(10)\n",
      ">>> a\n",
      "array([0, 1, 2, 3, 4, 5, 6, 7, 8, 9])\n",
      ">>> np.where(a < 5, a, 10*a)\n",
      "array([ 0,  1,  2,  3,  4, 50, 60, 70, 80, 90])\n",
      "\n",
      "This can be used on multidimensional arrays too:\n",
      "\n",
      ">>> np.where([[True, False], [True, True]],\n",
      "...          [[1, 2], [3, 4]],\n",
      "...          [[9, 8], [7, 6]])\n",
      "array([[1, 8],\n",
      "       [3, 4]])\n",
      "\n",
      "The shapes of x, y, and the condition are broadcast together:\n",
      "\n",
      ">>> x, y = np.ogrid[:3, :4]\n",
      ">>> np.where(x < y, x, 10 + y)  # both x and 10+y are broadcast\n",
      "array([[10,  0,  0,  0],\n",
      "       [10, 11,  1,  1],\n",
      "       [10, 11, 12,  2]])\n",
      "\n",
      ">>> a = np.array([[0, 1, 2],\n",
      "...               [0, 2, 4],\n",
      "...               [0, 3, 6]])\n",
      ">>> np.where(a < 4, a, -1)  # -1 is broadcast\n",
      "array([[ 0,  1,  2],\n",
      "       [ 0,  2, -1],\n",
      "       [ 0,  3, -1]])\n",
      "\u001b[0;31mType:\u001b[0m      function"
     ]
    }
   ],
   "source": [
    "np.where?"
   ]
  },
  {
   "cell_type": "code",
   "execution_count": 32,
   "metadata": {},
   "outputs": [
    {
     "name": "stdout",
     "output_type": "stream",
     "text": [
      "\u001b[0;31mSignature:\u001b[0m \u001b[0mnp\u001b[0m\u001b[0;34m.\u001b[0m\u001b[0marray_equal\u001b[0m\u001b[0;34m(\u001b[0m\u001b[0ma1\u001b[0m\u001b[0;34m,\u001b[0m \u001b[0ma2\u001b[0m\u001b[0;34m,\u001b[0m \u001b[0mequal_nan\u001b[0m\u001b[0;34m=\u001b[0m\u001b[0;32mFalse\u001b[0m\u001b[0;34m)\u001b[0m\u001b[0;34m\u001b[0m\u001b[0;34m\u001b[0m\u001b[0m\n",
      "\u001b[0;31mDocstring:\u001b[0m\n",
      "True if two arrays have the same shape and elements, False otherwise.\n",
      "\n",
      "Parameters\n",
      "----------\n",
      "a1, a2 : array_like\n",
      "    Input arrays.\n",
      "equal_nan : bool\n",
      "    Whether to compare NaN's as equal. If the dtype of a1 and a2 is\n",
      "    complex, values will be considered equal if either the real or the\n",
      "    imaginary component of a given value is ``nan``.\n",
      "\n",
      "    .. versionadded:: 1.19.0\n",
      "\n",
      "Returns\n",
      "-------\n",
      "b : bool\n",
      "    Returns True if the arrays are equal.\n",
      "\n",
      "See Also\n",
      "--------\n",
      "allclose: Returns True if two arrays are element-wise equal within a\n",
      "          tolerance.\n",
      "array_equiv: Returns True if input arrays are shape consistent and all\n",
      "             elements equal.\n",
      "\n",
      "Examples\n",
      "--------\n",
      ">>> np.array_equal([1, 2], [1, 2])\n",
      "True\n",
      ">>> np.array_equal(np.array([1, 2]), np.array([1, 2]))\n",
      "True\n",
      ">>> np.array_equal([1, 2], [1, 2, 3])\n",
      "False\n",
      ">>> np.array_equal([1, 2], [1, 4])\n",
      "False\n",
      ">>> a = np.array([1, np.nan])\n",
      ">>> np.array_equal(a, a)\n",
      "False\n",
      ">>> np.array_equal(a, a, equal_nan=True)\n",
      "True\n",
      "\n",
      "When ``equal_nan`` is True, complex values with nan components are\n",
      "considered equal if either the real *or* the imaginary components are nan.\n",
      "\n",
      ">>> a = np.array([1 + 1j])\n",
      ">>> b = a.copy()\n",
      ">>> a.real = np.nan\n",
      ">>> b.imag = np.nan\n",
      ">>> np.array_equal(a, b, equal_nan=True)\n",
      "True\n",
      "\u001b[0;31mFile:\u001b[0m      ~/Desktop/Projects/.venv/lib/python3.8/site-packages/numpy/core/numeric.py\n",
      "\u001b[0;31mType:\u001b[0m      function"
     ]
    }
   ],
   "source": [
    "np.array_equal?"
   ]
  },
  {
   "cell_type": "code",
   "execution_count": 55,
   "metadata": {},
   "outputs": [
    {
     "name": "stdout",
     "output_type": "stream",
     "text": [
      "\u001b[0;31mType:\u001b[0m        NoneType\n",
      "\u001b[0;31mString form:\u001b[0m None\n",
      "\u001b[0;31mDocstring:\u001b[0m   <no docstring>"
     ]
    }
   ],
   "source": [
    "np.newaxis?"
   ]
  },
  {
   "cell_type": "code",
   "execution_count": 59,
   "metadata": {},
   "outputs": [
    {
     "name": "stdout",
     "output_type": "stream",
     "text": [
      "\u001b[0;31mDocstring:\u001b[0m\n",
      "concatenate((a1, a2, ...), axis=0, out=None, dtype=None, casting=\"same_kind\")\n",
      "\n",
      "Join a sequence of arrays along an existing axis.\n",
      "\n",
      "Parameters\n",
      "----------\n",
      "a1, a2, ... : sequence of array_like\n",
      "    The arrays must have the same shape, except in the dimension\n",
      "    corresponding to `axis` (the first, by default).\n",
      "axis : int, optional\n",
      "    The axis along which the arrays will be joined.  If axis is None,\n",
      "    arrays are flattened before use.  Default is 0.\n",
      "out : ndarray, optional\n",
      "    If provided, the destination to place the result. The shape must be\n",
      "    correct, matching that of what concatenate would have returned if no\n",
      "    out argument were specified.\n",
      "dtype : str or dtype\n",
      "    If provided, the destination array will have this dtype. Cannot be\n",
      "    provided together with `out`.\n",
      "\n",
      "    .. versionadded:: 1.20.0\n",
      "\n",
      "casting : {'no', 'equiv', 'safe', 'same_kind', 'unsafe'}, optional\n",
      "    Controls what kind of data casting may occur. Defaults to 'same_kind'.\n",
      "\n",
      "    .. versionadded:: 1.20.0\n",
      "\n",
      "Returns\n",
      "-------\n",
      "res : ndarray\n",
      "    The concatenated array.\n",
      "\n",
      "See Also\n",
      "--------\n",
      "ma.concatenate : Concatenate function that preserves input masks.\n",
      "array_split : Split an array into multiple sub-arrays of equal or\n",
      "              near-equal size.\n",
      "split : Split array into a list of multiple sub-arrays of equal size.\n",
      "hsplit : Split array into multiple sub-arrays horizontally (column wise).\n",
      "vsplit : Split array into multiple sub-arrays vertically (row wise).\n",
      "dsplit : Split array into multiple sub-arrays along the 3rd axis (depth).\n",
      "stack : Stack a sequence of arrays along a new axis.\n",
      "block : Assemble arrays from blocks.\n",
      "hstack : Stack arrays in sequence horizontally (column wise).\n",
      "vstack : Stack arrays in sequence vertically (row wise).\n",
      "dstack : Stack arrays in sequence depth wise (along third dimension).\n",
      "column_stack : Stack 1-D arrays as columns into a 2-D array.\n",
      "\n",
      "Notes\n",
      "-----\n",
      "When one or more of the arrays to be concatenated is a MaskedArray,\n",
      "this function will return a MaskedArray object instead of an ndarray,\n",
      "but the input masks are *not* preserved. In cases where a MaskedArray\n",
      "is expected as input, use the ma.concatenate function from the masked\n",
      "array module instead.\n",
      "\n",
      "Examples\n",
      "--------\n",
      ">>> a = np.array([[1, 2], [3, 4]])\n",
      ">>> b = np.array([[5, 6]])\n",
      ">>> np.concatenate((a, b), axis=0)\n",
      "array([[1, 2],\n",
      "       [3, 4],\n",
      "       [5, 6]])\n",
      ">>> np.concatenate((a, b.T), axis=1)\n",
      "array([[1, 2, 5],\n",
      "       [3, 4, 6]])\n",
      ">>> np.concatenate((a, b), axis=None)\n",
      "array([1, 2, 3, 4, 5, 6])\n",
      "\n",
      "This function will not preserve masking of MaskedArray inputs.\n",
      "\n",
      ">>> a = np.ma.arange(3)\n",
      ">>> a[1] = np.ma.masked\n",
      ">>> b = np.arange(2, 5)\n",
      ">>> a\n",
      "masked_array(data=[0, --, 2],\n",
      "             mask=[False,  True, False],\n",
      "       fill_value=999999)\n",
      ">>> b\n",
      "array([2, 3, 4])\n",
      ">>> np.concatenate([a, b])\n",
      "masked_array(data=[0, 1, 2, 2, 3, 4],\n",
      "             mask=False,\n",
      "       fill_value=999999)\n",
      ">>> np.ma.concatenate([a, b])\n",
      "masked_array(data=[0, --, 2, 2, 3, 4],\n",
      "             mask=[False,  True, False, False, False, False],\n",
      "       fill_value=999999)\n",
      "\u001b[0;31mType:\u001b[0m      function"
     ]
    }
   ],
   "source": [
    "np.concatenate?"
   ]
  },
  {
   "cell_type": "code",
   "execution_count": 53,
   "metadata": {},
   "outputs": [],
   "source": [
    "class KMeans:\n",
    "    \n",
    "    def __init__(self, k, max_iterations=100, tol = 1e-4):\n",
    "        self.k = k\n",
    "        self.max_iterations = max_iterations\n",
    "        self.tol = tol\n",
    "        self.cluster_assignments = np.nan\n",
    "        self.centroids = np.nan\n",
    "        \n",
    "        \n",
    "    def fit(self, X) -> None:\n",
    "        \n",
    "        if not isinstance(X, np.ndarray):\n",
    "            X = np.asarray(X)\n",
    "        \n",
    "        # Choose centroids\n",
    "        self.centroids = X[np.random.choice(X.shape[0], self.k, replace=False)]\n",
    "        \n",
    "        for iter in range(self.max_iterations):\n",
    "            # Assign clusters\n",
    "            distances = np.linalg.norm(X[:, np.newaxis] - self.centroids, axis=2)\n",
    "            cluster_assignments = np.argmin(distances, axis=1)\n",
    "                \n",
    "            # Update centroids\n",
    "            new_centroids = np.array([np.mean(X[np.where(np.array(cluster_assignments) ==j)], axis=0) for j in range(self.k)])                \n",
    "                \n",
    "            if np.linalg.norm(self.centroids - new_centroids) < self.tol:\n",
    "                break\n",
    "            \n",
    "            self.centroids = new_centroids\n",
    "            \n",
    "        self.cluster_assignments = cluster_assignments\n",
    "            \n",
    "        return None   \n",
    "         \n",
    "        \n",
    "        \n",
    "    def predict(self, X):\n",
    "        # Assign clusters\n",
    "        cluster_assignments = []\n",
    "        for i in range(len(X)):\n",
    "            distances = np.linalg.norm(X[i] - self.centroids, axis=1)\n",
    "            cluster_assignments.append(np.argmin(distances))\n",
    "            \n",
    "        return cluster_assignments"
   ]
  },
  {
   "cell_type": "code",
   "execution_count": 54,
   "metadata": {},
   "outputs": [
    {
     "name": "stdout",
     "output_type": "stream",
     "text": [
      "[1, 1, 1, 1, 1, 1, 1, 1, 1, 1, 1, 1, 1, 1, 1, 1, 1, 1, 1, 1, 1, 1, 1, 1, 1, 1, 1, 1, 1, 1, 1, 1, 1, 1, 1, 1, 1, 1, 1, 1, 1, 1, 1, 1, 1, 1, 1, 1, 1, 1, 0, 0, 0, 0, 0, 0, 0, 0, 0, 0, 0, 0, 0, 0, 0, 0, 0, 0, 0, 0, 0, 0, 0, 0, 0, 0, 0, 0, 0, 0, 0, 0, 0, 0, 0, 0, 0, 0, 0, 0, 0, 0, 0, 0, 0, 0, 0, 0, 0, 0]\n",
      "[[-4.92465394 -5.00431652]\n",
      " [ 4.79985465  4.72403842]]\n"
     ]
    }
   ],
   "source": [
    "num_samples = 50\n",
    "x1 = np.random.randn(num_samples,2) + 5\n",
    "x2 = np.random.randn(num_samples,2) - 5\n",
    "X = np.concatenate([x1,x2], axis=0)\n",
    "\n",
    "# Initialize the KMeans object with k=3\n",
    "kmeans = KMeans(k=2)\n",
    "\n",
    "# Fit the k-means model to the dataset\n",
    "kmeans.fit(X)\n",
    "\n",
    "# Get the cluster assignments for the input dataset\n",
    "cluster_assignments = kmeans.predict(X)\n",
    "\n",
    "# Print the cluster assignments\n",
    "print(cluster_assignments)\n",
    "\n",
    "# Print the learned centroids\n",
    "print(kmeans.centroids)"
   ]
  },
  {
   "cell_type": "code",
   "execution_count": 67,
   "metadata": {},
   "outputs": [
    {
     "data": {
      "text/plain": [
       "array([[[ 8.08594525,  9.22704964],\n",
       "        [ 1.43211325, -1.72891002]],\n",
       "\n",
       "       [[ 7.70136893,  9.41146569],\n",
       "        [ 1.04753693, -1.54449397]]])"
      ]
     },
     "execution_count": 67,
     "metadata": {},
     "output_type": "execute_result"
    }
   ],
   "source": [
    "centroids = X[np.random.choice(X.shape[0], 2, replace=False)]\n",
    "X[:2, np.newaxis] - centroids"
   ]
  },
  {
   "cell_type": "code",
   "execution_count": 72,
   "metadata": {},
   "outputs": [
    {
     "data": {
      "text/plain": [
       "(100, 1, 2)"
      ]
     },
     "execution_count": 72,
     "metadata": {},
     "output_type": "execute_result"
    }
   ],
   "source": [
    "X[:, np.newaxis].shape"
   ]
  },
  {
   "cell_type": "code",
   "execution_count": 73,
   "metadata": {},
   "outputs": [
    {
     "data": {
      "text/plain": [
       "(100, 2)"
      ]
     },
     "execution_count": 73,
     "metadata": {},
     "output_type": "execute_result"
    }
   ],
   "source": [
    "X.shape"
   ]
  },
  {
   "cell_type": "code",
   "execution_count": 66,
   "metadata": {},
   "outputs": [
    {
     "data": {
      "text/plain": [
       "(2, 2)"
      ]
     },
     "execution_count": 66,
     "metadata": {},
     "output_type": "execute_result"
    }
   ],
   "source": [
    "centroids.shape"
   ]
  },
  {
   "cell_type": "code",
   "execution_count": 64,
   "metadata": {},
   "outputs": [
    {
     "data": {
      "text/plain": [
       "array([1, 1, 1, 1, 1, 1, 1, 1, 1, 1, 1, 1, 1, 1, 1, 1, 1, 1, 1, 1, 1, 1,\n",
       "       1, 1, 1, 1, 1, 1, 1, 1, 1, 1, 1, 1, 1, 1, 1, 1, 1, 1, 1, 1, 1, 1,\n",
       "       1, 1, 1, 1, 1, 1, 1, 1, 1, 1, 1, 0, 1, 0, 1, 1, 1, 1, 1, 0, 1, 1,\n",
       "       1, 1, 0, 0, 1, 1, 1, 1, 1, 1, 0, 1, 0, 0, 1, 0, 0, 1, 1, 1, 1, 1,\n",
       "       1, 1, 1, 1, 1, 1, 1, 1, 1, 1, 1, 1])"
      ]
     },
     "execution_count": 64,
     "metadata": {},
     "output_type": "execute_result"
    }
   ],
   "source": [
    "np.argmin(np.linalg.norm(X[:, np.newaxis] - centroids, axis=2), axis=1)"
   ]
  },
  {
   "cell_type": "code",
   "execution_count": 48,
   "metadata": {},
   "outputs": [
    {
     "data": {
      "image/png": "[encoded data removed]",
      "text/plain": [
       "<Figure size 640x480 with 1 Axes>"
      ]
     },
     "metadata": {},
     "output_type": "display_data"
    }
   ],
   "source": [
    "from matplotlib import pyplot as plt\n",
    "# Plot the data points with different colors based on their cluster assignments\n",
    "colors = ['r', 'b']\n",
    "for i in range(kmeans.k):\n",
    "    plt.scatter(X[np.where(np.array(cluster_assignments) == i)][:,0], \n",
    "                X[np.where(np.array(cluster_assignments) == i)][:,1], \n",
    "                color=colors[i], alpha = 0.2)\n",
    "\n",
    "# Plot the centroids as black circles\n",
    "plt.scatter(kmeans.centroids[:,0], kmeans.centroids[:,1], color='black', marker='+', s=200)\n",
    "\n",
    "# Show the plot\n",
    "plt.show()"
   ]
  },
  {
   "cell_type": "code",
   "execution_count": null,
   "metadata": {},
   "outputs": [],
   "source": []
  },
  {
   "cell_type": "code",
   "execution_count": null,
   "metadata": {},
   "outputs": [],
   "source": []
  },
  {
   "cell_type": "code",
   "execution_count": null,
   "metadata": {},
   "outputs": [],
   "source": []
  },
  {
   "cell_type": "code",
   "execution_count": null,
   "metadata": {},
   "outputs": [],
   "source": []
  },
  {
   "cell_type": "code",
   "execution_count": null,
   "metadata": {},
   "outputs": [],
   "source": []
  },
  {
   "cell_type": "code",
   "execution_count": null,
   "metadata": {},
   "outputs": [],
   "source": []
  },
  {
   "cell_type": "markdown",
   "metadata": {},
   "source": [
    "## Scratch"
   ]
  },
  {
   "cell_type": "code",
   "execution_count": 27,
   "metadata": {},
   "outputs": [
    {
     "data": {
      "text/plain": [
       "array([[19, 22],\n",
       "       [43, 50]])"
      ]
     },
     "execution_count": 27,
     "metadata": {},
     "output_type": "execute_result"
    }
   ],
   "source": [
    "A = np.array([[1, 2], [3, 4]])\n",
    "B = np.array([[5, 6], [7, 8]])\n",
    "result = np.dot(A, B)\n",
    "result"
   ]
  },
  {
   "cell_type": "code",
   "execution_count": 28,
   "metadata": {},
   "outputs": [
    {
     "data": {
      "text/plain": [
       "array([[19, 22],\n",
       "       [43, 50]])"
      ]
     },
     "execution_count": 28,
     "metadata": {},
     "output_type": "execute_result"
    }
   ],
   "source": [
    "A = np.array([[1, 2], [3, 4]])\n",
    "B = np.array([[5, 6], [7, 8]])\n",
    "result = A @ B\n",
    "result"
   ]
  },
  {
   "cell_type": "code",
   "execution_count": null,
   "metadata": {},
   "outputs": [],
   "source": []
  }
 ],
 "metadata": {
  "kernelspec": {
   "display_name": "trading",
   "language": "python",
   "name": "trading"
  },
  "language_info": {
   "codemirror_mode": {
    "name": "ipython",
    "version": 3
   },
   "file_extension": ".py",
   "mimetype": "text/x-python",
   "name": "python",
   "nbconvert_exporter": "python",
   "pygments_lexer": "ipython3",
   "version": "3.8.8"
  }
 },
 "nbformat": 4,
 "nbformat_minor": 2
}
