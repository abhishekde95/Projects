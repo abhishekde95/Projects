{
 "cells": [
  {
   "cell_type": "markdown",
   "metadata": {},
   "source": [
    "## 1. Import libraries"
   ]
  },
  {
   "cell_type": "code",
   "execution_count": 3,
   "metadata": {},
   "outputs": [],
   "source": [
    "import numpy as np\n",
    "import matplotlib.pyplot as plt\n",
    "import pandas as pd   \n",
    "from sklearn.linear_model import LinearRegression, LogisticRegression   "
   ]
  },
  {
   "cell_type": "markdown",
   "metadata": {},
   "source": [
    "## 2. Linear Regression"
   ]
  },
  {
   "cell_type": "code",
   "execution_count": 21,
   "metadata": {},
   "outputs": [],
   "source": [
    "def _add_bias_term(X: np.ndarray) -> np.ndarray:\n",
    "    n = X.shape[0]\n",
    "    return np.hstack([np.ones((n, 1)), X])\n",
    "    \n",
    "\n",
    "# using matrix multiplication\n",
    "class CustomLinearRegression():\n",
    "    def __init__(self) -> None:\n",
    "        self.W = None\n",
    "        \n",
    "        \n",
    "    def fit(self, X, Y) -> None:\n",
    "        \"\"\" \n",
    "        y = X * W    \n",
    "        W = inv(X_t * X) * X_t * Y  \n",
    "        \"\"\"\n",
    "            \n",
    "        # Add bias\n",
    "        X = _add_bias_term(X)\n",
    "        self.W = np.linalg.inv(X.T @ X) @ X.T @ Y\n",
    "        return None\n",
    "        \n",
    "    def predict(self, X: np.ndarray) -> np.ndarray:\n",
    "        X = _add_bias_term(X)\n",
    "        return X @ self.W \n",
    "    \n",
    "    \n",
    "    \n",
    "    \n",
    "class CustomLinearRegressionGD():\n",
    "    \n",
    "    def __init__(self, L2_regul: float = 0.1):\n",
    "        self.L2_regul = L2_regul\n",
    "        self.W = None\n",
    "        \n",
    "        \n",
    "    def fit(self, X: np.ndarray, Y: np.ndarray, lr: float = 0.01, num_iters: int = 1000) -> None:\n",
    "        \n",
    "        # Add checks\n",
    "        if (len(X) != len(Y)) or len(X) ==0:\n",
    "            raise ValueError(\"The number of samples in X and Y should be the same.\")\n",
    "        \n",
    "        if (num_iters<=0) or (lr<=0):\n",
    "            raise ValueError(\"Number of iterations and learning rate should be positive.\")\n",
    "        \n",
    "        # Add bias\n",
    "        X = _add_bias_term(X)\n",
    "        \n",
    "        # Gradient decsent\n",
    "        self.W = np.zeros(X.shape[1])\n",
    "        for i in range(num_iters):\n",
    "            y_pred = np.dot(X, self.W)\n",
    "            \n",
    "            # cost\n",
    "            loss = np.sum((y_pred - y)**2) + (self.L2_regul * np.sum(self.W ** 2))\n",
    "            \n",
    "            # Calculate gradient\n",
    "            gradient = 2 * np.dot(X.T, y_pred-y) + 2 * self.L2_regul * self.W\n",
    "            \n",
    "            # Update weights\n",
    "            self.W -= lr*gradient \n",
    "                        \n",
    "        \n",
    "        return None\n",
    "        \n",
    "        \n",
    "    def predict(self, X: np.ndarray) -> np.ndarray:\n",
    "        return np.dot(_add_bias_term(X), self.W)\n",
    "\n",
    "    "
   ]
  },
  {
   "cell_type": "code",
   "execution_count": 6,
   "metadata": {},
   "outputs": [
    {
     "name": "stdout",
     "output_type": "stream",
     "text": [
      "[3. 1. 2.]\n",
      "[35. 44.]\n"
     ]
    }
   ],
   "source": [
    "# Using the non gradient descent algorithm\n",
    "# Create example input data\n",
    "X = np.array([[2, 2], [4, 5], [7, 8]])\n",
    "y = np.array([9, 17, 26])\n",
    "\n",
    "# Fit linear regression model\n",
    "lr = CustomLinearRegression()\n",
    "lr.fit(X, y)\n",
    "print(lr.W) # [3. 1. 2.]\n",
    "\n",
    "# Make predictions on new data\n",
    "X_new = np.array([[10, 11], [13, 14]])\n",
    "y_pred = lr.predict(X_new)\n",
    "print(y_pred)  # Output: [43. 55.]"
   ]
  },
  {
   "cell_type": "code",
   "execution_count": 25,
   "metadata": {},
   "outputs": [
    {
     "name": "stdout",
     "output_type": "stream",
     "text": [
      "[1.99964292 0.65345474]\n",
      "[2.65309766 3.3065524  3.96000714 4.61346188 5.26691662]\n"
     ]
    }
   ],
   "source": [
    "\n",
    "X = np.array([[1, 2, 3, 4, 5]]).T\n",
    "y = np.array([2, 4, 5, 4, 5])\n",
    "lr = CustomLinearRegressionGD()\n",
    "lr.fit(X, y, lr=0.01, num_iters=10000)\n",
    "print(lr.W)  # Output: [ 1.99964292  0.65345474 ]\n",
    "y_pred = lr.predict(X)\n",
    "print(y_pred) "
   ]
  },
  {
   "cell_type": "code",
   "execution_count": null,
   "metadata": {},
   "outputs": [],
   "source": []
  },
  {
   "cell_type": "code",
   "execution_count": null,
   "metadata": {},
   "outputs": [],
   "source": []
  }
 ],
 "metadata": {
  "kernelspec": {
   "display_name": "trading",
   "language": "python",
   "name": "trading"
  },
  "language_info": {
   "codemirror_mode": {
    "name": "ipython",
    "version": 3
   },
   "file_extension": ".py",
   "mimetype": "text/x-python",
   "name": "python",
   "nbconvert_exporter": "python",
   "pygments_lexer": "ipython3",
   "version": "3.8.8"
  }
 },
 "nbformat": 4,
 "nbformat_minor": 2
}
