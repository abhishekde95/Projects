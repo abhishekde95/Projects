{
 "cells": [
  {
   "cell_type": "markdown",
   "id": "fe897f5a",
   "metadata": {},
   "source": [
    "## 1. Importing libraries"
   ]
  },
  {
   "cell_type": "code",
   "execution_count": 9,
   "id": "a4b663a8",
   "metadata": {},
   "outputs": [],
   "source": [
    "import numpy as np\n",
    "import pandas as pd\n",
    "import matplotlib.pyplot as plt\n",
    "from lifelines import KaplanMeierFitter"
   ]
  },
  {
   "cell_type": "code",
   "execution_count": 27,
   "id": "a195eb12",
   "metadata": {},
   "outputs": [],
   "source": [
    "import lifelines"
   ]
  },
  {
   "cell_type": "code",
   "execution_count": 2,
   "id": "f9745638",
   "metadata": {},
   "outputs": [
    {
     "name": "stdout",
     "output_type": "stream",
     "text": [
      "<class 'pandas.core.frame.DataFrame'>\n",
      "RangeIndex: 103 entries, 0 to 102\n",
      "Data columns (total 11 columns):\n",
      " #   Column                       Non-Null Count  Dtype  \n",
      "---  ------                       --------------  -----  \n",
      " 0   PATIENT_ID                   103 non-null    int64  \n",
      " 1   YR_OF_ACCEPTANCE             103 non-null    int64  \n",
      " 2   AGE                          103 non-null    int64  \n",
      " 3   SURVIVAL_STATUS              103 non-null    int64  \n",
      " 4   SURVIVAL_TIME                103 non-null    int64  \n",
      " 5   PRIOR_SURGERY                103 non-null    int64  \n",
      " 6   TRANSPLANT_STATUS            103 non-null    int64  \n",
      " 7   WAITING_TIME_FOR_TRANSPLANT  69 non-null     float64\n",
      " 8   MISMATCH_ON_ALLELES          69 non-null     float64\n",
      " 9   MISMATCH_ON_ANTIGEN          69 non-null     float64\n",
      " 10  MISMATCH_SCORE               43 non-null     float64\n",
      "dtypes: float64(4), int64(7)\n",
      "memory usage: 9.0 KB\n"
     ]
    }
   ],
   "source": [
    "## Get Data\n",
    "df = pd.read_csv(\"stanford_heart_transplant_dataset_full.csv\")\n",
    "df.info()"
   ]
  },
  {
   "cell_type": "code",
   "execution_count": 3,
   "id": "785f2c46",
   "metadata": {},
   "outputs": [
    {
     "data": {
      "text/html": [
       "<div>\n",
       "<style scoped>\n",
       "    .dataframe tbody tr th:only-of-type {\n",
       "        vertical-align: middle;\n",
       "    }\n",
       "\n",
       "    .dataframe tbody tr th {\n",
       "        vertical-align: top;\n",
       "    }\n",
       "\n",
       "    .dataframe thead th {\n",
       "        text-align: right;\n",
       "    }\n",
       "</style>\n",
       "<table border=\"1\" class=\"dataframe\">\n",
       "  <thead>\n",
       "    <tr style=\"text-align: right;\">\n",
       "      <th></th>\n",
       "      <th>PATIENT_ID</th>\n",
       "      <th>YR_OF_ACCEPTANCE</th>\n",
       "      <th>AGE</th>\n",
       "      <th>SURVIVAL_STATUS</th>\n",
       "      <th>SURVIVAL_TIME</th>\n",
       "      <th>PRIOR_SURGERY</th>\n",
       "      <th>TRANSPLANT_STATUS</th>\n",
       "      <th>WAITING_TIME_FOR_TRANSPLANT</th>\n",
       "      <th>MISMATCH_ON_ALLELES</th>\n",
       "      <th>MISMATCH_ON_ANTIGEN</th>\n",
       "      <th>MISMATCH_SCORE</th>\n",
       "    </tr>\n",
       "  </thead>\n",
       "  <tbody>\n",
       "    <tr>\n",
       "      <th>0</th>\n",
       "      <td>15</td>\n",
       "      <td>68</td>\n",
       "      <td>53</td>\n",
       "      <td>1</td>\n",
       "      <td>1</td>\n",
       "      <td>0</td>\n",
       "      <td>0</td>\n",
       "      <td>NaN</td>\n",
       "      <td>NaN</td>\n",
       "      <td>NaN</td>\n",
       "      <td>NaN</td>\n",
       "    </tr>\n",
       "    <tr>\n",
       "      <th>1</th>\n",
       "      <td>43</td>\n",
       "      <td>70</td>\n",
       "      <td>43</td>\n",
       "      <td>1</td>\n",
       "      <td>2</td>\n",
       "      <td>0</td>\n",
       "      <td>0</td>\n",
       "      <td>NaN</td>\n",
       "      <td>NaN</td>\n",
       "      <td>NaN</td>\n",
       "      <td>NaN</td>\n",
       "    </tr>\n",
       "    <tr>\n",
       "      <th>2</th>\n",
       "      <td>61</td>\n",
       "      <td>71</td>\n",
       "      <td>52</td>\n",
       "      <td>1</td>\n",
       "      <td>2</td>\n",
       "      <td>0</td>\n",
       "      <td>0</td>\n",
       "      <td>NaN</td>\n",
       "      <td>NaN</td>\n",
       "      <td>NaN</td>\n",
       "      <td>NaN</td>\n",
       "    </tr>\n",
       "    <tr>\n",
       "      <th>3</th>\n",
       "      <td>75</td>\n",
       "      <td>72</td>\n",
       "      <td>52</td>\n",
       "      <td>1</td>\n",
       "      <td>2</td>\n",
       "      <td>0</td>\n",
       "      <td>0</td>\n",
       "      <td>NaN</td>\n",
       "      <td>NaN</td>\n",
       "      <td>NaN</td>\n",
       "      <td>NaN</td>\n",
       "    </tr>\n",
       "    <tr>\n",
       "      <th>4</th>\n",
       "      <td>6</td>\n",
       "      <td>68</td>\n",
       "      <td>54</td>\n",
       "      <td>1</td>\n",
       "      <td>3</td>\n",
       "      <td>0</td>\n",
       "      <td>0</td>\n",
       "      <td>NaN</td>\n",
       "      <td>NaN</td>\n",
       "      <td>NaN</td>\n",
       "      <td>NaN</td>\n",
       "    </tr>\n",
       "  </tbody>\n",
       "</table>\n",
       "</div>"
      ],
      "text/plain": [
       "   PATIENT_ID  YR_OF_ACCEPTANCE  AGE  SURVIVAL_STATUS  SURVIVAL_TIME  \\\n",
       "0          15                68   53                1              1   \n",
       "1          43                70   43                1              2   \n",
       "2          61                71   52                1              2   \n",
       "3          75                72   52                1              2   \n",
       "4           6                68   54                1              3   \n",
       "\n",
       "   PRIOR_SURGERY  TRANSPLANT_STATUS  WAITING_TIME_FOR_TRANSPLANT  \\\n",
       "0              0                  0                          NaN   \n",
       "1              0                  0                          NaN   \n",
       "2              0                  0                          NaN   \n",
       "3              0                  0                          NaN   \n",
       "4              0                  0                          NaN   \n",
       "\n",
       "   MISMATCH_ON_ALLELES  MISMATCH_ON_ANTIGEN  MISMATCH_SCORE  \n",
       "0                  NaN                  NaN             NaN  \n",
       "1                  NaN                  NaN             NaN  \n",
       "2                  NaN                  NaN             NaN  \n",
       "3                  NaN                  NaN             NaN  \n",
       "4                  NaN                  NaN             NaN  "
      ]
     },
     "execution_count": 3,
     "metadata": {},
     "output_type": "execute_result"
    }
   ],
   "source": [
    "df.head(5)"
   ]
  },
  {
   "cell_type": "code",
   "execution_count": 5,
   "id": "ce371694",
   "metadata": {},
   "outputs": [
    {
     "data": {
      "text/plain": [
       "AGE\n",
       "8      1\n",
       "19     1\n",
       "20     2\n",
       "23     1\n",
       "26     2\n",
       "28     1\n",
       "29     2\n",
       "30     2\n",
       "32     1\n",
       "33     1\n",
       "35     1\n",
       "36     3\n",
       "38     1\n",
       "39     2\n",
       "40     4\n",
       "41     5\n",
       "42     4\n",
       "43     4\n",
       "44     2\n",
       "45     4\n",
       "46     2\n",
       "47    11\n",
       "48     8\n",
       "49     4\n",
       "50     3\n",
       "51     4\n",
       "52     7\n",
       "53     7\n",
       "54     5\n",
       "55     1\n",
       "56     3\n",
       "58     1\n",
       "59     1\n",
       "61     1\n",
       "64     1\n",
       "Name: count, dtype: int64"
      ]
     },
     "execution_count": 5,
     "metadata": {},
     "output_type": "execute_result"
    }
   ],
   "source": [
    "df.AGE.value_counts().sort_index()"
   ]
  },
  {
   "cell_type": "code",
   "execution_count": 8,
   "id": "0274a8b2",
   "metadata": {},
   "outputs": [
    {
     "data": {
      "text/plain": [
       "SURVIVAL_TIME  SURVIVAL_STATUS\n",
       "1              1                  1\n",
       "2              1                  3\n",
       "3              1                  3\n",
       "5              1                  2\n",
       "6              1                  2\n",
       "                                 ..\n",
       "1400           0                  1\n",
       "1407           0                  1\n",
       "1571           0                  1\n",
       "1586           0                  1\n",
       "1799           0                  1\n",
       "Name: count, Length: 90, dtype: int64"
      ]
     },
     "execution_count": 8,
     "metadata": {},
     "output_type": "execute_result"
    }
   ],
   "source": [
    "df.groupby(\"SURVIVAL_TIME\").SURVIVAL_STATUS.value_counts()"
   ]
  },
  {
   "cell_type": "markdown",
   "id": "651908ad",
   "metadata": {},
   "source": [
    "## Model Fitting"
   ]
  },
  {
   "cell_type": "markdown",
   "id": "11f8f425",
   "metadata": {},
   "source": [
    "### Agnostic to boolean variable: have/ haven't had prior heart surgery"
   ]
  },
  {
   "cell_type": "code",
   "execution_count": 10,
   "id": "e111caa2",
   "metadata": {},
   "outputs": [
    {
     "name": "stdout",
     "output_type": "stream",
     "text": [
      "\u001b[0;31mType:\u001b[0m        KaplanMeierFitter\n",
      "\u001b[0;31mString form:\u001b[0m <lifelines.KaplanMeierFitter>\n",
      "\u001b[0;31mFile:\u001b[0m        ~/Desktop/Projects/.venv/lib/python3.8/site-packages/lifelines/fitters/kaplan_meier_fitter.py\n",
      "\u001b[0;31mDocstring:\u001b[0m  \n",
      "Class for fitting the Kaplan-Meier estimate for the survival function.\n",
      "\n",
      "Parameters\n",
      "----------\n",
      "alpha: float, optional (default=0.05)\n",
      "    The alpha value associated with the confidence intervals.\n",
      "label: string, optional\n",
      "    Provide a new label for the estimate - useful if looking at many groups.\n",
      "\n",
      "Examples\n",
      "--------\n",
      ".. code:: python\n",
      "\n",
      "    from lifelines import KaplanMeierFitter\n",
      "    from lifelines.datasets import load_waltons\n",
      "    waltons = load_waltons()\n",
      "\n",
      "    kmf = KaplanMeierFitter(label=\"waltons_data\")\n",
      "    kmf.fit(waltons['T'], waltons['E'])\n",
      "    kmf.plot()\n",
      "\n",
      "\n",
      "Attributes\n",
      "----------\n",
      "survival_function_ : DataFrame\n",
      "    The estimated survival function (with custom timeline if provided)\n",
      "median_survival_time_ : float\n",
      "    The estimated median time to event. np.inf if doesn't exist.\n",
      "confidence_interval_ : DataFrame\n",
      "    The lower and upper confidence intervals for the survival function. An alias of\n",
      "    ``confidence_interval_survival_function_``. Uses Greenwood's Exponential formula (\"log-log\" in R).\n",
      "confidence_interval_survival_function_ : DataFrame\n",
      "    The lower and upper confidence intervals for the survival function. An alias of\n",
      "    ``confidence_interval_``. Uses Greenwood's Exponential formula (\"log-log\" in R).\n",
      "cumulative_density_ : DataFrame\n",
      "    The estimated cumulative density function (with custom timeline if provided)\n",
      "confidence_interval_cumulative_density_ : DataFrame\n",
      "    The lower and upper confidence intervals for the cumulative density.\n",
      "durations: array\n",
      "    The durations provided\n",
      "event_observed: array\n",
      "    The event_observed variable provided\n",
      "timeline: array\n",
      "    The time line to use for plotting and indexing\n",
      "entry: array or None\n",
      "    The entry array provided, or None\n",
      "event_table: DataFrame\n",
      "    A summary of the life table"
     ]
    }
   ],
   "source": [
    "kmf = KaplanMeierFitter(label='Stanford heart transplant dataset')\n",
    "kmf?"
   ]
  },
  {
   "cell_type": "code",
   "execution_count": 23,
   "id": "2313f893",
   "metadata": {},
   "outputs": [
    {
     "data": {
      "text/plain": [
       "Text(0, 0.5, 'Survival probability')"
      ]
     },
     "execution_count": 23,
     "metadata": {},
     "output_type": "execute_result"
    },
    {
     "data": {
      "image/png": "[encoded data removed]",
      "text/plain": [
       "<Figure size 1200x600 with 1 Axes>"
      ]
     },
     "metadata": {},
     "output_type": "display_data"
    }
   ],
   "source": [
    "kmf = kmf.fit(durations=df['SURVIVAL_TIME'], event_observed=df['SURVIVAL_STATUS'])\n",
    "predict_val = kmf.predict(6)\n",
    "\n",
    "fig, ax = plt.subplots(figsize=(12,6))\n",
    "ax = kmf.plot()\n",
    "ax.plot(6, 0.9126, color='red', marker='x', markeredgewidth=1, markersize=10)\n",
    "ax.set_xlim(0,None)\n",
    "ax.spines[[\"top\", \"right\"]].set_visible(False)\n",
    "ax.set_ylabel(\"Survival probability\", fontsize=15)"
   ]
  },
  {
   "cell_type": "markdown",
   "id": "a121ca6a",
   "metadata": {},
   "source": [
    "### Sensitive to the prior surgery"
   ]
  },
  {
   "cell_type": "code",
   "execution_count": 24,
   "id": "2dea3a3c",
   "metadata": {},
   "outputs": [],
   "source": [
    "idx = df['PRIOR_SURGERY'] == 1"
   ]
  },
  {
   "cell_type": "code",
   "execution_count": 25,
   "id": "232f2046",
   "metadata": {},
   "outputs": [],
   "source": [
    "kmf_w_prior_surgery = KaplanMeierFitter(label='Group with prior heart surgery').fit(\n",
    "    durations=df[idx]['SURVIVAL_TIME'], event_observed=df[idx]['SURVIVAL_STATUS'])\n",
    "\n",
    "kmf_wo_prior_surgery = KaplanMeierFitter(label='Group with prior heart surgery').fit(\n",
    "    durations=df[~idx]['SURVIVAL_TIME'], event_observed=df[~idx]['SURVIVAL_STATUS'])"
   ]
  },
  {
   "cell_type": "code",
   "execution_count": 26,
   "id": "b585babb",
   "metadata": {},
   "outputs": [
    {
     "data": {
      "text/plain": [
       "Text(0, 0.5, 'Survival probability')"
      ]
     },
     "execution_count": 26,
     "metadata": {},
     "output_type": "execute_result"
    },
    {
     "data": {
      "image/png": "[encoded data removed]",
      "text/plain": [
       "<Figure size 1200x600 with 1 Axes>"
      ]
     },
     "metadata": {},
     "output_type": "display_data"
    }
   ],
   "source": [
    "fig, ax = plt.subplots(figsize=(12,6))\n",
    "ax = kmf_w_prior_surgery.plot()\n",
    "ax = kmf_wo_prior_surgery.plot()\n",
    "ax.set_xlim(0,None)\n",
    "ax.spines[[\"top\", \"right\"]].set_visible(False)\n",
    "ax.set_ylabel(\"Survival probability\", fontsize=15)\n",
    "\n"
   ]
  },
  {
   "cell_type": "code",
   "execution_count": 31,
   "id": "20172eb0",
   "metadata": {},
   "outputs": [
    {
     "name": "stdout",
     "output_type": "stream",
     "text": [
      "\u001b[0;31mSignature:\u001b[0m\n",
      "\u001b[0mlifelines\u001b[0m\u001b[0;34m.\u001b[0m\u001b[0mstatistics\u001b[0m\u001b[0;34m.\u001b[0m\u001b[0msurvival_difference_at_fixed_point_in_time_test\u001b[0m\u001b[0;34m(\u001b[0m\u001b[0;34m\u001b[0m\n",
      "\u001b[0;34m\u001b[0m    \u001b[0mpoint_in_time\u001b[0m\u001b[0;34m,\u001b[0m\u001b[0;34m\u001b[0m\n",
      "\u001b[0;34m\u001b[0m    \u001b[0mfitterA\u001b[0m\u001b[0;34m,\u001b[0m\u001b[0;34m\u001b[0m\n",
      "\u001b[0;34m\u001b[0m    \u001b[0mfitterB\u001b[0m\u001b[0;34m,\u001b[0m\u001b[0;34m\u001b[0m\n",
      "\u001b[0;34m\u001b[0m    \u001b[0;34m**\u001b[0m\u001b[0mresult_kwargs\u001b[0m\u001b[0;34m,\u001b[0m\u001b[0;34m\u001b[0m\n",
      "\u001b[0;34m\u001b[0m\u001b[0;34m)\u001b[0m \u001b[0;34m->\u001b[0m \u001b[0mlifelines\u001b[0m\u001b[0;34m.\u001b[0m\u001b[0mstatistics\u001b[0m\u001b[0;34m.\u001b[0m\u001b[0mStatisticalResult\u001b[0m\u001b[0;34m\u001b[0m\u001b[0;34m\u001b[0m\u001b[0m\n",
      "\u001b[0;31mDocstring:\u001b[0m\n",
      "Often analysts want to compare the survival-ness of groups at specific times, rather than comparing the entire survival curves against each other.\n",
      "For example, analysts may be interested in 5-year survival. Statistically comparing the naive Kaplan-Meier points at a specific time\n",
      "actually has reduced power (see [1]). By transforming the survival function, we can recover more power. This function uses\n",
      "the log(-log(·)) transformation.\n",
      "\n",
      "\n",
      "Parameters\n",
      "----------\n",
      "point_in_time: float,\n",
      "    the point in time to analyze the survival curves at.\n",
      "\n",
      "fitterA:\n",
      "    A lifelines univariate model fitted to the data. This can be a ``KaplanMeierFitter``, ``WeibullFitter``, etc.\n",
      "\n",
      "fitterB:\n",
      "    the second lifelines model to compare against.\n",
      "\n",
      "result_kwargs:\n",
      "    add keywords and meta-data to the experiment summary\n",
      "\n",
      "Returns\n",
      "-------\n",
      "\n",
      "StatisticalResult\n",
      "  a StatisticalResult object with properties ``p_value``, ``summary``, ``test_statistic``, ``print_summary``\n",
      "\n",
      "Examples\n",
      "--------\n",
      ".. code:: python\n",
      "\n",
      "    T1 = [1, 4, 10, 12, 12, 3, 5.4]\n",
      "    E1 = [1, 0, 1,  0,  1,  1, 1]\n",
      "    kmf1 = KaplanMeierFitter().fit(T1, E1)\n",
      "\n",
      "    T2 = [4, 5, 7, 11, 14, 20, 8, 8]\n",
      "    E2 = [1, 1, 1, 1,  1,  1,  1, 1]\n",
      "    kmf2 = KaplanMeierFitter().fit(T2, E2)\n",
      "\n",
      "    from lifelines.statistics import survival_difference_at_fixed_point_in_time_test\n",
      "    results = survival_difference_at_fixed_point_in_time_test(12.0, kmf1, kmf2)\n",
      "\n",
      "    results.print_summary()\n",
      "    print(results.p_value)        # 0.77\n",
      "    print(results.test_statistic) # 0.09\n",
      "\n",
      "Notes\n",
      "-----\n",
      "1. Other transformations are possible, but Klein et al. [1] showed that the log(-log(·)) transform has the most desirable\n",
      "statistical properties.\n",
      "\n",
      "2. The API of this function changed in v0.25.3. This new API allows for right, left and interval censoring models to be tested.\n",
      "\n",
      "\n",
      "References\n",
      "-----------\n",
      "\n",
      "[1] Klein, J. P., Logan, B. , Harhoff, M. and Andersen, P. K. (2007), Analyzing survival curves at a fixed point in time. Statist. Med., 26: 4505-4519. doi:10.1002/sim.2864\n",
      "\u001b[0;31mFile:\u001b[0m      ~/Desktop/Projects/.venv/lib/python3.8/site-packages/lifelines/statistics.py\n",
      "\u001b[0;31mType:\u001b[0m      function"
     ]
    }
   ],
   "source": [
    "lifelines.statistics.survival_difference_at_fixed_point_in_time_test?"
   ]
  },
  {
   "cell_type": "code",
   "execution_count": 32,
   "id": "db157cf6",
   "metadata": {},
   "outputs": [
    {
     "data": {
      "text/html": [
       "<div>\n",
       "<style scoped>\n",
       "    .dataframe tbody tr th:only-of-type {\n",
       "        vertical-align: middle;\n",
       "    }\n",
       "\n",
       "    .dataframe tbody tr th {\n",
       "        vertical-align: top;\n",
       "    }\n",
       "\n",
       "    .dataframe thead th {\n",
       "        text-align: right;\n",
       "    }\n",
       "</style>\n",
       "<table border=\"1\" class=\"dataframe\">\n",
       "  <tbody>\n",
       "    <tr>\n",
       "      <th>null_distribution</th>\n",
       "      <td>chi squared</td>\n",
       "    </tr>\n",
       "    <tr>\n",
       "      <th>degrees_of_freedom</th>\n",
       "      <td>1</td>\n",
       "    </tr>\n",
       "    <tr>\n",
       "      <th>point_in_time</th>\n",
       "      <td>365</td>\n",
       "    </tr>\n",
       "    <tr>\n",
       "      <th>fitterA</th>\n",
       "      <td>&lt;lifelines.KaplanMeierFitter:\"Group with prior...</td>\n",
       "    </tr>\n",
       "    <tr>\n",
       "      <th>fitterB</th>\n",
       "      <td>&lt;lifelines.KaplanMeierFitter:\"Group with prior...</td>\n",
       "    </tr>\n",
       "    <tr>\n",
       "      <th>test_name</th>\n",
       "      <td>survival_difference_at_fixed_point_in_time_test</td>\n",
       "    </tr>\n",
       "  </tbody>\n",
       "</table>\n",
       "</div><table border=\"1\" class=\"dataframe\">\n",
       "  <thead>\n",
       "    <tr style=\"text-align: right;\">\n",
       "      <th></th>\n",
       "      <th>test_statistic</th>\n",
       "      <th>p</th>\n",
       "      <th>-log2(p)</th>\n",
       "    </tr>\n",
       "  </thead>\n",
       "  <tbody>\n",
       "    <tr>\n",
       "      <th>0</th>\n",
       "      <td>5.65</td>\n",
       "      <td>0.02</td>\n",
       "      <td>5.84</td>\n",
       "    </tr>\n",
       "  </tbody>\n",
       "</table>"
      ],
      "text/latex": [
       "\\begin{tabular}{lrrr}\n",
       " & test_statistic & p & -log2(p) \\\\\n",
       "0 & 5.65 & 0.02 & 5.84 \\\\\n",
       "\\end{tabular}\n"
      ],
      "text/plain": [
       "<lifelines.StatisticalResult: survival_difference_at_fixed_point_in_time_test>\n",
       " null_distribution = chi squared\n",
       "degrees_of_freedom = 1\n",
       "     point_in_time = 365\n",
       "           fitterA = <lifelines.KaplanMeierFitter:\"Group with prior heart surgery\", fitted with 12 total observations, 6 right-censored observations>\n",
       "           fitterB = <lifelines.KaplanMeierFitter:\"Group with prior heart surgery\", fitted with 91 total observations, 22 right-censored observations>\n",
       "         test_name = survival_difference_at_fixed_point_in_time_test\n",
       "\n",
       "---\n",
       " test_statistic    p  -log2(p)\n",
       "           5.65 0.02      5.84"
      ]
     },
     "execution_count": 32,
     "metadata": {},
     "output_type": "execute_result"
    }
   ],
   "source": [
    "lifelines.statistics.survival_difference_at_fixed_point_in_time_test(\n",
    "    point_in_time=365,\n",
    "    fitterA = kmf_w_prior_surgery,\n",
    "    fitterB = kmf_wo_prior_surgery)"
   ]
  },
  {
   "cell_type": "code",
   "execution_count": null,
   "id": "7172154c",
   "metadata": {},
   "outputs": [],
   "source": []
  }
 ],
 "metadata": {
  "kernelspec": {
   "display_name": "trading",
   "language": "python",
   "name": "trading"
  },
  "language_info": {
   "codemirror_mode": {
    "name": "ipython",
    "version": 3
   },
   "file_extension": ".py",
   "mimetype": "text/x-python",
   "name": "python",
   "nbconvert_exporter": "python",
   "pygments_lexer": "ipython3",
   "version": "3.8.8"
  }
 },
 "nbformat": 4,
 "nbformat_minor": 5
}
