{
 "cells": [
  {
   "cell_type": "markdown",
   "metadata": {},
   "source": [
    "## 1. Importing libraries"
   ]
  },
  {
   "cell_type": "code",
   "execution_count": 31,
   "metadata": {},
   "outputs": [],
   "source": [
    "import torch\n",
    "import numpy as np\n",
    "import torch.nn as nn\n",
    "import torch.nn.functional as F\n",
    "from torch.utils.data import DataLoader, Dataset"
   ]
  },
  {
   "cell_type": "markdown",
   "metadata": {},
   "source": [
    "## 2. Torch exploration"
   ]
  },
  {
   "cell_type": "markdown",
   "metadata": {},
   "source": [
    "### 2.1 Tensores"
   ]
  },
  {
   "cell_type": "code",
   "execution_count": 2,
   "metadata": {},
   "outputs": [
    {
     "data": {
      "text/plain": [
       "tensor([[0., 0., 0., 0., 0.],\n",
       "        [0., 0., 0., 0., 0.],\n",
       "        [0., 0., 0., 0., 0.],\n",
       "        [0., 0., 0., 0., 0.],\n",
       "        [0., 0., 0., 0., 0.]])"
      ]
     },
     "execution_count": 2,
     "metadata": {},
     "output_type": "execute_result"
    }
   ],
   "source": [
    "d =torch.zeros((5,5))\n",
    "d"
   ]
  },
  {
   "cell_type": "code",
   "execution_count": 74,
   "metadata": {},
   "outputs": [
    {
     "name": "stdout",
     "output_type": "stream",
     "text": [
      "\u001b[0;31mDocstring:\u001b[0m\n",
      "zeros(*size, *, out=None, dtype=None, layout=torch.strided, device=None, requires_grad=False) -> Tensor\n",
      "\n",
      "Returns a tensor filled with the scalar value `0`, with the shape defined\n",
      "by the variable argument :attr:`size`.\n",
      "\n",
      "Args:\n",
      "    size (int...): a sequence of integers defining the shape of the output tensor.\n",
      "        Can be a variable number of arguments or a collection like a list or tuple.\n",
      "\n",
      "Keyword args:\n",
      "    out (Tensor, optional): the output tensor.\n",
      "    dtype (:class:`torch.dtype`, optional): the desired data type of returned tensor.\n",
      "        Default: if ``None``, uses a global default (see :func:`torch.set_default_dtype`).\n",
      "    layout (:class:`torch.layout`, optional): the desired layout of returned Tensor.\n",
      "        Default: ``torch.strided``.\n",
      "    device (:class:`torch.device`, optional): the desired device of returned tensor.\n",
      "        Default: if ``None``, uses the current device for the default tensor type\n",
      "        (see :func:`torch.set_default_device`). :attr:`device` will be the CPU\n",
      "        for CPU tensor types and the current CUDA device for CUDA tensor types.\n",
      "    requires_grad (bool, optional): If autograd should record operations on the\n",
      "        returned tensor. Default: ``False``.\n",
      "\n",
      "Example::\n",
      "\n",
      "    >>> torch.zeros(2, 3)\n",
      "    tensor([[ 0.,  0.,  0.],\n",
      "            [ 0.,  0.,  0.]])\n",
      "\n",
      "    >>> torch.zeros(5)\n",
      "    tensor([ 0.,  0.,  0.,  0.,  0.])\n",
      "\u001b[0;31mType:\u001b[0m      builtin_function_or_method"
     ]
    }
   ],
   "source": [
    "torch.zeros?\n",
    "# Keep an eye for device and requires_grad"
   ]
  },
  {
   "cell_type": "code",
   "execution_count": 4,
   "metadata": {},
   "outputs": [
    {
     "data": {
      "text/plain": [
       "torch.Tensor"
      ]
     },
     "execution_count": 4,
     "metadata": {},
     "output_type": "execute_result"
    }
   ],
   "source": [
    "type(d)"
   ]
  },
  {
   "cell_type": "code",
   "execution_count": 7,
   "metadata": {},
   "outputs": [],
   "source": [
    "tensor = torch.tensor([[1, 2, 3], [4, 5, 6]])"
   ]
  },
  {
   "cell_type": "code",
   "execution_count": 8,
   "metadata": {},
   "outputs": [
    {
     "data": {
      "text/plain": [
       "array([[1, 2, 3],\n",
       "       [4, 5, 6]])"
      ]
     },
     "execution_count": 8,
     "metadata": {},
     "output_type": "execute_result"
    }
   ],
   "source": [
    "tensor.numpy()"
   ]
  },
  {
   "cell_type": "code",
   "execution_count": 9,
   "metadata": {},
   "outputs": [
    {
     "name": "stdout",
     "output_type": "stream",
     "text": [
      "\u001b[0;31mInit signature:\u001b[0m \u001b[0mtorch\u001b[0m\u001b[0;34m.\u001b[0m\u001b[0mTensor\u001b[0m\u001b[0;34m(\u001b[0m\u001b[0mself\u001b[0m\u001b[0;34m,\u001b[0m \u001b[0;34m/\u001b[0m\u001b[0;34m,\u001b[0m \u001b[0;34m*\u001b[0m\u001b[0margs\u001b[0m\u001b[0;34m,\u001b[0m \u001b[0;34m**\u001b[0m\u001b[0mkwargs\u001b[0m\u001b[0;34m)\u001b[0m\u001b[0;34m\u001b[0m\u001b[0;34m\u001b[0m\u001b[0m\n",
      "\u001b[0;31mDocstring:\u001b[0m      <no docstring>\n",
      "\u001b[0;31mFile:\u001b[0m           ~/Desktop/Projects/.venv/lib/python3.8/site-packages/torch/__init__.py\n",
      "\u001b[0;31mType:\u001b[0m           _TensorMeta\n",
      "\u001b[0;31mSubclasses:\u001b[0m     SparseSemiStructuredTensor, Parameter, UninitializedBuffer, MaskedTensor, FakeTensor, FunctionalTensor"
     ]
    }
   ],
   "source": [
    "torch.Tensor?"
   ]
  },
  {
   "cell_type": "code",
   "execution_count": 18,
   "metadata": {},
   "outputs": [
    {
     "data": {
      "text/plain": [
       "array([1., 2., 3.], dtype=float32)"
      ]
     },
     "execution_count": 18,
     "metadata": {},
     "output_type": "execute_result"
    }
   ],
   "source": [
    "m = torch.Tensor([1,2,3])\n",
    "m.numpy()"
   ]
  },
  {
   "cell_type": "code",
   "execution_count": 17,
   "metadata": {},
   "outputs": [
    {
     "data": {
      "text/plain": [
       "array([1, 2, 3])"
      ]
     },
     "execution_count": 17,
     "metadata": {},
     "output_type": "execute_result"
    }
   ],
   "source": []
  },
  {
   "cell_type": "code",
   "execution_count": 10,
   "metadata": {},
   "outputs": [
    {
     "name": "stdout",
     "output_type": "stream",
     "text": [
      "\u001b[0;31mDocstring:\u001b[0m\n",
      "tensor(data, *, dtype=None, device=None, requires_grad=False, pin_memory=False) -> Tensor\n",
      "\n",
      "Constructs a tensor with no autograd history (also known as a \"leaf tensor\", see :doc:`/notes/autograd`) by copying :attr:`data`.\n",
      "\n",
      ".. warning::\n",
      "\n",
      "    When working with tensors prefer using :func:`torch.Tensor.clone`,\n",
      "    :func:`torch.Tensor.detach`, and :func:`torch.Tensor.requires_grad_` for\n",
      "    readability. Letting `t` be a tensor, ``torch.tensor(t)`` is equivalent to\n",
      "    ``t.clone().detach()``, and ``torch.tensor(t, requires_grad=True)``\n",
      "    is equivalent to ``t.clone().detach().requires_grad_(True)``.\n",
      "\n",
      ".. seealso::\n",
      "\n",
      "    :func:`torch.as_tensor` preserves autograd history and avoids copies where possible.\n",
      "    :func:`torch.from_numpy` creates a tensor that shares storage with a NumPy array.\n",
      "\n",
      "Args:\n",
      "    data (array_like): Initial data for the tensor. Can be a list, tuple,\n",
      "        NumPy ``ndarray``, scalar, and other types.\n",
      "\n",
      "Keyword args:\n",
      "    dtype (:class:`torch.dtype`, optional): the desired data type of returned tensor.\n",
      "        Default: if ``None``, infers data type from :attr:`data`.\n",
      "    device (:class:`torch.device`, optional): the device of the constructed tensor. If None and data is a tensor\n",
      "        then the device of data is used. If None and data is not a tensor then\n",
      "        the result tensor is constructed on the current device.\n",
      "    requires_grad (bool, optional): If autograd should record operations on the\n",
      "        returned tensor. Default: ``False``.\n",
      "    pin_memory (bool, optional): If set, returned tensor would be allocated in\n",
      "        the pinned memory. Works only for CPU tensors. Default: ``False``.\n",
      "\n",
      "\n",
      "Example::\n",
      "\n",
      "    >>> torch.tensor([[0.1, 1.2], [2.2, 3.1], [4.9, 5.2]])\n",
      "    tensor([[ 0.1000,  1.2000],\n",
      "            [ 2.2000,  3.1000],\n",
      "            [ 4.9000,  5.2000]])\n",
      "\n",
      "    >>> torch.tensor([0, 1])  # Type inference on data\n",
      "    tensor([ 0,  1])\n",
      "\n",
      "    >>> torch.tensor([[0.11111, 0.222222, 0.3333333]],\n",
      "    ...              dtype=torch.float64,\n",
      "    ...              device=torch.device('cuda:0'))  # creates a double tensor on a CUDA device\n",
      "    tensor([[ 0.1111,  0.2222,  0.3333]], dtype=torch.float64, device='cuda:0')\n",
      "\n",
      "    >>> torch.tensor(3.14159)  # Create a zero-dimensional (scalar) tensor\n",
      "    tensor(3.1416)\n",
      "\n",
      "    >>> torch.tensor([])  # Create an empty tensor (of size (0,))\n",
      "    tensor([])\n",
      "\u001b[0;31mType:\u001b[0m      builtin_function_or_method"
     ]
    }
   ],
   "source": [
    "torch.tensor?"
   ]
  },
  {
   "cell_type": "markdown",
   "metadata": {},
   "source": [
    "### 2.2 nn"
   ]
  },
  {
   "cell_type": "code",
   "execution_count": 19,
   "metadata": {},
   "outputs": [
    {
     "name": "stdout",
     "output_type": "stream",
     "text": [
      "\u001b[0;31mType:\u001b[0m        module\n",
      "\u001b[0;31mString form:\u001b[0m <module 'torch.nn' from '/Users/abhishekde/Desktop/Projects/.venv/lib/python3.8/site-packages/torch/nn/__init__.py'>\n",
      "\u001b[0;31mFile:\u001b[0m        ~/Desktop/Projects/.venv/lib/python3.8/site-packages/torch/nn/__init__.py\n",
      "\u001b[0;31mDocstring:\u001b[0m   <no docstring>"
     ]
    }
   ],
   "source": [
    "nn?"
   ]
  },
  {
   "cell_type": "code",
   "execution_count": 20,
   "metadata": {},
   "outputs": [
    {
     "name": "stdout",
     "output_type": "stream",
     "text": [
      "\u001b[0;31mInit signature:\u001b[0m\n",
      "\u001b[0mnn\u001b[0m\u001b[0;34m.\u001b[0m\u001b[0mLinear\u001b[0m\u001b[0;34m(\u001b[0m\u001b[0;34m\u001b[0m\n",
      "\u001b[0;34m\u001b[0m    \u001b[0min_features\u001b[0m\u001b[0;34m:\u001b[0m \u001b[0mint\u001b[0m\u001b[0;34m,\u001b[0m\u001b[0;34m\u001b[0m\n",
      "\u001b[0;34m\u001b[0m    \u001b[0mout_features\u001b[0m\u001b[0;34m:\u001b[0m \u001b[0mint\u001b[0m\u001b[0;34m,\u001b[0m\u001b[0;34m\u001b[0m\n",
      "\u001b[0;34m\u001b[0m    \u001b[0mbias\u001b[0m\u001b[0;34m:\u001b[0m \u001b[0mbool\u001b[0m \u001b[0;34m=\u001b[0m \u001b[0;32mTrue\u001b[0m\u001b[0;34m,\u001b[0m\u001b[0;34m\u001b[0m\n",
      "\u001b[0;34m\u001b[0m    \u001b[0mdevice\u001b[0m\u001b[0;34m=\u001b[0m\u001b[0;32mNone\u001b[0m\u001b[0;34m,\u001b[0m\u001b[0;34m\u001b[0m\n",
      "\u001b[0;34m\u001b[0m    \u001b[0mdtype\u001b[0m\u001b[0;34m=\u001b[0m\u001b[0;32mNone\u001b[0m\u001b[0;34m,\u001b[0m\u001b[0;34m\u001b[0m\n",
      "\u001b[0;34m\u001b[0m\u001b[0;34m)\u001b[0m \u001b[0;34m->\u001b[0m \u001b[0;32mNone\u001b[0m\u001b[0;34m\u001b[0m\u001b[0;34m\u001b[0m\u001b[0m\n",
      "\u001b[0;31mDocstring:\u001b[0m     \n",
      "Applies a linear transformation to the incoming data: :math:`y = xA^T + b`.\n",
      "\n",
      "This module supports :ref:`TensorFloat32<tf32_on_ampere>`.\n",
      "\n",
      "On certain ROCm devices, when using float16 inputs this module will use :ref:`different precision<fp16_on_mi200>` for backward.\n",
      "\n",
      "Args:\n",
      "    in_features: size of each input sample\n",
      "    out_features: size of each output sample\n",
      "    bias: If set to ``False``, the layer will not learn an additive bias.\n",
      "        Default: ``True``\n",
      "\n",
      "Shape:\n",
      "    - Input: :math:`(*, H_{in})` where :math:`*` means any number of\n",
      "      dimensions including none and :math:`H_{in} = \\text{in\\_features}`.\n",
      "    - Output: :math:`(*, H_{out})` where all but the last dimension\n",
      "      are the same shape as the input and :math:`H_{out} = \\text{out\\_features}`.\n",
      "\n",
      "Attributes:\n",
      "    weight: the learnable weights of the module of shape\n",
      "        :math:`(\\text{out\\_features}, \\text{in\\_features})`. The values are\n",
      "        initialized from :math:`\\mathcal{U}(-\\sqrt{k}, \\sqrt{k})`, where\n",
      "        :math:`k = \\frac{1}{\\text{in\\_features}}`\n",
      "    bias:   the learnable bias of the module of shape :math:`(\\text{out\\_features})`.\n",
      "            If :attr:`bias` is ``True``, the values are initialized from\n",
      "            :math:`\\mathcal{U}(-\\sqrt{k}, \\sqrt{k})` where\n",
      "            :math:`k = \\frac{1}{\\text{in\\_features}}`\n",
      "\n",
      "Examples::\n",
      "\n",
      "    >>> m = nn.Linear(20, 30)\n",
      "    >>> input = torch.randn(128, 20)\n",
      "    >>> output = m(input)\n",
      "    >>> print(output.size())\n",
      "    torch.Size([128, 30])\n",
      "\u001b[0;31mInit docstring:\u001b[0m Initialize internal Module state, shared by both nn.Module and ScriptModule.\n",
      "\u001b[0;31mFile:\u001b[0m           ~/Desktop/Projects/.venv/lib/python3.8/site-packages/torch/nn/modules/linear.py\n",
      "\u001b[0;31mType:\u001b[0m           type\n",
      "\u001b[0;31mSubclasses:\u001b[0m     NonDynamicallyQuantizableLinear, LazyLinear, Linear, LinearBn1d, Linear"
     ]
    }
   ],
   "source": [
    "nn.Linear?"
   ]
  },
  {
   "cell_type": "code",
   "execution_count": 23,
   "metadata": {},
   "outputs": [],
   "source": [
    "lin_layer = nn.Linear(in_features = 5, out_features=1, bias=True)"
   ]
  },
  {
   "cell_type": "code",
   "execution_count": 25,
   "metadata": {},
   "outputs": [
    {
     "name": "stdout",
     "output_type": "stream",
     "text": [
      "\u001b[0;31mInit signature:\u001b[0m \u001b[0mnn\u001b[0m\u001b[0;34m.\u001b[0m\u001b[0mModule\u001b[0m\u001b[0;34m(\u001b[0m\u001b[0;34m*\u001b[0m\u001b[0margs\u001b[0m\u001b[0;34m,\u001b[0m \u001b[0;34m**\u001b[0m\u001b[0mkwargs\u001b[0m\u001b[0;34m)\u001b[0m \u001b[0;34m->\u001b[0m \u001b[0;32mNone\u001b[0m\u001b[0;34m\u001b[0m\u001b[0;34m\u001b[0m\u001b[0m\n",
      "\u001b[0;31mDocstring:\u001b[0m     \n",
      "Base class for all neural network modules.\n",
      "\n",
      "Your models should also subclass this class.\n",
      "\n",
      "Modules can also contain other Modules, allowing to nest them in\n",
      "a tree structure. You can assign the submodules as regular attributes::\n",
      "\n",
      "    import torch.nn as nn\n",
      "    import torch.nn.functional as F\n",
      "\n",
      "    class Model(nn.Module):\n",
      "        def __init__(self):\n",
      "            super().__init__()\n",
      "            self.conv1 = nn.Conv2d(1, 20, 5)\n",
      "            self.conv2 = nn.Conv2d(20, 20, 5)\n",
      "\n",
      "        def forward(self, x):\n",
      "            x = F.relu(self.conv1(x))\n",
      "            return F.relu(self.conv2(x))\n",
      "\n",
      "Submodules assigned in this way will be registered, and will have their\n",
      "parameters converted too when you call :meth:`to`, etc.\n",
      "\n",
      ".. note::\n",
      "    As per the example above, an ``__init__()`` call to the parent class\n",
      "    must be made before assignment on the child.\n",
      "\n",
      ":ivar training: Boolean represents whether this module is in training or\n",
      "                evaluation mode.\n",
      ":vartype training: bool\n",
      "\u001b[0;31mInit docstring:\u001b[0m Initialize internal Module state, shared by both nn.Module and ScriptModule.\n",
      "\u001b[0;31mFile:\u001b[0m           ~/Desktop/Projects/.venv/lib/python3.8/site-packages/torch/nn/modules/module.py\n",
      "\u001b[0;31mType:\u001b[0m           type\n",
      "\u001b[0;31mSubclasses:\u001b[0m     Identity, Linear, Bilinear, _ConvNd, Threshold, ReLU, RReLU, Hardtanh, Sigmoid, Hardsigmoid, ..."
     ]
    }
   ],
   "source": [
    "nn.Module?"
   ]
  },
  {
   "cell_type": "code",
   "execution_count": 27,
   "metadata": {},
   "outputs": [],
   "source": [
    "class Model(nn.Module):\n",
    "    def __init__(self):\n",
    "        super().__init__() # initialize the base class\n",
    "        self.conv1 = nn.Conv2d(1, 20, 5)\n",
    "        self.conv2 = nn.Conv2d(20, 20, 5)\n",
    "        \n",
    "    def forward(self, x):\n",
    "        x = F.relu(self.conv1(x))\n",
    "        return F.relu(self.conv2(x))\n",
    "    \n",
    "dummy_model = Model()"
   ]
  },
  {
   "cell_type": "code",
   "execution_count": 28,
   "metadata": {},
   "outputs": [
    {
     "data": {
      "text/plain": [
       "Model(\n",
       "  (conv1): Conv2d(1, 20, kernel_size=(5, 5), stride=(1, 1))\n",
       "  (conv2): Conv2d(20, 20, kernel_size=(5, 5), stride=(1, 1))\n",
       ")"
      ]
     },
     "execution_count": 28,
     "metadata": {},
     "output_type": "execute_result"
    }
   ],
   "source": [
    "dummy_model.eval()"
   ]
  },
  {
   "cell_type": "code",
   "execution_count": 29,
   "metadata": {},
   "outputs": [
    {
     "data": {
      "text/plain": [
       "['AdaptiveAvgPool1d',\n",
       " 'AdaptiveAvgPool2d',\n",
       " 'AdaptiveAvgPool3d',\n",
       " 'AdaptiveLogSoftmaxWithLoss',\n",
       " 'AdaptiveMaxPool1d',\n",
       " 'AdaptiveMaxPool2d',\n",
       " 'AdaptiveMaxPool3d',\n",
       " 'AlphaDropout',\n",
       " 'AvgPool1d',\n",
       " 'AvgPool2d',\n",
       " 'AvgPool3d',\n",
       " 'BCELoss',\n",
       " 'BCEWithLogitsLoss',\n",
       " 'BatchNorm1d',\n",
       " 'BatchNorm2d',\n",
       " 'BatchNorm3d',\n",
       " 'Bilinear',\n",
       " 'CELU',\n",
       " 'CTCLoss',\n",
       " 'ChannelShuffle',\n",
       " 'CircularPad1d',\n",
       " 'CircularPad2d',\n",
       " 'CircularPad3d',\n",
       " 'ConstantPad1d',\n",
       " 'ConstantPad2d',\n",
       " 'ConstantPad3d',\n",
       " 'Container',\n",
       " 'Conv1d',\n",
       " 'Conv2d',\n",
       " 'Conv3d',\n",
       " 'ConvTranspose1d',\n",
       " 'ConvTranspose2d',\n",
       " 'ConvTranspose3d',\n",
       " 'CosineEmbeddingLoss',\n",
       " 'CosineSimilarity',\n",
       " 'CrossEntropyLoss',\n",
       " 'CrossMapLRN2d',\n",
       " 'DataParallel',\n",
       " 'Dropout',\n",
       " 'Dropout1d',\n",
       " 'Dropout2d',\n",
       " 'Dropout3d',\n",
       " 'ELU',\n",
       " 'Embedding',\n",
       " 'EmbeddingBag',\n",
       " 'FeatureAlphaDropout',\n",
       " 'Flatten',\n",
       " 'Fold',\n",
       " 'FractionalMaxPool2d',\n",
       " 'FractionalMaxPool3d',\n",
       " 'GELU',\n",
       " 'GLU',\n",
       " 'GRU',\n",
       " 'GRUCell',\n",
       " 'GaussianNLLLoss',\n",
       " 'GroupNorm',\n",
       " 'Hardshrink',\n",
       " 'Hardsigmoid',\n",
       " 'Hardswish',\n",
       " 'Hardtanh',\n",
       " 'HingeEmbeddingLoss',\n",
       " 'HuberLoss',\n",
       " 'Identity',\n",
       " 'InstanceNorm1d',\n",
       " 'InstanceNorm2d',\n",
       " 'InstanceNorm3d',\n",
       " 'KLDivLoss',\n",
       " 'L1Loss',\n",
       " 'LPPool1d',\n",
       " 'LPPool2d',\n",
       " 'LSTM',\n",
       " 'LSTMCell',\n",
       " 'LayerNorm',\n",
       " 'LazyBatchNorm1d',\n",
       " 'LazyBatchNorm2d',\n",
       " 'LazyBatchNorm3d',\n",
       " 'LazyConv1d',\n",
       " 'LazyConv2d',\n",
       " 'LazyConv3d',\n",
       " 'LazyConvTranspose1d',\n",
       " 'LazyConvTranspose2d',\n",
       " 'LazyConvTranspose3d',\n",
       " 'LazyInstanceNorm1d',\n",
       " 'LazyInstanceNorm2d',\n",
       " 'LazyInstanceNorm3d',\n",
       " 'LazyLinear',\n",
       " 'LeakyReLU',\n",
       " 'Linear',\n",
       " 'LocalResponseNorm',\n",
       " 'LogSigmoid',\n",
       " 'LogSoftmax',\n",
       " 'MSELoss',\n",
       " 'MarginRankingLoss',\n",
       " 'MaxPool1d',\n",
       " 'MaxPool2d',\n",
       " 'MaxPool3d',\n",
       " 'MaxUnpool1d',\n",
       " 'MaxUnpool2d',\n",
       " 'MaxUnpool3d',\n",
       " 'Mish',\n",
       " 'Module',\n",
       " 'ModuleDict',\n",
       " 'ModuleList',\n",
       " 'MultiLabelMarginLoss',\n",
       " 'MultiLabelSoftMarginLoss',\n",
       " 'MultiMarginLoss',\n",
       " 'MultiheadAttention',\n",
       " 'NLLLoss',\n",
       " 'NLLLoss2d',\n",
       " 'PReLU',\n",
       " 'PairwiseDistance',\n",
       " 'Parameter',\n",
       " 'ParameterDict',\n",
       " 'ParameterList',\n",
       " 'PixelShuffle',\n",
       " 'PixelUnshuffle',\n",
       " 'PoissonNLLLoss',\n",
       " 'RNN',\n",
       " 'RNNBase',\n",
       " 'RNNCell',\n",
       " 'RNNCellBase',\n",
       " 'RReLU',\n",
       " 'ReLU',\n",
       " 'ReLU6',\n",
       " 'ReflectionPad1d',\n",
       " 'ReflectionPad2d',\n",
       " 'ReflectionPad3d',\n",
       " 'ReplicationPad1d',\n",
       " 'ReplicationPad2d',\n",
       " 'ReplicationPad3d',\n",
       " 'SELU',\n",
       " 'Sequential',\n",
       " 'SiLU',\n",
       " 'Sigmoid',\n",
       " 'SmoothL1Loss',\n",
       " 'SoftMarginLoss',\n",
       " 'Softmax',\n",
       " 'Softmax2d',\n",
       " 'Softmin',\n",
       " 'Softplus',\n",
       " 'Softshrink',\n",
       " 'Softsign',\n",
       " 'SyncBatchNorm',\n",
       " 'Tanh',\n",
       " 'Tanhshrink',\n",
       " 'Threshold',\n",
       " 'Transformer',\n",
       " 'TransformerDecoder',\n",
       " 'TransformerDecoderLayer',\n",
       " 'TransformerEncoder',\n",
       " 'TransformerEncoderLayer',\n",
       " 'TripletMarginLoss',\n",
       " 'TripletMarginWithDistanceLoss',\n",
       " 'Unflatten',\n",
       " 'Unfold',\n",
       " 'UninitializedBuffer',\n",
       " 'UninitializedParameter',\n",
       " 'Upsample',\n",
       " 'UpsamplingBilinear2d',\n",
       " 'UpsamplingNearest2d',\n",
       " 'ZeroPad1d',\n",
       " 'ZeroPad2d',\n",
       " 'ZeroPad3d',\n",
       " '__builtins__',\n",
       " '__cached__',\n",
       " '__doc__',\n",
       " '__file__',\n",
       " '__loader__',\n",
       " '__name__',\n",
       " '__package__',\n",
       " '__path__',\n",
       " '__spec__',\n",
       " '_reduction',\n",
       " 'common_types',\n",
       " 'factory_kwargs',\n",
       " 'functional',\n",
       " 'grad',\n",
       " 'init',\n",
       " 'intrinsic',\n",
       " 'modules',\n",
       " 'parallel',\n",
       " 'parameter',\n",
       " 'qat',\n",
       " 'quantizable',\n",
       " 'quantized',\n",
       " 'utils']"
      ]
     },
     "execution_count": 29,
     "metadata": {},
     "output_type": "execute_result"
    }
   ],
   "source": [
    "dir(nn)"
   ]
  },
  {
   "cell_type": "code",
   "execution_count": null,
   "metadata": {},
   "outputs": [],
   "source": []
  },
  {
   "cell_type": "markdown",
   "metadata": {},
   "source": [
    "### 2.3 Functional"
   ]
  },
  {
   "cell_type": "code",
   "execution_count": 30,
   "metadata": {},
   "outputs": [
    {
     "data": {
      "text/plain": [
       "['BroadcastingList1',\n",
       " 'BroadcastingList2',\n",
       " 'BroadcastingList3',\n",
       " 'Callable',\n",
       " 'DType',\n",
       " 'GRID_SAMPLE_INTERPOLATION_MODES',\n",
       " 'GRID_SAMPLE_PADDING_MODES',\n",
       " 'List',\n",
       " 'Optional',\n",
       " 'TYPE_CHECKING',\n",
       " 'Tensor',\n",
       " 'Tuple',\n",
       " 'Union',\n",
       " '_Reduction',\n",
       " '_VF',\n",
       " '__builtins__',\n",
       " '__cached__',\n",
       " '__doc__',\n",
       " '__file__',\n",
       " '__loader__',\n",
       " '__name__',\n",
       " '__package__',\n",
       " '__spec__',\n",
       " '_adaptive_max_pool1d',\n",
       " '_adaptive_max_pool2d',\n",
       " '_adaptive_max_pool3d',\n",
       " '_add_docstr',\n",
       " '_canonical_mask',\n",
       " '_fractional_max_pool2d',\n",
       " '_fractional_max_pool3d',\n",
       " '_get_softmax_dim',\n",
       " '_in_projection',\n",
       " '_in_projection_packed',\n",
       " '_infer_size',\n",
       " '_is_integer',\n",
       " '_list_with_default',\n",
       " '_max_pool1d',\n",
       " '_max_pool2d',\n",
       " '_max_pool3d',\n",
       " '_mha_shape_check',\n",
       " '_no_grad_embedding_renorm_',\n",
       " '_none_or_dtype',\n",
       " '_overload',\n",
       " '_pair',\n",
       " '_single',\n",
       " '_sym_int',\n",
       " '_threshold',\n",
       " '_triple',\n",
       " '_unpool_output_size',\n",
       " '_verify_batch_size',\n",
       " '_verify_spatial_size',\n",
       " 'adaptive_avg_pool1d',\n",
       " 'adaptive_avg_pool2d',\n",
       " 'adaptive_avg_pool3d',\n",
       " 'adaptive_max_pool1d',\n",
       " 'adaptive_max_pool1d_with_indices',\n",
       " 'adaptive_max_pool2d',\n",
       " 'adaptive_max_pool2d_with_indices',\n",
       " 'adaptive_max_pool3d',\n",
       " 'adaptive_max_pool3d_with_indices',\n",
       " 'affine_grid',\n",
       " 'alpha_dropout',\n",
       " 'assert_int_or_pair',\n",
       " 'avg_pool1d',\n",
       " 'avg_pool2d',\n",
       " 'avg_pool3d',\n",
       " 'batch_norm',\n",
       " 'bilinear',\n",
       " 'binary_cross_entropy',\n",
       " 'binary_cross_entropy_with_logits',\n",
       " 'boolean_dispatch',\n",
       " 'celu',\n",
       " 'celu_',\n",
       " 'channel_shuffle',\n",
       " 'conv1d',\n",
       " 'conv2d',\n",
       " 'conv3d',\n",
       " 'conv_tbc',\n",
       " 'conv_transpose1d',\n",
       " 'conv_transpose2d',\n",
       " 'conv_transpose3d',\n",
       " 'cosine_embedding_loss',\n",
       " 'cosine_similarity',\n",
       " 'cross_entropy',\n",
       " 'ctc_loss',\n",
       " 'dropout',\n",
       " 'dropout1d',\n",
       " 'dropout2d',\n",
       " 'dropout3d',\n",
       " 'elu',\n",
       " 'elu_',\n",
       " 'embedding',\n",
       " 'embedding_bag',\n",
       " 'feature_alpha_dropout',\n",
       " 'fold',\n",
       " 'fractional_max_pool2d',\n",
       " 'fractional_max_pool2d_with_indices',\n",
       " 'fractional_max_pool3d',\n",
       " 'fractional_max_pool3d_with_indices',\n",
       " 'gaussian_nll_loss',\n",
       " 'gelu',\n",
       " 'glu',\n",
       " 'grad',\n",
       " 'grid_sample',\n",
       " 'group_norm',\n",
       " 'gumbel_softmax',\n",
       " 'handle_torch_function',\n",
       " 'hardshrink',\n",
       " 'hardsigmoid',\n",
       " 'hardswish',\n",
       " 'hardtanh',\n",
       " 'hardtanh_',\n",
       " 'has_torch_function',\n",
       " 'has_torch_function_unary',\n",
       " 'has_torch_function_variadic',\n",
       " 'hinge_embedding_loss',\n",
       " 'huber_loss',\n",
       " 'importlib',\n",
       " 'instance_norm',\n",
       " 'interpolate',\n",
       " 'kl_div',\n",
       " 'l1_loss',\n",
       " 'layer_norm',\n",
       " 'leaky_relu',\n",
       " 'leaky_relu_',\n",
       " 'linear',\n",
       " 'local_response_norm',\n",
       " 'log_softmax',\n",
       " 'logsigmoid',\n",
       " 'lp_pool1d',\n",
       " 'lp_pool2d',\n",
       " 'margin_ranking_loss',\n",
       " 'math',\n",
       " 'max_pool1d',\n",
       " 'max_pool1d_with_indices',\n",
       " 'max_pool2d',\n",
       " 'max_pool2d_with_indices',\n",
       " 'max_pool3d',\n",
       " 'max_pool3d_with_indices',\n",
       " 'max_unpool1d',\n",
       " 'max_unpool2d',\n",
       " 'max_unpool3d',\n",
       " 'mish',\n",
       " 'mse_loss',\n",
       " 'multi_head_attention_forward',\n",
       " 'multi_margin_loss',\n",
       " 'multilabel_margin_loss',\n",
       " 'multilabel_soft_margin_loss',\n",
       " 'native_channel_shuffle',\n",
       " 'nll_loss',\n",
       " 'normalize',\n",
       " 'np',\n",
       " 'one_hot',\n",
       " 'pad',\n",
       " 'pairwise_distance',\n",
       " 'pdist',\n",
       " 'pixel_shuffle',\n",
       " 'pixel_unshuffle',\n",
       " 'poisson_nll_loss',\n",
       " 'prelu',\n",
       " 'relu',\n",
       " 'relu6',\n",
       " 'relu_',\n",
       " 'reproducibility_notes',\n",
       " 'rrelu',\n",
       " 'rrelu_',\n",
       " 'scaled_dot_product_attention',\n",
       " 'selu',\n",
       " 'selu_',\n",
       " 'sigmoid',\n",
       " 'silu',\n",
       " 'smooth_l1_loss',\n",
       " 'soft_margin_loss',\n",
       " 'softmax',\n",
       " 'softmin',\n",
       " 'softplus',\n",
       " 'softshrink',\n",
       " 'softsign',\n",
       " 'sparse_support_notes',\n",
       " 'tanh',\n",
       " 'tanhshrink',\n",
       " 'tf32_notes',\n",
       " 'threshold',\n",
       " 'threshold_',\n",
       " 'torch',\n",
       " 'triplet_margin_loss',\n",
       " 'triplet_margin_with_distance_loss',\n",
       " 'unfold',\n",
       " 'upsample',\n",
       " 'upsample_bilinear',\n",
       " 'upsample_nearest',\n",
       " 'utils',\n",
       " 'warnings']"
      ]
     },
     "execution_count": 30,
     "metadata": {},
     "output_type": "execute_result"
    }
   ],
   "source": [
    "dir(F)"
   ]
  },
  {
   "cell_type": "code",
   "execution_count": null,
   "metadata": {},
   "outputs": [],
   "source": []
  },
  {
   "cell_type": "markdown",
   "metadata": {},
   "source": [
    "### 2.4 Dataset and DataLoader"
   ]
  },
  {
   "cell_type": "code",
   "execution_count": 32,
   "metadata": {},
   "outputs": [
    {
     "data": {
      "text/plain": [
       "['__add__',\n",
       " '__class__',\n",
       " '__class_getitem__',\n",
       " '__delattr__',\n",
       " '__dict__',\n",
       " '__dir__',\n",
       " '__doc__',\n",
       " '__eq__',\n",
       " '__format__',\n",
       " '__ge__',\n",
       " '__getattribute__',\n",
       " '__getitem__',\n",
       " '__gt__',\n",
       " '__hash__',\n",
       " '__init__',\n",
       " '__init_subclass__',\n",
       " '__le__',\n",
       " '__lt__',\n",
       " '__module__',\n",
       " '__ne__',\n",
       " '__new__',\n",
       " '__orig_bases__',\n",
       " '__parameters__',\n",
       " '__reduce__',\n",
       " '__reduce_ex__',\n",
       " '__repr__',\n",
       " '__setattr__',\n",
       " '__sizeof__',\n",
       " '__slots__',\n",
       " '__str__',\n",
       " '__subclasshook__',\n",
       " '__weakref__',\n",
       " '_is_protocol']"
      ]
     },
     "execution_count": 32,
     "metadata": {},
     "output_type": "execute_result"
    }
   ],
   "source": [
    "dir(Dataset)"
   ]
  },
  {
   "cell_type": "code",
   "execution_count": 33,
   "metadata": {},
   "outputs": [
    {
     "name": "stdout",
     "output_type": "stream",
     "text": [
      "\u001b[0;31mInit signature:\u001b[0m \u001b[0mDataset\u001b[0m\u001b[0;34m(\u001b[0m\u001b[0;34m*\u001b[0m\u001b[0margs\u001b[0m\u001b[0;34m,\u001b[0m \u001b[0;34m**\u001b[0m\u001b[0mkwds\u001b[0m\u001b[0;34m)\u001b[0m\u001b[0;34m\u001b[0m\u001b[0;34m\u001b[0m\u001b[0m\n",
      "\u001b[0;31mDocstring:\u001b[0m     \n",
      "An abstract class representing a :class:`Dataset`.\n",
      "\n",
      "All datasets that represent a map from keys to data samples should subclass\n",
      "it. All subclasses should overwrite :meth:`__getitem__`, supporting fetching a\n",
      "data sample for a given key. Subclasses could also optionally overwrite\n",
      ":meth:`__len__`, which is expected to return the size of the dataset by many\n",
      ":class:`~torch.utils.data.Sampler` implementations and the default options\n",
      "of :class:`~torch.utils.data.DataLoader`. Subclasses could also\n",
      "optionally implement :meth:`__getitems__`, for speedup batched samples\n",
      "loading. This method accepts list of indices of samples of batch and returns\n",
      "list of samples.\n",
      "\n",
      ".. note::\n",
      "  :class:`~torch.utils.data.DataLoader` by default constructs an index\n",
      "  sampler that yields integral indices.  To make it work with a map-style\n",
      "  dataset with non-integral indices/keys, a custom sampler must be provided.\n",
      "\u001b[0;31mFile:\u001b[0m           ~/Desktop/Projects/.venv/lib/python3.8/site-packages/torch/utils/data/dataset.py\n",
      "\u001b[0;31mType:\u001b[0m           type\n",
      "\u001b[0;31mSubclasses:\u001b[0m     IterableDataset, TensorDataset, StackDataset, ConcatDataset, Subset, MapDataPipe"
     ]
    }
   ],
   "source": [
    "Dataset?"
   ]
  },
  {
   "cell_type": "code",
   "execution_count": 34,
   "metadata": {},
   "outputs": [
    {
     "data": {
      "text/plain": [
       "['_DataLoader__initialized',\n",
       " '__annotations__',\n",
       " '__class__',\n",
       " '__class_getitem__',\n",
       " '__delattr__',\n",
       " '__dict__',\n",
       " '__dir__',\n",
       " '__doc__',\n",
       " '__eq__',\n",
       " '__format__',\n",
       " '__ge__',\n",
       " '__getattribute__',\n",
       " '__gt__',\n",
       " '__hash__',\n",
       " '__init__',\n",
       " '__init_subclass__',\n",
       " '__iter__',\n",
       " '__le__',\n",
       " '__len__',\n",
       " '__lt__',\n",
       " '__module__',\n",
       " '__ne__',\n",
       " '__new__',\n",
       " '__orig_bases__',\n",
       " '__parameters__',\n",
       " '__reduce__',\n",
       " '__reduce_ex__',\n",
       " '__repr__',\n",
       " '__setattr__',\n",
       " '__sizeof__',\n",
       " '__slots__',\n",
       " '__str__',\n",
       " '__subclasshook__',\n",
       " '__weakref__',\n",
       " '_auto_collation',\n",
       " '_get_iterator',\n",
       " '_index_sampler',\n",
       " '_is_protocol',\n",
       " 'check_worker_number_rationality',\n",
       " 'multiprocessing_context']"
      ]
     },
     "execution_count": 34,
     "metadata": {},
     "output_type": "execute_result"
    }
   ],
   "source": [
    "dir(DataLoader)"
   ]
  },
  {
   "cell_type": "code",
   "execution_count": 35,
   "metadata": {},
   "outputs": [
    {
     "name": "stdout",
     "output_type": "stream",
     "text": [
      "\u001b[0;31mInit signature:\u001b[0m \u001b[0mDataLoader\u001b[0m\u001b[0;34m(\u001b[0m\u001b[0;34m*\u001b[0m\u001b[0margs\u001b[0m\u001b[0;34m,\u001b[0m \u001b[0;34m**\u001b[0m\u001b[0mkwds\u001b[0m\u001b[0;34m)\u001b[0m\u001b[0;34m\u001b[0m\u001b[0;34m\u001b[0m\u001b[0m\n",
      "\u001b[0;31mDocstring:\u001b[0m     \n",
      "Data loader combines a dataset and a sampler, and provides an iterable over the given dataset.\n",
      "\n",
      "The :class:`~torch.utils.data.DataLoader` supports both map-style and\n",
      "iterable-style datasets with single- or multi-process loading, customizing\n",
      "loading order and optional automatic batching (collation) and memory pinning.\n",
      "\n",
      "See :py:mod:`torch.utils.data` documentation page for more details.\n",
      "\n",
      "Args:\n",
      "    dataset (Dataset): dataset from which to load the data.\n",
      "    batch_size (int, optional): how many samples per batch to load\n",
      "        (default: ``1``).\n",
      "    shuffle (bool, optional): set to ``True`` to have the data reshuffled\n",
      "        at every epoch (default: ``False``).\n",
      "    sampler (Sampler or Iterable, optional): defines the strategy to draw\n",
      "        samples from the dataset. Can be any ``Iterable`` with ``__len__``\n",
      "        implemented. If specified, :attr:`shuffle` must not be specified.\n",
      "    batch_sampler (Sampler or Iterable, optional): like :attr:`sampler`, but\n",
      "        returns a batch of indices at a time. Mutually exclusive with\n",
      "        :attr:`batch_size`, :attr:`shuffle`, :attr:`sampler`,\n",
      "        and :attr:`drop_last`.\n",
      "    num_workers (int, optional): how many subprocesses to use for data\n",
      "        loading. ``0`` means that the data will be loaded in the main process.\n",
      "        (default: ``0``)\n",
      "    collate_fn (Callable, optional): merges a list of samples to form a\n",
      "        mini-batch of Tensor(s).  Used when using batched loading from a\n",
      "        map-style dataset.\n",
      "    pin_memory (bool, optional): If ``True``, the data loader will copy Tensors\n",
      "        into device/CUDA pinned memory before returning them.  If your data elements\n",
      "        are a custom type, or your :attr:`collate_fn` returns a batch that is a custom type,\n",
      "        see the example below.\n",
      "    drop_last (bool, optional): set to ``True`` to drop the last incomplete batch,\n",
      "        if the dataset size is not divisible by the batch size. If ``False`` and\n",
      "        the size of dataset is not divisible by the batch size, then the last batch\n",
      "        will be smaller. (default: ``False``)\n",
      "    timeout (numeric, optional): if positive, the timeout value for collecting a batch\n",
      "        from workers. Should always be non-negative. (default: ``0``)\n",
      "    worker_init_fn (Callable, optional): If not ``None``, this will be called on each\n",
      "        worker subprocess with the worker id (an int in ``[0, num_workers - 1]``) as\n",
      "        input, after seeding and before data loading. (default: ``None``)\n",
      "    multiprocessing_context (str or multiprocessing.context.BaseContext, optional): If\n",
      "        ``None``, the default `multiprocessing context`_ of your operating system will\n",
      "        be used. (default: ``None``)\n",
      "    generator (torch.Generator, optional): If not ``None``, this RNG will be used\n",
      "        by RandomSampler to generate random indexes and multiprocessing to generate\n",
      "        ``base_seed`` for workers. (default: ``None``)\n",
      "    prefetch_factor (int, optional, keyword-only arg): Number of batches loaded\n",
      "        in advance by each worker. ``2`` means there will be a total of\n",
      "        2 * num_workers batches prefetched across all workers. (default value depends\n",
      "        on the set value for num_workers. If value of num_workers=0 default is ``None``.\n",
      "        Otherwise, if value of ``num_workers > 0`` default is ``2``).\n",
      "    persistent_workers (bool, optional): If ``True``, the data loader will not shut down\n",
      "        the worker processes after a dataset has been consumed once. This allows to\n",
      "        maintain the workers `Dataset` instances alive. (default: ``False``)\n",
      "    pin_memory_device (str, optional): the device to :attr:`pin_memory` to if ``pin_memory`` is\n",
      "        ``True``.\n",
      "\n",
      "\n",
      ".. warning:: If the ``spawn`` start method is used, :attr:`worker_init_fn`\n",
      "             cannot be an unpicklable object, e.g., a lambda function. See\n",
      "             :ref:`multiprocessing-best-practices` on more details related\n",
      "             to multiprocessing in PyTorch.\n",
      "\n",
      ".. warning:: ``len(dataloader)`` heuristic is based on the length of the sampler used.\n",
      "             When :attr:`dataset` is an :class:`~torch.utils.data.IterableDataset`,\n",
      "             it instead returns an estimate based on ``len(dataset) / batch_size``, with proper\n",
      "             rounding depending on :attr:`drop_last`, regardless of multi-process loading\n",
      "             configurations. This represents the best guess PyTorch can make because PyTorch\n",
      "             trusts user :attr:`dataset` code in correctly handling multi-process\n",
      "             loading to avoid duplicate data.\n",
      "\n",
      "             However, if sharding results in multiple workers having incomplete last batches,\n",
      "             this estimate can still be inaccurate, because (1) an otherwise complete batch can\n",
      "             be broken into multiple ones and (2) more than one batch worth of samples can be\n",
      "             dropped when :attr:`drop_last` is set. Unfortunately, PyTorch can not detect such\n",
      "             cases in general.\n",
      "\n",
      "             See `Dataset Types`_ for more details on these two types of datasets and how\n",
      "             :class:`~torch.utils.data.IterableDataset` interacts with\n",
      "             `Multi-process data loading`_.\n",
      "\n",
      ".. warning:: See :ref:`reproducibility`, and :ref:`dataloader-workers-random-seed`, and\n",
      "             :ref:`data-loading-randomness` notes for random seed related questions.\n",
      "\n",
      ".. _multiprocessing context:\n",
      "    https://docs.python.org/3/library/multiprocessing.html#contexts-and-start-methods\n",
      "\u001b[0;31mFile:\u001b[0m           ~/Desktop/Projects/.venv/lib/python3.8/site-packages/torch/utils/data/dataloader.py\n",
      "\u001b[0;31mType:\u001b[0m           type\n",
      "\u001b[0;31mSubclasses:\u001b[0m     "
     ]
    }
   ],
   "source": [
    "DataLoader?"
   ]
  },
  {
   "cell_type": "code",
   "execution_count": null,
   "metadata": {},
   "outputs": [],
   "source": []
  },
  {
   "cell_type": "markdown",
   "metadata": {},
   "source": [
    "## 3. Warmup tutorials"
   ]
  },
  {
   "cell_type": "code",
   "execution_count": 40,
   "metadata": {},
   "outputs": [],
   "source": [
    "import math\n",
    "import matplotlib.pyplot as plt"
   ]
  },
  {
   "cell_type": "code",
   "execution_count": 37,
   "metadata": {},
   "outputs": [],
   "source": [
    "x = np.linspace(-math.pi, math.pi, 2000)\n",
    "y = np.sin(x)"
   ]
  },
  {
   "cell_type": "code",
   "execution_count": 62,
   "metadata": {},
   "outputs": [],
   "source": [
    "a = np.random.randn()\n",
    "b = np.random.randn()\n",
    "c = np.random.randn()\n",
    "d = np.random.randn()\n",
    "\n",
    "# Training\n",
    "learning_rate = 1e-6\n",
    "epochs = 2000\n",
    "iter_loss = np.zeros(epochs)\n",
    "for t in range(epochs):\n",
    "    y_pred = a + b * x + c * x ** 2 + d * x ** 3\n",
    "    \n",
    "    loss = np.square(y_pred - y).sum()\n",
    "    iter_loss[t] = loss\n",
    "    # if t % 100 == 99:\n",
    "    #     print(t, loss)\n",
    "        \n",
    "    grad_y_pred = 2.0 * (y_pred - y)\n",
    "    grad_a = grad_y_pred.sum()\n",
    "    grad_b = (grad_y_pred * x).sum()\n",
    "    grad_c = (grad_y_pred * x ** 2).sum()\n",
    "    grad_d = (grad_y_pred * x ** 3).sum()\n",
    "    \n",
    "    # Update weights\n",
    "    a -= learning_rate * grad_a\n",
    "    b -= learning_rate * grad_b\n",
    "    c -= learning_rate * grad_c\n",
    "    d -= learning_rate * grad_d"
   ]
  },
  {
   "cell_type": "code",
   "execution_count": 60,
   "metadata": {},
   "outputs": [
    {
     "data": {
      "text/plain": [
       "1999"
      ]
     },
     "execution_count": 60,
     "metadata": {},
     "output_type": "execute_result"
    }
   ],
   "source": [
    "t"
   ]
  },
  {
   "cell_type": "code",
   "execution_count": 63,
   "metadata": {},
   "outputs": [
    {
     "data": {
      "text/plain": [
       "(0.0, 10.0)"
      ]
     },
     "execution_count": 63,
     "metadata": {},
     "output_type": "execute_result"
    },
    {
     "data": {
      "image/png": "[encoded data removed]",
      "text/plain": [
       "<Figure size 640x480 with 1 Axes>"
      ]
     },
     "metadata": {},
     "output_type": "display_data"
    }
   ],
   "source": [
    "plt.plot(np.arange(1, epochs+1), np.log10(iter_loss))\n",
    "plt.ylim((0, 10))"
   ]
  },
  {
   "cell_type": "code",
   "execution_count": 56,
   "metadata": {},
   "outputs": [
    {
     "data": {
      "text/plain": [
       "<matplotlib.legend.Legend at 0x7fd3117f71c0>"
      ]
     },
     "execution_count": 56,
     "metadata": {},
     "output_type": "execute_result"
    },
    {
     "data": {
      "image/png": "[encoded data removed]",
      "text/plain": [
       "<Figure size 640x480 with 1 Axes>"
      ]
     },
     "metadata": {},
     "output_type": "display_data"
    }
   ],
   "source": [
    "plt.plot(np.sin(x), color = \"r\", label=\"real\")\n",
    "plt.plot(y_pred, color = \"k\", label=\"pred\")\n",
    "plt.legend()"
   ]
  },
  {
   "cell_type": "code",
   "execution_count": 65,
   "metadata": {},
   "outputs": [
    {
     "data": {
      "text/plain": [
       "device(type='cpu')"
      ]
     },
     "execution_count": 65,
     "metadata": {},
     "output_type": "execute_result"
    }
   ],
   "source": [
    "# Now use the above using torch\n",
    "dtype = torch.float\n",
    "device = torch.device(\"cpu\")\n",
    "device"
   ]
  },
  {
   "cell_type": "code",
   "execution_count": 66,
   "metadata": {},
   "outputs": [],
   "source": [
    "x = torch.linspace(-math.pi, math.pi, 2000, device=device, dtype=dtype)\n",
    "y = torch.sin(x)"
   ]
  },
  {
   "cell_type": "code",
   "execution_count": 68,
   "metadata": {},
   "outputs": [
    {
     "data": {
      "text/plain": [
       "<matplotlib.legend.Legend at 0x7fd2e201f4c0>"
      ]
     },
     "execution_count": 68,
     "metadata": {},
     "output_type": "execute_result"
    },
    {
     "data": {
      "image/png": "[encoded data removed]",
      "text/plain": [
       "<Figure size 640x480 with 1 Axes>"
      ]
     },
     "metadata": {},
     "output_type": "display_data"
    }
   ],
   "source": [
    "a = torch.randn((), device=device, dtype=dtype)\n",
    "b = torch.randn((), device=device, dtype=dtype)\n",
    "c = torch.randn((), device=device, dtype=dtype)\n",
    "d = torch.randn((), device=device, dtype=dtype)\n",
    "\n",
    "\n",
    "# Training\n",
    "learning_rate = 1e-6\n",
    "epochs = 2000\n",
    "iter_loss = torch.zeros(epochs)\n",
    "for t in range(epochs):\n",
    "    y_pred = a + b * x + c * x ** 2 + d * x ** 3\n",
    "    \n",
    "    loss = (y_pred-y).pow(2).sum().item()\n",
    "    iter_loss[t] = loss\n",
    "    # if t % 100 == 99:\n",
    "    #     print(t, loss)\n",
    "        \n",
    "    grad_y_pred = 2.0 * (y_pred - y)\n",
    "    grad_a = grad_y_pred.sum()\n",
    "    grad_b = (grad_y_pred * x).sum()\n",
    "    grad_c = (grad_y_pred * x ** 2).sum()\n",
    "    grad_d = (grad_y_pred * x ** 3).sum()\n",
    "    \n",
    "    # Update weights\n",
    "    a -= learning_rate * grad_a\n",
    "    b -= learning_rate * grad_b\n",
    "    c -= learning_rate * grad_c\n",
    "    d -= learning_rate * grad_d\n",
    "    \n",
    "plt.plot(np.sin(x), color = \"r\", label=\"real\")\n",
    "plt.plot(y_pred, color = \"k\", label=\"pred\")\n",
    "plt.legend()"
   ]
  },
  {
   "cell_type": "code",
   "execution_count": 76,
   "metadata": {},
   "outputs": [
    {
     "data": {
      "text/plain": [
       "<matplotlib.legend.Legend at 0x7fd3227c5fa0>"
      ]
     },
     "execution_count": 76,
     "metadata": {},
     "output_type": "execute_result"
    },
    {
     "data": {
      "image/png": "[encoded data removed]",
      "text/plain": [
       "<Figure size 640x480 with 1 Axes>"
      ]
     },
     "metadata": {},
     "output_type": "display_data"
    }
   ],
   "source": [
    "### We can also use the Autograd version\n",
    "\n",
    "x = torch.linspace(-math.pi, math.pi, 2000, device=device, dtype=dtype)\n",
    "y = torch.sin(x)\n",
    "\n",
    "\n",
    "a = torch.randn((), device=device, dtype=dtype, requires_grad=True)\n",
    "b = torch.randn((), device=device, dtype=dtype, requires_grad=True)\n",
    "c = torch.randn((), device=device, dtype=dtype, requires_grad=True)\n",
    "d = torch.randn((), device=device, dtype=dtype, requires_grad=True)\n",
    "\n",
    "\n",
    "# Training\n",
    "learning_rate = 1e-6\n",
    "epochs = 2000\n",
    "for t in range(epochs):\n",
    "    y_pred = a + b * x + c * x ** 2 + d * x ** 3\n",
    "    loss = (y_pred-y).pow(2).sum()\n",
    "    loss.backward()\n",
    "    \n",
    "    with torch.no_grad():\n",
    "    \n",
    "        # Update weights\n",
    "        a -= learning_rate * a.grad\n",
    "        b -= learning_rate * b.grad\n",
    "        c -= learning_rate * c.grad\n",
    "        d -= learning_rate * d.grad\n",
    "        \n",
    "        a.grad = None\n",
    "        b.grad = None\n",
    "        c.grad = None\n",
    "        d.grad = None\n",
    "    \n",
    "plt.plot(torch.sin(x), color = \"r\", label=\"real\")\n",
    "plt.plot(y_pred.detach().numpy(), color = \"k\", label=\"pred\")\n",
    "plt.legend()"
   ]
  },
  {
   "cell_type": "code",
   "execution_count": 90,
   "metadata": {},
   "outputs": [
    {
     "name": "stdout",
     "output_type": "stream",
     "text": [
      "\u001b[0;31mInit signature:\u001b[0m \u001b[0mtorch\u001b[0m\u001b[0;34m.\u001b[0m\u001b[0mnn\u001b[0m\u001b[0;34m.\u001b[0m\u001b[0mParameter\u001b[0m\u001b[0;34m(\u001b[0m\u001b[0mdata\u001b[0m\u001b[0;34m=\u001b[0m\u001b[0;32mNone\u001b[0m\u001b[0;34m,\u001b[0m \u001b[0mrequires_grad\u001b[0m\u001b[0;34m=\u001b[0m\u001b[0;32mTrue\u001b[0m\u001b[0;34m)\u001b[0m\u001b[0;34m\u001b[0m\u001b[0;34m\u001b[0m\u001b[0m\n",
      "\u001b[0;31mDocstring:\u001b[0m     \n",
      "A kind of Tensor that is to be considered a module parameter.\n",
      "\n",
      "Parameters are :class:`~torch.Tensor` subclasses, that have a\n",
      "very special property when used with :class:`Module` s - when they're\n",
      "assigned as Module attributes they are automatically added to the list of\n",
      "its parameters, and will appear e.g. in :meth:`~Module.parameters` iterator.\n",
      "Assigning a Tensor doesn't have such effect. This is because one might\n",
      "want to cache some temporary state, like last hidden state of the RNN, in\n",
      "the model. If there was no such class as :class:`Parameter`, these\n",
      "temporaries would get registered too.\n",
      "\n",
      "Args:\n",
      "    data (Tensor): parameter tensor.\n",
      "    requires_grad (bool, optional): if the parameter requires gradient. Note that\n",
      "        the torch.no_grad() context does NOT affect the default behavior of\n",
      "        Parameter creation--the Parameter will still have `requires_grad=True` in\n",
      "        :class:`~no_grad` mode. See :ref:`locally-disable-grad-doc` for more\n",
      "        details. Default: `True`\n",
      "\u001b[0;31mFile:\u001b[0m           ~/Desktop/Projects/.venv/lib/python3.8/site-packages/torch/nn/parameter.py\n",
      "\u001b[0;31mType:\u001b[0m           _ParameterMeta\n",
      "\u001b[0;31mSubclasses:\u001b[0m     UninitializedParameter"
     ]
    }
   ],
   "source": [
    "torch.nn.Parameter?"
   ]
  },
  {
   "cell_type": "code",
   "execution_count": 89,
   "metadata": {},
   "outputs": [
    {
     "data": {
      "text/plain": [
       "'Model: y = 0.02 + 0.80x + -0.00x^2 + -0.08x^3'"
      ]
     },
     "execution_count": 89,
     "metadata": {},
     "output_type": "execute_result"
    }
   ],
   "source": [
    "### we can do the above using an optimizer and a simple model\n",
    "\n",
    "# Define a model\n",
    "class Polynomial3Model(nn.Module):\n",
    "    \n",
    "    def __init__(self):\n",
    "        super().__init__()\n",
    "        self.a = torch.nn.Parameter(torch.randn(()))\n",
    "        self.b = torch.nn.Parameter(torch.randn(()))\n",
    "        self.c = torch.nn.Parameter(torch.randn(()))\n",
    "        self.d = torch.nn.Parameter(torch.randn(()))\n",
    "        \n",
    "        \n",
    "    def forward(self, x):\n",
    "        return self.a + self.b * x + self.c * x ** 2 + self.d * x ** 3\n",
    "    \n",
    "    def return_string(self):\n",
    "        return f\"Model: y = {self.a.item():.2f} + {self.b.item():.2f}x + {self.c.item():.2f}x^2 + {self.d.item():.2f}x^3\"\n",
    "\n",
    "\n",
    "# Declare x and y\n",
    "x = torch.linspace(-math.pi, math.pi, 2000, device=device, dtype=dtype)\n",
    "y = torch.sin(x)\n",
    "\n",
    "# Declare model\n",
    "model = Polynomial3Model()\n",
    "loss_fn = torch.nn.MSELoss(reduction='sum')\n",
    "optimizer = torch.optim.SGD(model.parameters(), lr=1e-6)\n",
    "n_epochs = 2000\n",
    "losses = torch.zeros(epochs)\n",
    "for epoch in range(epochs):\n",
    "    y_pred = model(x)\n",
    "    \n",
    "    loss = loss_fn(y_pred, y)\n",
    "    losses[epoch] = loss.item()\n",
    "    optimizer.zero_grad()\n",
    "    loss.backward()\n",
    "    optimizer.step()\n",
    "\n",
    "model.return_string()\n"
   ]
  },
  {
   "cell_type": "code",
   "execution_count": 96,
   "metadata": {},
   "outputs": [
    {
     "data": {
      "text/plain": [
       "<matplotlib.legend.Legend at 0x7fd2e2532940>"
      ]
     },
     "execution_count": 96,
     "metadata": {},
     "output_type": "execute_result"
    },
    {
     "data": {
      "image/png": "[encoded data removed]",
      "text/plain": [
       "<Figure size 640x480 with 1 Axes>"
      ]
     },
     "metadata": {},
     "output_type": "display_data"
    }
   ],
   "source": [
    "plt.plot(y, \"r\", label=\"real\")\n",
    "plt.plot(model.forward(x).detach().numpy(), \"k\", label=\"pred\")\n",
    "plt.legend()"
   ]
  },
  {
   "cell_type": "markdown",
   "metadata": {},
   "source": [
    "## 4. Working with FashionMNIST data"
   ]
  },
  {
   "cell_type": "code",
   "execution_count": 100,
   "metadata": {},
   "outputs": [],
   "source": [
    "from torchvision.transforms import ToTensor\n",
    "from torch.utils.data import DataLoader\n",
    "from torchvision import datasets"
   ]
  },
  {
   "cell_type": "code",
   "execution_count": 101,
   "metadata": {},
   "outputs": [
    {
     "name": "stdout",
     "output_type": "stream",
     "text": [
      "Downloading http://fashion-mnist.s3-website.eu-central-1.amazonaws.com/train-images-idx3-ubyte.gz\n",
      "Downloading http://fashion-mnist.s3-website.eu-central-1.amazonaws.com/train-images-idx3-ubyte.gz to data/FashionMNIST/raw/train-images-idx3-ubyte.gz\n"
     ]
    },
    {
     "name": "stderr",
     "output_type": "stream",
     "text": [
      "100%|██████████| 26421880/26421880 [00:27<00:00, 971000.56it/s] \n"
     ]
    },
    {
     "name": "stdout",
     "output_type": "stream",
     "text": [
      "Extracting data/FashionMNIST/raw/train-images-idx3-ubyte.gz to data/FashionMNIST/raw\n",
      "\n",
      "Downloading http://fashion-mnist.s3-website.eu-central-1.amazonaws.com/train-labels-idx1-ubyte.gz\n",
      "Downloading http://fashion-mnist.s3-website.eu-central-1.amazonaws.com/train-labels-idx1-ubyte.gz to data/FashionMNIST/raw/train-labels-idx1-ubyte.gz\n"
     ]
    },
    {
     "name": "stderr",
     "output_type": "stream",
     "text": [
      "100%|██████████| 29515/29515 [00:00<00:00, 178761.82it/s]\n"
     ]
    },
    {
     "name": "stdout",
     "output_type": "stream",
     "text": [
      "Extracting data/FashionMNIST/raw/train-labels-idx1-ubyte.gz to data/FashionMNIST/raw\n",
      "\n",
      "Downloading http://fashion-mnist.s3-website.eu-central-1.amazonaws.com/t10k-images-idx3-ubyte.gz\n",
      "Downloading http://fashion-mnist.s3-website.eu-central-1.amazonaws.com/t10k-images-idx3-ubyte.gz to data/FashionMNIST/raw/t10k-images-idx3-ubyte.gz\n"
     ]
    },
    {
     "name": "stderr",
     "output_type": "stream",
     "text": [
      "100%|██████████| 4422102/4422102 [00:06<00:00, 662025.01it/s]\n"
     ]
    },
    {
     "name": "stdout",
     "output_type": "stream",
     "text": [
      "Extracting data/FashionMNIST/raw/t10k-images-idx3-ubyte.gz to data/FashionMNIST/raw\n",
      "\n",
      "Downloading http://fashion-mnist.s3-website.eu-central-1.amazonaws.com/t10k-labels-idx1-ubyte.gz\n",
      "Downloading http://fashion-mnist.s3-website.eu-central-1.amazonaws.com/t10k-labels-idx1-ubyte.gz to data/FashionMNIST/raw/t10k-labels-idx1-ubyte.gz\n"
     ]
    },
    {
     "name": "stderr",
     "output_type": "stream",
     "text": [
      "100%|██████████| 5148/5148 [00:00<00:00, 5372549.64it/s]"
     ]
    },
    {
     "name": "stdout",
     "output_type": "stream",
     "text": [
      "Extracting data/FashionMNIST/raw/t10k-labels-idx1-ubyte.gz to data/FashionMNIST/raw\n",
      "\n"
     ]
    },
    {
     "name": "stderr",
     "output_type": "stream",
     "text": [
      "\n"
     ]
    }
   ],
   "source": [
    "training_data = datasets.FashionMNIST(\n",
    "    root = \"data\",\n",
    "    train=True,\n",
    "    download=True,\n",
    "    transform=ToTensor(),\n",
    ")\n",
    "\n",
    "test_data = datasets.FashionMNIST(\n",
    "    root = \"data\",\n",
    "    train=False,\n",
    "    download=True,\n",
    "    transform=ToTensor(),\n",
    ")"
   ]
  },
  {
   "cell_type": "code",
   "execution_count": 102,
   "metadata": {},
   "outputs": [
    {
     "name": "stdout",
     "output_type": "stream",
     "text": [
      "\u001b[0;31mInit signature:\u001b[0m \u001b[0mDataLoader\u001b[0m\u001b[0;34m(\u001b[0m\u001b[0;34m*\u001b[0m\u001b[0margs\u001b[0m\u001b[0;34m,\u001b[0m \u001b[0;34m**\u001b[0m\u001b[0mkwds\u001b[0m\u001b[0;34m)\u001b[0m\u001b[0;34m\u001b[0m\u001b[0;34m\u001b[0m\u001b[0m\n",
      "\u001b[0;31mDocstring:\u001b[0m     \n",
      "Data loader combines a dataset and a sampler, and provides an iterable over the given dataset.\n",
      "\n",
      "The :class:`~torch.utils.data.DataLoader` supports both map-style and\n",
      "iterable-style datasets with single- or multi-process loading, customizing\n",
      "loading order and optional automatic batching (collation) and memory pinning.\n",
      "\n",
      "See :py:mod:`torch.utils.data` documentation page for more details.\n",
      "\n",
      "Args:\n",
      "    dataset (Dataset): dataset from which to load the data.\n",
      "    batch_size (int, optional): how many samples per batch to load\n",
      "        (default: ``1``).\n",
      "    shuffle (bool, optional): set to ``True`` to have the data reshuffled\n",
      "        at every epoch (default: ``False``).\n",
      "    sampler (Sampler or Iterable, optional): defines the strategy to draw\n",
      "        samples from the dataset. Can be any ``Iterable`` with ``__len__``\n",
      "        implemented. If specified, :attr:`shuffle` must not be specified.\n",
      "    batch_sampler (Sampler or Iterable, optional): like :attr:`sampler`, but\n",
      "        returns a batch of indices at a time. Mutually exclusive with\n",
      "        :attr:`batch_size`, :attr:`shuffle`, :attr:`sampler`,\n",
      "        and :attr:`drop_last`.\n",
      "    num_workers (int, optional): how many subprocesses to use for data\n",
      "        loading. ``0`` means that the data will be loaded in the main process.\n",
      "        (default: ``0``)\n",
      "    collate_fn (Callable, optional): merges a list of samples to form a\n",
      "        mini-batch of Tensor(s).  Used when using batched loading from a\n",
      "        map-style dataset.\n",
      "    pin_memory (bool, optional): If ``True``, the data loader will copy Tensors\n",
      "        into device/CUDA pinned memory before returning them.  If your data elements\n",
      "        are a custom type, or your :attr:`collate_fn` returns a batch that is a custom type,\n",
      "        see the example below.\n",
      "    drop_last (bool, optional): set to ``True`` to drop the last incomplete batch,\n",
      "        if the dataset size is not divisible by the batch size. If ``False`` and\n",
      "        the size of dataset is not divisible by the batch size, then the last batch\n",
      "        will be smaller. (default: ``False``)\n",
      "    timeout (numeric, optional): if positive, the timeout value for collecting a batch\n",
      "        from workers. Should always be non-negative. (default: ``0``)\n",
      "    worker_init_fn (Callable, optional): If not ``None``, this will be called on each\n",
      "        worker subprocess with the worker id (an int in ``[0, num_workers - 1]``) as\n",
      "        input, after seeding and before data loading. (default: ``None``)\n",
      "    multiprocessing_context (str or multiprocessing.context.BaseContext, optional): If\n",
      "        ``None``, the default `multiprocessing context`_ of your operating system will\n",
      "        be used. (default: ``None``)\n",
      "    generator (torch.Generator, optional): If not ``None``, this RNG will be used\n",
      "        by RandomSampler to generate random indexes and multiprocessing to generate\n",
      "        ``base_seed`` for workers. (default: ``None``)\n",
      "    prefetch_factor (int, optional, keyword-only arg): Number of batches loaded\n",
      "        in advance by each worker. ``2`` means there will be a total of\n",
      "        2 * num_workers batches prefetched across all workers. (default value depends\n",
      "        on the set value for num_workers. If value of num_workers=0 default is ``None``.\n",
      "        Otherwise, if value of ``num_workers > 0`` default is ``2``).\n",
      "    persistent_workers (bool, optional): If ``True``, the data loader will not shut down\n",
      "        the worker processes after a dataset has been consumed once. This allows to\n",
      "        maintain the workers `Dataset` instances alive. (default: ``False``)\n",
      "    pin_memory_device (str, optional): the device to :attr:`pin_memory` to if ``pin_memory`` is\n",
      "        ``True``.\n",
      "\n",
      "\n",
      ".. warning:: If the ``spawn`` start method is used, :attr:`worker_init_fn`\n",
      "             cannot be an unpicklable object, e.g., a lambda function. See\n",
      "             :ref:`multiprocessing-best-practices` on more details related\n",
      "             to multiprocessing in PyTorch.\n",
      "\n",
      ".. warning:: ``len(dataloader)`` heuristic is based on the length of the sampler used.\n",
      "             When :attr:`dataset` is an :class:`~torch.utils.data.IterableDataset`,\n",
      "             it instead returns an estimate based on ``len(dataset) / batch_size``, with proper\n",
      "             rounding depending on :attr:`drop_last`, regardless of multi-process loading\n",
      "             configurations. This represents the best guess PyTorch can make because PyTorch\n",
      "             trusts user :attr:`dataset` code in correctly handling multi-process\n",
      "             loading to avoid duplicate data.\n",
      "\n",
      "             However, if sharding results in multiple workers having incomplete last batches,\n",
      "             this estimate can still be inaccurate, because (1) an otherwise complete batch can\n",
      "             be broken into multiple ones and (2) more than one batch worth of samples can be\n",
      "             dropped when :attr:`drop_last` is set. Unfortunately, PyTorch can not detect such\n",
      "             cases in general.\n",
      "\n",
      "             See `Dataset Types`_ for more details on these two types of datasets and how\n",
      "             :class:`~torch.utils.data.IterableDataset` interacts with\n",
      "             `Multi-process data loading`_.\n",
      "\n",
      ".. warning:: See :ref:`reproducibility`, and :ref:`dataloader-workers-random-seed`, and\n",
      "             :ref:`data-loading-randomness` notes for random seed related questions.\n",
      "\n",
      ".. _multiprocessing context:\n",
      "    https://docs.python.org/3/library/multiprocessing.html#contexts-and-start-methods\n",
      "\u001b[0;31mFile:\u001b[0m           ~/Desktop/Projects/.venv/lib/python3.8/site-packages/torch/utils/data/dataloader.py\n",
      "\u001b[0;31mType:\u001b[0m           type\n",
      "\u001b[0;31mSubclasses:\u001b[0m     "
     ]
    }
   ],
   "source": [
    "DataLoader?"
   ]
  },
  {
   "cell_type": "code",
   "execution_count": 103,
   "metadata": {},
   "outputs": [],
   "source": [
    "# Pass the dataset as an argument to DataLoader\n",
    "batch_size = 64\n",
    "train_dataloader = DataLoader(dataset=training_data, batch_size = batch_size)\n",
    "test_dataloader = DataLoader(dataset=test_data, batch_size = batch_size)"
   ]
  },
  {
   "cell_type": "code",
   "execution_count": 104,
   "metadata": {},
   "outputs": [
    {
     "name": "stdout",
     "output_type": "stream",
     "text": [
      "\u001b[0;31mType:\u001b[0m        DataLoader\n",
      "\u001b[0;31mString form:\u001b[0m <torch.utils.data.dataloader.DataLoader object at 0x7fd3025fb790>\n",
      "\u001b[0;31mLength:\u001b[0m      938\n",
      "\u001b[0;31mFile:\u001b[0m        ~/Desktop/Projects/.venv/lib/python3.8/site-packages/torch/utils/data/dataloader.py\n",
      "\u001b[0;31mDocstring:\u001b[0m  \n",
      "Data loader combines a dataset and a sampler, and provides an iterable over the given dataset.\n",
      "\n",
      "The :class:`~torch.utils.data.DataLoader` supports both map-style and\n",
      "iterable-style datasets with single- or multi-process loading, customizing\n",
      "loading order and optional automatic batching (collation) and memory pinning.\n",
      "\n",
      "See :py:mod:`torch.utils.data` documentation page for more details.\n",
      "\n",
      "Args:\n",
      "    dataset (Dataset): dataset from which to load the data.\n",
      "    batch_size (int, optional): how many samples per batch to load\n",
      "        (default: ``1``).\n",
      "    shuffle (bool, optional): set to ``True`` to have the data reshuffled\n",
      "        at every epoch (default: ``False``).\n",
      "    sampler (Sampler or Iterable, optional): defines the strategy to draw\n",
      "        samples from the dataset. Can be any ``Iterable`` with ``__len__``\n",
      "        implemented. If specified, :attr:`shuffle` must not be specified.\n",
      "    batch_sampler (Sampler or Iterable, optional): like :attr:`sampler`, but\n",
      "        returns a batch of indices at a time. Mutually exclusive with\n",
      "        :attr:`batch_size`, :attr:`shuffle`, :attr:`sampler`,\n",
      "        and :attr:`drop_last`.\n",
      "    num_workers (int, optional): how many subprocesses to use for data\n",
      "        loading. ``0`` means that the data will be loaded in the main process.\n",
      "        (default: ``0``)\n",
      "    collate_fn (Callable, optional): merges a list of samples to form a\n",
      "        mini-batch of Tensor(s).  Used when using batched loading from a\n",
      "        map-style dataset.\n",
      "    pin_memory (bool, optional): If ``True``, the data loader will copy Tensors\n",
      "        into device/CUDA pinned memory before returning them.  If your data elements\n",
      "        are a custom type, or your :attr:`collate_fn` returns a batch that is a custom type,\n",
      "        see the example below.\n",
      "    drop_last (bool, optional): set to ``True`` to drop the last incomplete batch,\n",
      "        if the dataset size is not divisible by the batch size. If ``False`` and\n",
      "        the size of dataset is not divisible by the batch size, then the last batch\n",
      "        will be smaller. (default: ``False``)\n",
      "    timeout (numeric, optional): if positive, the timeout value for collecting a batch\n",
      "        from workers. Should always be non-negative. (default: ``0``)\n",
      "    worker_init_fn (Callable, optional): If not ``None``, this will be called on each\n",
      "        worker subprocess with the worker id (an int in ``[0, num_workers - 1]``) as\n",
      "        input, after seeding and before data loading. (default: ``None``)\n",
      "    multiprocessing_context (str or multiprocessing.context.BaseContext, optional): If\n",
      "        ``None``, the default `multiprocessing context`_ of your operating system will\n",
      "        be used. (default: ``None``)\n",
      "    generator (torch.Generator, optional): If not ``None``, this RNG will be used\n",
      "        by RandomSampler to generate random indexes and multiprocessing to generate\n",
      "        ``base_seed`` for workers. (default: ``None``)\n",
      "    prefetch_factor (int, optional, keyword-only arg): Number of batches loaded\n",
      "        in advance by each worker. ``2`` means there will be a total of\n",
      "        2 * num_workers batches prefetched across all workers. (default value depends\n",
      "        on the set value for num_workers. If value of num_workers=0 default is ``None``.\n",
      "        Otherwise, if value of ``num_workers > 0`` default is ``2``).\n",
      "    persistent_workers (bool, optional): If ``True``, the data loader will not shut down\n",
      "        the worker processes after a dataset has been consumed once. This allows to\n",
      "        maintain the workers `Dataset` instances alive. (default: ``False``)\n",
      "    pin_memory_device (str, optional): the device to :attr:`pin_memory` to if ``pin_memory`` is\n",
      "        ``True``.\n",
      "\n",
      "\n",
      ".. warning:: If the ``spawn`` start method is used, :attr:`worker_init_fn`\n",
      "             cannot be an unpicklable object, e.g., a lambda function. See\n",
      "             :ref:`multiprocessing-best-practices` on more details related\n",
      "             to multiprocessing in PyTorch.\n",
      "\n",
      ".. warning:: ``len(dataloader)`` heuristic is based on the length of the sampler used.\n",
      "             When :attr:`dataset` is an :class:`~torch.utils.data.IterableDataset`,\n",
      "             it instead returns an estimate based on ``len(dataset) / batch_size``, with proper\n",
      "             rounding depending on :attr:`drop_last`, regardless of multi-process loading\n",
      "             configurations. This represents the best guess PyTorch can make because PyTorch\n",
      "             trusts user :attr:`dataset` code in correctly handling multi-process\n",
      "             loading to avoid duplicate data.\n",
      "\n",
      "             However, if sharding results in multiple workers having incomplete last batches,\n",
      "             this estimate can still be inaccurate, because (1) an otherwise complete batch can\n",
      "             be broken into multiple ones and (2) more than one batch worth of samples can be\n",
      "             dropped when :attr:`drop_last` is set. Unfortunately, PyTorch can not detect such\n",
      "             cases in general.\n",
      "\n",
      "             See `Dataset Types`_ for more details on these two types of datasets and how\n",
      "             :class:`~torch.utils.data.IterableDataset` interacts with\n",
      "             `Multi-process data loading`_.\n",
      "\n",
      ".. warning:: See :ref:`reproducibility`, and :ref:`dataloader-workers-random-seed`, and\n",
      "             :ref:`data-loading-randomness` notes for random seed related questions.\n",
      "\n",
      ".. _multiprocessing context:\n",
      "    https://docs.python.org/3/library/multiprocessing.html#contexts-and-start-methods"
     ]
    }
   ],
   "source": [
    "train_dataloader?"
   ]
  },
  {
   "cell_type": "code",
   "execution_count": 105,
   "metadata": {},
   "outputs": [
    {
     "name": "stdout",
     "output_type": "stream",
     "text": [
      "Shape of X [N, C, H, W]: torch.Size([64, 1, 28, 28])\n",
      "Shape of y: torch.Size([64]) torch.int64\n"
     ]
    }
   ],
   "source": [
    "for X, y in test_dataloader:\n",
    "    print(f\"Shape of X [N, C, H, W]: {X.shape}\")\n",
    "    print(f\"Shape of y: {y.shape} {y.dtype}\")\n",
    "    break"
   ]
  },
  {
   "cell_type": "code",
   "execution_count": 106,
   "metadata": {},
   "outputs": [
    {
     "data": {
      "text/plain": [
       "False"
      ]
     },
     "execution_count": 106,
     "metadata": {},
     "output_type": "execute_result"
    }
   ],
   "source": [
    "torch.cuda.is_available()"
   ]
  },
  {
   "cell_type": "code",
   "execution_count": 108,
   "metadata": {},
   "outputs": [
    {
     "data": {
      "text/plain": [
       "'cpu'"
      ]
     },
     "execution_count": 108,
     "metadata": {},
     "output_type": "execute_result"
    }
   ],
   "source": [
    "# Creating models\n",
    "device = \"cuda\" if torch.cuda.is_available() else \"cpu\"\n",
    "device"
   ]
  },
  {
   "cell_type": "code",
   "execution_count": 109,
   "metadata": {},
   "outputs": [
    {
     "name": "stdout",
     "output_type": "stream",
     "text": [
      "\u001b[0;31mInit signature:\u001b[0m \u001b[0mnn\u001b[0m\u001b[0;34m.\u001b[0m\u001b[0mFlatten\u001b[0m\u001b[0;34m(\u001b[0m\u001b[0mstart_dim\u001b[0m\u001b[0;34m:\u001b[0m \u001b[0mint\u001b[0m \u001b[0;34m=\u001b[0m \u001b[0;36m1\u001b[0m\u001b[0;34m,\u001b[0m \u001b[0mend_dim\u001b[0m\u001b[0;34m:\u001b[0m \u001b[0mint\u001b[0m \u001b[0;34m=\u001b[0m \u001b[0;34m-\u001b[0m\u001b[0;36m1\u001b[0m\u001b[0;34m)\u001b[0m \u001b[0;34m->\u001b[0m \u001b[0;32mNone\u001b[0m\u001b[0;34m\u001b[0m\u001b[0;34m\u001b[0m\u001b[0m\n",
      "\u001b[0;31mDocstring:\u001b[0m     \n",
      "Flattens a contiguous range of dims into a tensor.\n",
      "\n",
      "For use with :class:`~nn.Sequential`, see :meth:`torch.flatten` for details.\n",
      "\n",
      "Shape:\n",
      "    - Input: :math:`(*, S_{\\text{start}},..., S_{i}, ..., S_{\\text{end}}, *)`,'\n",
      "      where :math:`S_{i}` is the size at dimension :math:`i` and :math:`*` means any\n",
      "      number of dimensions including none.\n",
      "    - Output: :math:`(*, \\prod_{i=\\text{start}}^{\\text{end}} S_{i}, *)`.\n",
      "\n",
      "Args:\n",
      "    start_dim: first dim to flatten (default = 1).\n",
      "    end_dim: last dim to flatten (default = -1).\n",
      "\n",
      "Examples::\n",
      "    >>> input = torch.randn(32, 1, 5, 5)\n",
      "    >>> # With default parameters\n",
      "    >>> m = nn.Flatten()\n",
      "    >>> output = m(input)\n",
      "    >>> output.size()\n",
      "    torch.Size([32, 25])\n",
      "    >>> # With non-default parameters\n",
      "    >>> m = nn.Flatten(0, 2)\n",
      "    >>> output = m(input)\n",
      "    >>> output.size()\n",
      "    torch.Size([160, 5])\n",
      "\u001b[0;31mInit docstring:\u001b[0m Initialize internal Module state, shared by both nn.Module and ScriptModule.\n",
      "\u001b[0;31mFile:\u001b[0m           ~/Desktop/Projects/.venv/lib/python3.8/site-packages/torch/nn/modules/flatten.py\n",
      "\u001b[0;31mType:\u001b[0m           type\n",
      "\u001b[0;31mSubclasses:\u001b[0m     "
     ]
    }
   ],
   "source": [
    "nn.Flatten?"
   ]
  },
  {
   "cell_type": "code",
   "execution_count": 110,
   "metadata": {},
   "outputs": [
    {
     "name": "stdout",
     "output_type": "stream",
     "text": [
      "NN(\n",
      "  (flatten): Flatten(start_dim=1, end_dim=-1)\n",
      "  (linear_relu_stack): Sequential(\n",
      "    (0): Linear(in_features=784, out_features=512, bias=True)\n",
      "    (1): ReLU()\n",
      "    (2): Linear(in_features=512, out_features=512, bias=True)\n",
      "    (3): ReLU()\n",
      "    (4): Linear(in_features=512, out_features=10, bias=True)\n",
      "  )\n",
      ")\n"
     ]
    }
   ],
   "source": [
    "class NN(nn.Module):\n",
    "    \n",
    "    def __init__(self):\n",
    "        super().__init__()\n",
    "        self.flatten = nn.Flatten()\n",
    "        self.linear_relu_stack = nn.Sequential(\n",
    "            nn.Linear(28*28, 512),\n",
    "            nn.ReLU(),\n",
    "            nn.Linear(512, 512),\n",
    "            nn.ReLU(),\n",
    "            nn.Linear(512, 10))\n",
    "        \n",
    "    def forward(self,x):\n",
    "        x = self.flatten(x)\n",
    "        logits = self.linear_relu_stack(x)\n",
    "        return logits\n",
    "    \n",
    "    \n",
    "model = NN().to(device)\n",
    "print(model)"
   ]
  },
  {
   "cell_type": "code",
   "execution_count": 111,
   "metadata": {},
   "outputs": [
    {
     "data": {
      "text/plain": [
       "NN(\n",
       "  (flatten): Flatten(start_dim=1, end_dim=-1)\n",
       "  (linear_relu_stack): Sequential(\n",
       "    (0): Linear(in_features=784, out_features=512, bias=True)\n",
       "    (1): ReLU()\n",
       "    (2): Linear(in_features=512, out_features=512, bias=True)\n",
       "    (3): ReLU()\n",
       "    (4): Linear(in_features=512, out_features=10, bias=True)\n",
       "  )\n",
       ")"
      ]
     },
     "execution_count": 111,
     "metadata": {},
     "output_type": "execute_result"
    }
   ],
   "source": [
    "model.eval()"
   ]
  },
  {
   "cell_type": "code",
   "execution_count": 112,
   "metadata": {},
   "outputs": [],
   "source": [
    "loss_fn = nn.CrossEntropyLoss()\n",
    "optimizer = torch.optim.SGD(model.parameters(), lr=1e-3)"
   ]
  },
  {
   "cell_type": "code",
   "execution_count": 113,
   "metadata": {},
   "outputs": [],
   "source": [
    "def train_model(dataloader, model, optimizer, loss_fn):\n",
    "    for inputs, labels in dataloader:\n",
    "        inputs, labels = inputs.to(device), labels.to(device)\n",
    "        \n",
    "        optimizer.zero_grad()\n",
    "        outputs = model(inputs)\n",
    "        loss = loss_fn(outputs, labels)\n",
    "        \n",
    "        loss.backward()\n",
    "        optimizer.step()\n",
    "    \n",
    "    return None\n",
    "\n",
    "\n",
    "def test_model(dataloader, model, optimizer, loss_fn):\n",
    "    test_loss = 0\n",
    "    correct = 0\n",
    "    for inputs, labels in dataloader:\n",
    "        inputs, labels = inputs.to(device), labels.to(device)\n",
    "        \n",
    "        with torch.no_grad():\n",
    "            for inputs, labels in dataloader:\n",
    "                inputs, labels = inputs.to(device), labels.to(device)\n",
    "                \n",
    "                pred = model(inputs)\n",
    "                loss = loss_fn(pred, labels)\n",
    "                test_loss += loss.item()\n",
    "                correct += (pred.argmax(1) == labels).type(torch.float).sum().item()\n",
    "            \n",
    "    test_loss /= len(dataloader)\n",
    "    accuracy = correct / len(dataloader.dataset)\n",
    "    return test_loss, accuracy"
   ]
  },
  {
   "cell_type": "code",
   "execution_count": 117,
   "metadata": {},
   "outputs": [
    {
     "name": "stdout",
     "output_type": "stream",
     "text": [
      "0\n",
      "1\n",
      "2\n",
      "3\n",
      "4\n"
     ]
    }
   ],
   "source": [
    "epochs = 5\n",
    "for epoch in range(epochs):\n",
    "    print(epoch)\n",
    "    train_model(train_dataloader, model, optimizer, loss_fn)\n",
    "    test_loss, accuracy = test_model(test_dataloader, model, optimizer, loss_fn)\n",
    "    "
   ]
  },
  {
   "cell_type": "code",
   "execution_count": 118,
   "metadata": {},
   "outputs": [
    {
     "data": {
      "text/plain": [
       "169.88477873802185"
      ]
     },
     "execution_count": 118,
     "metadata": {},
     "output_type": "execute_result"
    }
   ],
   "source": [
    "test_loss"
   ]
  },
  {
   "cell_type": "code",
   "execution_count": 119,
   "metadata": {},
   "outputs": [
    {
     "data": {
      "text/plain": [
       "101.736"
      ]
     },
     "execution_count": 119,
     "metadata": {},
     "output_type": "execute_result"
    }
   ],
   "source": [
    "accuracy"
   ]
  },
  {
   "cell_type": "code",
   "execution_count": 120,
   "metadata": {},
   "outputs": [
    {
     "data": {
      "text/plain": [
       "OrderedDict([('linear_relu_stack.0.weight',\n",
       "              tensor([[ 0.0149,  0.0301,  0.0256,  ..., -0.0333,  0.0337,  0.0119],\n",
       "                      [ 0.0169,  0.0149,  0.0306,  ..., -0.0313,  0.0307, -0.0045],\n",
       "                      [-0.0266, -0.0140, -0.0102,  ..., -0.0305, -0.0151, -0.0114],\n",
       "                      ...,\n",
       "                      [ 0.0322, -0.0347,  0.0298,  ..., -0.0006,  0.0127,  0.0204],\n",
       "                      [ 0.0018,  0.0299, -0.0282,  ..., -0.0356,  0.0061,  0.0090],\n",
       "                      [ 0.0293, -0.0158, -0.0331,  ...,  0.0284, -0.0173,  0.0248]])),\n",
       "             ('linear_relu_stack.0.bias',\n",
       "              tensor([-2.2212e-03, -7.7749e-03, -5.0627e-04, -3.0650e-02,  2.3133e-02,\n",
       "                      -2.5121e-02, -3.0595e-02, -2.4748e-04, -9.3622e-04,  2.8555e-02,\n",
       "                       2.6122e-02, -8.6167e-03,  2.6448e-02, -2.2017e-02, -1.0943e-02,\n",
       "                       1.9776e-02,  1.9146e-02, -2.0317e-02, -1.2976e-02,  9.8095e-03,\n",
       "                       1.3485e-02, -2.6100e-02, -1.7539e-02,  3.9011e-02, -1.3654e-02,\n",
       "                      -2.9232e-02,  2.6725e-02,  1.2732e-02,  2.4368e-02,  1.6825e-02,\n",
       "                       3.3380e-02,  3.9069e-02, -1.1598e-02, -1.2031e-02, -1.7990e-02,\n",
       "                      -2.4100e-02, -1.5456e-02,  3.4245e-02,  2.8959e-02,  9.4096e-03,\n",
       "                      -4.9292e-03, -2.7682e-02, -2.1597e-02, -2.9168e-02, -1.2187e-02,\n",
       "                       2.6084e-02, -1.1359e-02,  1.3324e-02,  1.6105e-02, -7.3484e-03,\n",
       "                       2.0909e-02,  4.6426e-03,  1.6184e-02,  1.7534e-02, -3.6783e-02,\n",
       "                       2.5477e-02,  2.3819e-02, -2.7339e-02,  1.2684e-02, -1.2857e-02,\n",
       "                       4.5289e-03, -3.1069e-02,  2.2606e-02, -2.5914e-02,  8.0295e-03,\n",
       "                       2.1439e-02,  2.6978e-02, -2.6021e-02, -1.4135e-02,  2.5214e-02,\n",
       "                      -1.9828e-02,  7.1714e-03,  7.3068e-03, -2.4975e-02,  2.8047e-02,\n",
       "                      -3.1948e-02,  1.4075e-03,  1.9959e-03, -3.4393e-02,  1.6654e-02,\n",
       "                      -1.3033e-02,  1.7912e-02, -5.2423e-03,  1.3046e-02, -2.2158e-02,\n",
       "                       2.1423e-02, -1.2138e-02, -2.8973e-02, -1.4461e-02,  3.2120e-02,\n",
       "                      -3.6591e-03, -1.0933e-02,  1.2349e-02, -3.3485e-02, -2.3456e-02,\n",
       "                       7.0043e-03, -2.4265e-02, -1.3040e-02,  9.2001e-03,  2.1002e-02,\n",
       "                       2.2716e-02, -3.5957e-02,  2.9023e-02,  8.5967e-03, -1.0245e-02,\n",
       "                       3.2841e-02, -8.3574e-03, -1.0133e-02,  6.9379e-03, -2.1205e-03,\n",
       "                      -1.8398e-02, -1.5992e-02, -7.8613e-03,  2.9573e-02, -1.7267e-02,\n",
       "                       1.3721e-02,  5.1293e-03,  2.7471e-02,  1.0566e-02,  2.6047e-02,\n",
       "                       2.1180e-02, -7.8961e-03, -3.1484e-02, -2.7290e-02,  3.1933e-02,\n",
       "                      -2.7943e-02,  5.6269e-03,  2.3527e-02, -7.0914e-03,  2.7330e-02,\n",
       "                      -7.8019e-03, -3.8653e-04,  3.0375e-03, -3.3323e-02,  1.5105e-02,\n",
       "                      -1.2917e-02, -2.6178e-02, -3.0730e-02,  1.3624e-02,  4.0578e-04,\n",
       "                       2.0363e-02, -2.7985e-02, -1.8867e-02,  2.2126e-02, -3.3157e-02,\n",
       "                       2.6977e-02, -1.7919e-02, -5.2579e-03,  2.3769e-02, -2.1454e-02,\n",
       "                      -1.0401e-02,  2.6344e-02, -7.5715e-03, -2.8579e-02,  1.7021e-03,\n",
       "                       5.8454e-03, -5.1365e-03, -4.7702e-03,  2.6113e-04,  1.6154e-02,\n",
       "                       1.9327e-02,  1.1223e-02, -2.2394e-02,  3.5603e-02,  3.9633e-02,\n",
       "                       2.7696e-02, -2.5784e-02, -2.9577e-02,  2.0880e-02, -2.2426e-03,\n",
       "                       1.3714e-02, -1.4487e-02, -4.6758e-03, -1.4664e-02,  1.6705e-02,\n",
       "                       3.0129e-02, -2.1715e-02, -1.7633e-02, -3.3905e-02,  2.4054e-03,\n",
       "                      -5.9878e-03,  5.9543e-03, -3.0994e-02, -1.6739e-02, -3.1712e-03,\n",
       "                       1.3226e-02, -2.0452e-02, -1.8926e-02, -1.2109e-02, -3.5396e-02,\n",
       "                      -3.2623e-02,  1.7713e-02, -7.9084e-03,  3.5554e-02, -1.3696e-02,\n",
       "                      -4.1682e-03,  2.4768e-02,  3.5642e-02,  1.3511e-02, -2.9213e-02,\n",
       "                      -2.7202e-02, -1.8610e-02,  2.6270e-02,  2.5672e-02,  3.6949e-02,\n",
       "                       2.8660e-02,  7.5645e-03, -2.5244e-02,  3.5233e-02, -1.7730e-02,\n",
       "                      -5.9085e-03,  3.2460e-02,  3.3261e-02,  1.0315e-02,  1.6052e-04,\n",
       "                      -9.6910e-03, -1.6436e-02, -1.9498e-02, -9.9765e-03,  9.9066e-04,\n",
       "                      -1.4590e-02,  2.4135e-02, -1.5589e-02, -1.3907e-02, -1.8929e-02,\n",
       "                      -2.3911e-02,  3.8899e-02,  2.7132e-02,  9.0925e-03,  2.6599e-02,\n",
       "                      -2.6409e-02, -4.4218e-03,  2.8937e-02,  3.3852e-02,  9.7340e-03,\n",
       "                      -2.2031e-02,  1.7081e-02,  8.2362e-03,  1.4584e-03, -2.5854e-02,\n",
       "                       2.0016e-02, -2.8967e-02,  6.8297e-03,  5.2551e-03, -2.9490e-02,\n",
       "                       8.3383e-04, -9.9825e-03, -2.2576e-02,  1.1767e-02,  7.5297e-03,\n",
       "                      -2.2588e-02, -1.4774e-02, -3.1976e-02, -7.9412e-03, -7.6732e-03,\n",
       "                      -2.1111e-03,  2.8498e-02, -1.4015e-02, -3.3443e-02, -1.0123e-02,\n",
       "                      -2.2959e-02,  6.5384e-03, -2.2703e-02,  2.0546e-02, -3.7038e-03,\n",
       "                       1.5941e-02,  3.7621e-02, -2.4145e-02,  2.3090e-03,  1.4992e-02,\n",
       "                       3.2010e-03, -2.1631e-02,  2.7654e-02,  4.7963e-03, -1.3644e-02,\n",
       "                      -9.1830e-03,  2.0143e-02, -1.8988e-02, -1.2383e-02,  2.7940e-02,\n",
       "                       1.4284e-03,  5.3908e-03, -1.5254e-02,  3.0956e-02,  4.3348e-02,\n",
       "                       1.8554e-02,  3.7064e-02, -3.4754e-02,  3.2043e-02,  1.2956e-02,\n",
       "                       2.6596e-02,  3.4183e-04, -1.9905e-02, -2.8613e-02, -1.9051e-02,\n",
       "                      -5.6352e-03,  2.1205e-02,  1.3196e-02,  1.2272e-02, -3.3663e-02,\n",
       "                       2.2680e-02, -1.7856e-02,  6.5310e-03, -9.9418e-03, -8.3285e-03,\n",
       "                      -2.1508e-02,  1.9552e-02, -8.3717e-03, -1.1234e-02, -6.7061e-03,\n",
       "                       6.8129e-03, -1.8203e-02, -2.4263e-02,  8.3404e-03,  9.0322e-03,\n",
       "                       1.4642e-03,  1.2535e-02,  2.7633e-02,  2.1536e-02,  7.9471e-03,\n",
       "                       2.4783e-02, -1.9913e-02,  1.8579e-02,  1.3362e-02, -1.4188e-03,\n",
       "                      -2.7126e-02, -3.3080e-02, -1.5243e-02,  2.8126e-02,  1.5646e-02,\n",
       "                      -1.8629e-02, -2.8769e-02, -1.9616e-02, -1.9622e-02,  9.4703e-03,\n",
       "                      -2.9344e-02,  2.8391e-04,  5.5605e-04, -2.8894e-02, -1.0073e-02,\n",
       "                       2.1116e-02, -3.5922e-02, -1.7200e-02,  3.1089e-03,  2.9106e-02,\n",
       "                       3.9408e-02, -8.8456e-03, -2.8484e-02, -1.1832e-02,  3.4238e-02,\n",
       "                      -2.6224e-02, -1.6176e-02, -2.1244e-02, -3.0675e-03,  3.1779e-02,\n",
       "                       3.6904e-02, -2.4555e-02,  4.4161e-03,  1.9490e-02,  2.3743e-02,\n",
       "                       3.4457e-02,  5.2098e-03, -1.6584e-02, -1.5348e-02, -2.2662e-02,\n",
       "                      -1.5591e-02, -3.5210e-02, -7.6694e-04,  1.1367e-03,  1.7894e-02,\n",
       "                       1.5244e-02,  1.5431e-02,  8.3895e-03, -1.2998e-02, -1.8185e-02,\n",
       "                       4.5485e-03, -7.2711e-04,  6.3820e-03,  1.1488e-02, -2.8057e-02,\n",
       "                      -6.8613e-03, -2.3576e-02, -7.2518e-04, -3.9764e-03, -1.2798e-02,\n",
       "                       2.3238e-04,  3.6610e-02, -1.8199e-02,  8.5959e-04, -1.3428e-02,\n",
       "                       2.4616e-02,  2.6336e-02, -2.1871e-02, -2.9774e-02,  3.7737e-02,\n",
       "                      -9.0164e-03,  1.2647e-04, -2.8479e-02, -4.3629e-03,  8.5997e-03,\n",
       "                      -2.4429e-02, -2.5666e-02, -1.3423e-02, -3.0015e-02, -7.5094e-03,\n",
       "                       1.6878e-02, -7.6931e-03, -2.3157e-02, -1.0331e-02,  3.8246e-02,\n",
       "                       2.1986e-02,  1.8934e-02,  3.3852e-03,  5.8949e-03, -2.2606e-02,\n",
       "                      -5.2523e-03,  1.7640e-02, -2.4092e-02,  1.7985e-02, -2.1945e-02,\n",
       "                       2.5200e-02, -3.2468e-03,  1.4237e-03,  2.7867e-02,  2.0323e-02,\n",
       "                       7.5187e-03, -1.0922e-02,  1.9174e-02,  2.3122e-02, -1.2544e-02,\n",
       "                       1.7940e-02, -5.1934e-04,  3.6915e-03,  5.5258e-03, -2.0848e-02,\n",
       "                       1.1195e-02,  2.2177e-02,  3.7690e-02,  1.5014e-02, -1.8678e-02,\n",
       "                       8.2641e-05,  3.2547e-02, -5.7677e-05,  5.2154e-03, -1.1782e-02,\n",
       "                       3.7045e-03,  1.7464e-03,  8.1842e-03, -1.1949e-02,  8.5055e-03,\n",
       "                      -2.9337e-02,  8.1572e-03,  2.2321e-02,  1.6550e-02, -2.4026e-02,\n",
       "                      -7.5620e-03,  2.5348e-02,  3.3518e-02,  5.1314e-03,  3.9183e-02,\n",
       "                       2.3051e-02,  2.8687e-02,  5.1017e-02, -2.4855e-02, -1.5581e-02,\n",
       "                      -3.5251e-02,  2.3558e-02,  2.0139e-02,  2.0499e-02,  4.6818e-03,\n",
       "                       2.1981e-02,  1.3038e-02,  3.3058e-03, -2.6541e-02, -4.6628e-03,\n",
       "                      -2.4772e-02,  2.4263e-02, -1.9783e-02,  2.0111e-03,  2.1296e-03,\n",
       "                       3.8950e-02,  5.5099e-03, -4.7138e-03, -3.6524e-03, -9.1099e-03,\n",
       "                      -1.0412e-02,  1.8184e-02,  1.2488e-02,  1.6420e-02,  2.6853e-02,\n",
       "                       2.9340e-02, -2.5078e-02, -7.4141e-03, -1.7024e-02, -2.9147e-02,\n",
       "                       3.9650e-02, -2.1821e-02,  1.9491e-02,  1.0759e-02, -3.3468e-02,\n",
       "                       2.6987e-02,  2.1771e-02, -2.8702e-02, -2.7526e-02,  1.9096e-02,\n",
       "                      -1.6547e-02, -1.5840e-02, -3.1270e-02,  6.1252e-04,  2.8828e-02,\n",
       "                      -1.9829e-02, -2.0856e-02])),\n",
       "             ('linear_relu_stack.2.weight',\n",
       "              tensor([[-0.0216, -0.0265, -0.0196,  ..., -0.0198,  0.0315, -0.0279],\n",
       "                      [ 0.0002, -0.0087,  0.0077,  ...,  0.0152, -0.0340,  0.0294],\n",
       "                      [-0.0121, -0.0041,  0.0098,  ...,  0.0297,  0.0097, -0.0349],\n",
       "                      ...,\n",
       "                      [ 0.0167,  0.0446, -0.0135,  ...,  0.0051,  0.0390,  0.0067],\n",
       "                      [-0.0286,  0.0421, -0.0203,  ...,  0.0273, -0.0266, -0.0063],\n",
       "                      [ 0.0235,  0.0061,  0.0379,  ..., -0.0370, -0.0169,  0.0443]])),\n",
       "             ('linear_relu_stack.2.bias',\n",
       "              tensor([-3.9161e-02,  1.5317e-02,  3.8303e-02, -3.9386e-02,  1.7617e-02,\n",
       "                      -3.9342e-02,  3.3313e-02,  7.2484e-03, -2.7602e-02, -2.6103e-02,\n",
       "                      -1.3459e-02, -1.9736e-02, -1.9280e-02,  7.3916e-03, -2.9824e-02,\n",
       "                      -1.0020e-03, -7.9590e-03, -3.2030e-02,  3.6555e-02,  3.9349e-02,\n",
       "                      -1.0603e-02,  4.9521e-03,  1.2186e-02, -3.2443e-02, -2.5270e-02,\n",
       "                      -1.2718e-02, -1.4758e-02,  2.0166e-02, -3.7380e-02, -3.0987e-02,\n",
       "                       3.4773e-02, -4.3996e-02,  5.1915e-02, -1.8984e-02,  3.1138e-02,\n",
       "                       1.8193e-02, -2.7494e-02, -3.4926e-02, -3.5667e-02, -2.8726e-02,\n",
       "                      -4.4535e-02,  1.8013e-02, -2.8846e-02,  4.5315e-02,  1.4882e-02,\n",
       "                      -3.3333e-02,  3.6541e-02,  2.4181e-02, -2.0317e-02, -3.1849e-02,\n",
       "                       4.8940e-02,  1.5801e-02,  2.0034e-02,  1.1311e-02, -2.7998e-02,\n",
       "                      -1.0458e-02, -3.1992e-02,  2.2577e-02, -3.9603e-02,  3.0540e-02,\n",
       "                      -1.7931e-03, -3.4723e-02,  1.1835e-04, -3.9080e-02,  4.4096e-02,\n",
       "                       4.2555e-02,  3.7188e-04,  3.1973e-02, -2.2942e-03, -3.1312e-02,\n",
       "                      -3.8756e-02, -2.8949e-02, -5.7078e-03, -3.8388e-02,  1.9907e-02,\n",
       "                      -1.0561e-02,  1.1688e-02, -3.5180e-05, -3.5519e-02,  1.8545e-02,\n",
       "                       2.0774e-02,  3.3770e-02,  3.7258e-02,  4.9187e-02,  2.6889e-02,\n",
       "                      -3.9742e-02,  3.1340e-02, -2.9140e-02, -2.4908e-02,  3.7523e-02,\n",
       "                       1.9966e-02,  2.0145e-02, -1.7075e-02, -4.3404e-02,  5.6215e-03,\n",
       "                       2.5780e-02, -1.1632e-02, -4.6317e-02,  3.6149e-02,  4.7527e-02,\n",
       "                       3.0228e-02,  4.7757e-02,  3.2297e-03, -3.7009e-02, -2.1549e-02,\n",
       "                       3.7929e-02,  1.3064e-02, -3.4257e-02, -2.1788e-02, -2.4732e-02,\n",
       "                       5.2045e-02,  3.3707e-03, -1.6256e-02,  3.8083e-02, -3.6214e-03,\n",
       "                       3.4641e-02,  4.8651e-02,  2.5426e-02,  2.1796e-03,  5.6617e-03,\n",
       "                       4.2791e-02,  3.6459e-02, -2.7910e-02, -2.5832e-02, -8.2843e-03,\n",
       "                       3.0565e-02, -3.4828e-02, -3.5635e-02, -2.0744e-02, -2.9838e-02,\n",
       "                       2.7942e-03,  1.1872e-02,  7.1544e-03,  5.5325e-02, -1.6432e-02,\n",
       "                      -1.9868e-02,  1.5836e-05, -8.1913e-04,  3.6926e-02, -3.4217e-02,\n",
       "                      -8.9363e-03,  4.3404e-02,  2.7731e-02,  1.2482e-02,  1.7008e-03,\n",
       "                       1.2150e-02,  1.8989e-02,  2.6840e-02,  1.1991e-02,  1.0195e-02,\n",
       "                       3.0958e-02, -9.3207e-03, -1.7372e-02, -1.2636e-03, -3.5674e-02,\n",
       "                      -3.3206e-02,  6.1921e-03,  2.4179e-02, -3.5771e-02, -2.1812e-02,\n",
       "                       4.7916e-02, -3.3155e-02,  1.6501e-02, -2.3791e-02,  2.5063e-02,\n",
       "                      -2.4913e-02,  4.6819e-02, -4.4733e-02,  3.1032e-05, -3.3665e-02,\n",
       "                       1.1794e-02, -3.3523e-02, -2.6154e-02, -3.9286e-02, -2.1390e-02,\n",
       "                       2.6494e-02,  7.7595e-03,  2.0220e-02, -2.8253e-02,  3.7938e-02,\n",
       "                       3.2989e-02,  2.8548e-02,  2.0443e-02,  6.0212e-03,  4.2553e-02,\n",
       "                       9.3153e-04,  2.1657e-03, -1.0189e-02, -4.3126e-02,  1.8335e-02,\n",
       "                      -1.3443e-02, -1.0914e-03, -3.3614e-02, -4.2346e-02, -9.1256e-03,\n",
       "                      -2.2686e-02,  3.4775e-02,  3.7696e-02,  5.5264e-03,  1.6248e-02,\n",
       "                       3.4992e-02,  7.6318e-03,  2.0012e-03, -5.0902e-02,  4.6429e-02,\n",
       "                       1.4106e-02,  1.0915e-02,  7.6911e-03, -5.6020e-02, -2.7576e-02,\n",
       "                       3.9079e-02, -2.6364e-02, -2.8907e-02, -2.8348e-02, -4.1803e-02,\n",
       "                       2.9477e-02, -4.9534e-03,  2.3421e-02, -3.2990e-02, -3.4838e-04,\n",
       "                       1.0394e-02, -3.8003e-02,  1.6196e-02, -4.1774e-02,  3.4561e-02,\n",
       "                       2.1297e-03, -4.4156e-02,  4.7608e-02, -2.8753e-02, -2.9172e-02,\n",
       "                       3.9269e-02, -3.3467e-03,  1.1072e-02,  4.2945e-02,  1.3988e-02,\n",
       "                      -4.3361e-03,  3.0630e-03,  7.2062e-03, -3.6632e-02, -2.6563e-02,\n",
       "                      -2.8259e-02,  3.7620e-02,  2.3661e-02, -3.5354e-02, -5.2498e-03,\n",
       "                      -2.8037e-02,  3.6994e-02,  3.0357e-02,  1.8252e-02, -2.5396e-02,\n",
       "                       1.0379e-03,  3.5315e-02,  9.5080e-03,  3.6887e-02,  7.2424e-03,\n",
       "                       1.2662e-02,  3.8907e-02, -1.6520e-03, -2.2102e-02, -2.4588e-02,\n",
       "                      -2.7944e-02,  3.5333e-02, -2.2976e-02, -1.2568e-02, -2.4502e-03,\n",
       "                      -1.9861e-02, -1.7834e-02,  2.7190e-02, -3.5444e-02, -4.2049e-02,\n",
       "                      -1.5039e-02, -1.0165e-02,  4.1243e-02, -3.6141e-02, -4.6724e-02,\n",
       "                       2.6810e-02, -3.5359e-02, -1.2223e-02, -1.9925e-02, -1.1055e-02,\n",
       "                       3.8903e-02,  1.0830e-02,  2.4854e-03,  1.4445e-02, -2.8994e-02,\n",
       "                       4.9328e-02,  3.8411e-03, -1.4092e-03,  6.8786e-03, -1.1769e-02,\n",
       "                      -6.4059e-03,  7.2544e-03,  3.4789e-02, -3.1002e-02,  1.3817e-02,\n",
       "                       1.8556e-02, -1.0937e-02,  2.1684e-02,  2.7227e-03, -2.3477e-02,\n",
       "                      -3.0431e-02, -4.0981e-02,  1.3351e-03,  5.2362e-03, -8.4215e-03,\n",
       "                       2.3956e-02,  3.1711e-02,  1.9892e-02, -3.4275e-02,  4.1194e-02,\n",
       "                       1.5429e-02, -3.0352e-02,  2.3174e-02, -1.1141e-02,  4.7339e-02,\n",
       "                      -1.2281e-02,  2.1450e-02, -2.2484e-02,  1.4547e-02,  3.8291e-04,\n",
       "                       3.0193e-02, -2.6696e-02, -2.8145e-02,  4.3558e-02,  3.1282e-02,\n",
       "                      -3.3809e-02,  2.7626e-02,  2.2684e-02, -4.8878e-02, -2.1735e-02,\n",
       "                       6.3741e-03, -3.3501e-02,  4.6318e-03,  4.4639e-02,  1.3216e-03,\n",
       "                      -4.0176e-02,  1.3743e-02,  1.3080e-02,  4.7106e-02, -2.9373e-02,\n",
       "                      -3.9661e-02,  4.0669e-02, -1.1199e-02, -3.9636e-02, -1.8013e-02,\n",
       "                      -3.0694e-02, -5.5833e-03, -4.4606e-03, -3.3183e-02, -4.0630e-02,\n",
       "                      -3.0077e-02,  3.2306e-02, -2.6609e-02, -1.6000e-02, -7.0005e-03,\n",
       "                       2.8600e-02,  4.9928e-02, -9.4172e-03, -1.1447e-02,  3.5258e-02,\n",
       "                      -4.2946e-03, -2.7311e-02,  3.6756e-02, -2.7051e-02, -2.1085e-02,\n",
       "                      -2.0247e-02,  3.8157e-02,  2.3009e-02,  4.0700e-02, -3.1173e-02,\n",
       "                       1.6330e-02, -3.4713e-02, -4.0221e-02,  1.3902e-02, -3.6022e-02,\n",
       "                       3.8502e-02,  3.3118e-02,  3.0744e-02,  5.7756e-02, -4.2217e-02,\n",
       "                       1.3248e-02, -1.7924e-02, -1.7416e-03, -1.4027e-02,  2.0093e-02,\n",
       "                      -1.4058e-02,  2.4470e-02,  3.0219e-02,  2.0887e-02,  1.9886e-02,\n",
       "                      -3.6358e-02,  7.4954e-03,  2.4709e-02,  6.3797e-03,  3.8600e-02,\n",
       "                       2.6942e-02, -1.4298e-02,  3.5389e-02,  4.8513e-02,  1.3966e-02,\n",
       "                      -5.4793e-03, -8.4815e-03,  1.5790e-02,  1.4550e-02,  4.8052e-02,\n",
       "                       1.1648e-02,  1.6562e-02,  4.2751e-02, -3.0157e-03,  2.8690e-02,\n",
       "                      -5.8227e-03,  4.2621e-02, -1.7351e-02, -3.2979e-02,  2.4053e-02,\n",
       "                       1.4587e-02, -4.0238e-02,  2.9735e-02, -1.7478e-05,  3.2477e-03,\n",
       "                       4.3656e-02,  3.0153e-02,  6.8057e-03, -6.7968e-03, -2.7381e-02,\n",
       "                      -8.6511e-03, -2.0394e-02, -1.3038e-02, -3.2514e-02,  4.4715e-02,\n",
       "                       2.0683e-02,  9.9918e-03, -4.1258e-02,  2.7224e-02,  2.3329e-02,\n",
       "                       4.0918e-02, -1.2871e-02, -3.8693e-02, -2.1672e-02, -2.8323e-02,\n",
       "                       5.5766e-02,  8.4650e-03, -3.3683e-02,  1.1265e-02, -1.9464e-02,\n",
       "                       4.2656e-02,  4.1866e-02, -2.7841e-02, -1.3771e-02, -4.6975e-02,\n",
       "                      -3.5173e-02,  3.6433e-02,  1.5204e-02, -2.8126e-02,  5.2119e-02,\n",
       "                      -2.5817e-02,  3.2159e-02,  7.9586e-04,  1.0989e-02, -4.0323e-02,\n",
       "                       3.1034e-02, -3.6797e-02,  1.5404e-02,  1.4497e-02, -1.0531e-02,\n",
       "                       3.8739e-02,  3.3310e-02, -2.5252e-02,  9.1480e-03,  2.5525e-02,\n",
       "                      -2.9787e-02, -3.8126e-02,  4.1480e-02, -3.3544e-03,  3.0444e-02,\n",
       "                       4.0288e-02, -3.4026e-02,  1.6482e-02,  4.6522e-02, -1.8721e-02,\n",
       "                       2.3551e-02,  1.9874e-02, -1.8809e-02, -2.6732e-02,  7.8029e-03,\n",
       "                      -4.3075e-02,  4.4919e-02, -1.9757e-02, -3.2166e-02,  4.9085e-02,\n",
       "                      -9.7796e-04, -2.0832e-02,  6.4344e-03,  1.4915e-02, -1.9679e-02,\n",
       "                      -1.7686e-03,  4.8720e-02, -1.2748e-02,  1.5086e-02,  4.8346e-02,\n",
       "                       5.9150e-02,  2.8102e-02, -2.2865e-02, -3.2314e-02, -2.2231e-02,\n",
       "                       8.7780e-03,  5.0689e-02,  1.6325e-02,  3.6853e-02,  3.9314e-03,\n",
       "                      -1.2895e-02,  1.5715e-02])),\n",
       "             ('linear_relu_stack.4.weight',\n",
       "              tensor([[-0.0173,  0.0316,  0.0461,  ..., -0.0044, -0.0528,  0.0197],\n",
       "                      [ 0.0120,  0.0223,  0.0599,  ..., -0.0478,  0.0766, -0.0187],\n",
       "                      [ 0.0043,  0.0056, -0.0223,  ...,  0.0812,  0.0347,  0.0505],\n",
       "                      ...,\n",
       "                      [ 0.0257,  0.0160, -0.0650,  ...,  0.0195, -0.0259,  0.0290],\n",
       "                      [ 0.0227,  0.0630, -0.0494,  ..., -0.0212,  0.0437, -0.0015],\n",
       "                      [ 0.0479, -0.0266,  0.0456,  ..., -0.0542, -0.0345,  0.0294]])),\n",
       "             ('linear_relu_stack.4.bias',\n",
       "              tensor([ 0.0179, -0.0120, -0.0250,  0.0094, -0.0592,  0.1774, -0.0095,  0.1185,\n",
       "                      -0.0826, -0.0985]))])"
      ]
     },
     "execution_count": 120,
     "metadata": {},
     "output_type": "execute_result"
    }
   ],
   "source": [
    "model.state_dict()"
   ]
  },
  {
   "cell_type": "code",
   "execution_count": 122,
   "metadata": {},
   "outputs": [
    {
     "data": {
      "text/plain": [
       "938"
      ]
     },
     "execution_count": 122,
     "metadata": {},
     "output_type": "execute_result"
    }
   ],
   "source": [
    "len(train_dataloader)"
   ]
  },
  {
   "cell_type": "code",
   "execution_count": 126,
   "metadata": {},
   "outputs": [
    {
     "data": {
      "text/plain": [
       "tuple"
      ]
     },
     "execution_count": 126,
     "metadata": {},
     "output_type": "execute_result"
    }
   ],
   "source": [
    "type(train_dataloader.dataset[0])"
   ]
  },
  {
   "cell_type": "code",
   "execution_count": 128,
   "metadata": {},
   "outputs": [
    {
     "data": {
      "text/plain": [
       "torch.Size([1, 28, 28])"
      ]
     },
     "execution_count": 128,
     "metadata": {},
     "output_type": "execute_result"
    }
   ],
   "source": [
    "train_dataloader.dataset[0][0].shape"
   ]
  },
  {
   "cell_type": "code",
   "execution_count": 130,
   "metadata": {},
   "outputs": [
    {
     "data": {
      "text/plain": [
       "9"
      ]
     },
     "execution_count": 130,
     "metadata": {},
     "output_type": "execute_result"
    }
   ],
   "source": [
    "train_dataloader.dataset[0][1]"
   ]
  },
  {
   "cell_type": "code",
   "execution_count": 133,
   "metadata": {},
   "outputs": [
    {
     "data": {
      "text/plain": [
       "60000"
      ]
     },
     "execution_count": 133,
     "metadata": {},
     "output_type": "execute_result"
    }
   ],
   "source": [
    "len(train_dataloader.dataset)"
   ]
  },
  {
   "cell_type": "code",
   "execution_count": 145,
   "metadata": {},
   "outputs": [
    {
     "name": "stdout",
     "output_type": "stream",
     "text": [
      "\u001b[0;31mSignature:\u001b[0m\n",
      "\u001b[0mplt\u001b[0m\u001b[0;34m.\u001b[0m\u001b[0mimshow\u001b[0m\u001b[0;34m(\u001b[0m\u001b[0;34m\u001b[0m\n",
      "\u001b[0;34m\u001b[0m    \u001b[0mX\u001b[0m\u001b[0;34m,\u001b[0m\u001b[0;34m\u001b[0m\n",
      "\u001b[0;34m\u001b[0m    \u001b[0mcmap\u001b[0m\u001b[0;34m=\u001b[0m\u001b[0;32mNone\u001b[0m\u001b[0;34m,\u001b[0m\u001b[0;34m\u001b[0m\n",
      "\u001b[0;34m\u001b[0m    \u001b[0mnorm\u001b[0m\u001b[0;34m=\u001b[0m\u001b[0;32mNone\u001b[0m\u001b[0;34m,\u001b[0m\u001b[0;34m\u001b[0m\n",
      "\u001b[0;34m\u001b[0m    \u001b[0;34m*\u001b[0m\u001b[0;34m,\u001b[0m\u001b[0;34m\u001b[0m\n",
      "\u001b[0;34m\u001b[0m    \u001b[0maspect\u001b[0m\u001b[0;34m=\u001b[0m\u001b[0;32mNone\u001b[0m\u001b[0;34m,\u001b[0m\u001b[0;34m\u001b[0m\n",
      "\u001b[0;34m\u001b[0m    \u001b[0minterpolation\u001b[0m\u001b[0;34m=\u001b[0m\u001b[0;32mNone\u001b[0m\u001b[0;34m,\u001b[0m\u001b[0;34m\u001b[0m\n",
      "\u001b[0;34m\u001b[0m    \u001b[0malpha\u001b[0m\u001b[0;34m=\u001b[0m\u001b[0;32mNone\u001b[0m\u001b[0;34m,\u001b[0m\u001b[0;34m\u001b[0m\n",
      "\u001b[0;34m\u001b[0m    \u001b[0mvmin\u001b[0m\u001b[0;34m=\u001b[0m\u001b[0;32mNone\u001b[0m\u001b[0;34m,\u001b[0m\u001b[0;34m\u001b[0m\n",
      "\u001b[0;34m\u001b[0m    \u001b[0mvmax\u001b[0m\u001b[0;34m=\u001b[0m\u001b[0;32mNone\u001b[0m\u001b[0;34m,\u001b[0m\u001b[0;34m\u001b[0m\n",
      "\u001b[0;34m\u001b[0m    \u001b[0morigin\u001b[0m\u001b[0;34m=\u001b[0m\u001b[0;32mNone\u001b[0m\u001b[0;34m,\u001b[0m\u001b[0;34m\u001b[0m\n",
      "\u001b[0;34m\u001b[0m    \u001b[0mextent\u001b[0m\u001b[0;34m=\u001b[0m\u001b[0;32mNone\u001b[0m\u001b[0;34m,\u001b[0m\u001b[0;34m\u001b[0m\n",
      "\u001b[0;34m\u001b[0m    \u001b[0minterpolation_stage\u001b[0m\u001b[0;34m=\u001b[0m\u001b[0;32mNone\u001b[0m\u001b[0;34m,\u001b[0m\u001b[0;34m\u001b[0m\n",
      "\u001b[0;34m\u001b[0m    \u001b[0mfilternorm\u001b[0m\u001b[0;34m=\u001b[0m\u001b[0;32mTrue\u001b[0m\u001b[0;34m,\u001b[0m\u001b[0;34m\u001b[0m\n",
      "\u001b[0;34m\u001b[0m    \u001b[0mfilterrad\u001b[0m\u001b[0;34m=\u001b[0m\u001b[0;36m4.0\u001b[0m\u001b[0;34m,\u001b[0m\u001b[0;34m\u001b[0m\n",
      "\u001b[0;34m\u001b[0m    \u001b[0mresample\u001b[0m\u001b[0;34m=\u001b[0m\u001b[0;32mNone\u001b[0m\u001b[0;34m,\u001b[0m\u001b[0;34m\u001b[0m\n",
      "\u001b[0;34m\u001b[0m    \u001b[0murl\u001b[0m\u001b[0;34m=\u001b[0m\u001b[0;32mNone\u001b[0m\u001b[0;34m,\u001b[0m\u001b[0;34m\u001b[0m\n",
      "\u001b[0;34m\u001b[0m    \u001b[0mdata\u001b[0m\u001b[0;34m=\u001b[0m\u001b[0;32mNone\u001b[0m\u001b[0;34m,\u001b[0m\u001b[0;34m\u001b[0m\n",
      "\u001b[0;34m\u001b[0m    \u001b[0;34m**\u001b[0m\u001b[0mkwargs\u001b[0m\u001b[0;34m,\u001b[0m\u001b[0;34m\u001b[0m\n",
      "\u001b[0;34m\u001b[0m\u001b[0;34m)\u001b[0m\u001b[0;34m\u001b[0m\u001b[0;34m\u001b[0m\u001b[0m\n",
      "\u001b[0;31mDocstring:\u001b[0m\n",
      "Display data as an image, i.e., on a 2D regular raster.\n",
      "\n",
      "The input may either be actual RGB(A) data, or 2D scalar data, which\n",
      "will be rendered as a pseudocolor image. For displaying a grayscale\n",
      "image set up the colormapping using the parameters\n",
      "``cmap='gray', vmin=0, vmax=255``.\n",
      "\n",
      "The number of pixels used to render an image is set by the Axes size\n",
      "and the *dpi* of the figure. This can lead to aliasing artifacts when\n",
      "the image is resampled because the displayed image size will usually\n",
      "not match the size of *X* (see\n",
      ":doc:`/gallery/images_contours_and_fields/image_antialiasing`).\n",
      "The resampling can be controlled via the *interpolation* parameter\n",
      "and/or :rc:`image.interpolation`.\n",
      "\n",
      "Parameters\n",
      "----------\n",
      "X : array-like or PIL image\n",
      "    The image data. Supported array shapes are:\n",
      "\n",
      "    - (M, N): an image with scalar data. The values are mapped to\n",
      "      colors using normalization and a colormap. See parameters *norm*,\n",
      "      *cmap*, *vmin*, *vmax*.\n",
      "    - (M, N, 3): an image with RGB values (0-1 float or 0-255 int).\n",
      "    - (M, N, 4): an image with RGBA values (0-1 float or 0-255 int),\n",
      "      i.e. including transparency.\n",
      "\n",
      "    The first two dimensions (M, N) define the rows and columns of\n",
      "    the image.\n",
      "\n",
      "    Out-of-range RGB(A) values are clipped.\n",
      "\n",
      "cmap : str or `~matplotlib.colors.Colormap`, default: :rc:`image.cmap`\n",
      "    The Colormap instance or registered colormap name used to map scalar data\n",
      "    to colors.\n",
      "\n",
      "    This parameter is ignored if *X* is RGB(A).\n",
      "\n",
      "norm : str or `~matplotlib.colors.Normalize`, optional\n",
      "    The normalization method used to scale scalar data to the [0, 1] range\n",
      "    before mapping to colors using *cmap*. By default, a linear scaling is\n",
      "    used, mapping the lowest value to 0 and the highest to 1.\n",
      "\n",
      "    If given, this can be one of the following:\n",
      "\n",
      "    - An instance of `.Normalize` or one of its subclasses\n",
      "      (see :doc:`/tutorials/colors/colormapnorms`).\n",
      "    - A scale name, i.e. one of \"linear\", \"log\", \"symlog\", \"logit\", etc.  For a\n",
      "      list of available scales, call `matplotlib.scale.get_scale_names()`.\n",
      "      In that case, a suitable `.Normalize` subclass is dynamically generated\n",
      "      and instantiated.\n",
      "\n",
      "    This parameter is ignored if *X* is RGB(A).\n",
      "\n",
      "vmin, vmax : float, optional\n",
      "    When using scalar data and no explicit *norm*, *vmin* and *vmax* define\n",
      "    the data range that the colormap covers. By default, the colormap covers\n",
      "    the complete value range of the supplied data. It is an error to use\n",
      "    *vmin*/*vmax* when a *norm* instance is given (but using a `str` *norm*\n",
      "    name together with *vmin*/*vmax* is acceptable).\n",
      "\n",
      "    This parameter is ignored if *X* is RGB(A).\n",
      "\n",
      "aspect : {'equal', 'auto'} or float, default: :rc:`image.aspect`\n",
      "    The aspect ratio of the Axes.  This parameter is particularly\n",
      "    relevant for images since it determines whether data pixels are\n",
      "    square.\n",
      "\n",
      "    This parameter is a shortcut for explicitly calling\n",
      "    `.Axes.set_aspect`. See there for further details.\n",
      "\n",
      "    - 'equal': Ensures an aspect ratio of 1. Pixels will be square\n",
      "      (unless pixel sizes are explicitly made non-square in data\n",
      "      coordinates using *extent*).\n",
      "    - 'auto': The Axes is kept fixed and the aspect is adjusted so\n",
      "      that the data fit in the Axes. In general, this will result in\n",
      "      non-square pixels.\n",
      "\n",
      "interpolation : str, default: :rc:`image.interpolation`\n",
      "    The interpolation method used.\n",
      "\n",
      "    Supported values are 'none', 'antialiased', 'nearest', 'bilinear',\n",
      "    'bicubic', 'spline16', 'spline36', 'hanning', 'hamming', 'hermite',\n",
      "    'kaiser', 'quadric', 'catrom', 'gaussian', 'bessel', 'mitchell',\n",
      "    'sinc', 'lanczos', 'blackman'.\n",
      "\n",
      "    The data *X* is resampled to the pixel size of the image on the\n",
      "    figure canvas, using the interpolation method to either up- or\n",
      "    downsample the data.\n",
      "\n",
      "    If *interpolation* is 'none', then for the ps, pdf, and svg\n",
      "    backends no down- or upsampling occurs, and the image data is\n",
      "    passed to the backend as a native image.  Note that different ps,\n",
      "    pdf, and svg viewers may display these raw pixels differently. On\n",
      "    other backends, 'none' is the same as 'nearest'.\n",
      "\n",
      "    If *interpolation* is the default 'antialiased', then 'nearest'\n",
      "    interpolation is used if the image is upsampled by more than a\n",
      "    factor of three (i.e. the number of display pixels is at least\n",
      "    three times the size of the data array).  If the upsampling rate is\n",
      "    smaller than 3, or the image is downsampled, then 'hanning'\n",
      "    interpolation is used to act as an anti-aliasing filter, unless the\n",
      "    image happens to be upsampled by exactly a factor of two or one.\n",
      "\n",
      "    See\n",
      "    :doc:`/gallery/images_contours_and_fields/interpolation_methods`\n",
      "    for an overview of the supported interpolation methods, and\n",
      "    :doc:`/gallery/images_contours_and_fields/image_antialiasing` for\n",
      "    a discussion of image antialiasing.\n",
      "\n",
      "    Some interpolation methods require an additional radius parameter,\n",
      "    which can be set by *filterrad*. Additionally, the antigrain image\n",
      "    resize filter is controlled by the parameter *filternorm*.\n",
      "\n",
      "interpolation_stage : {'data', 'rgba'}, default: 'data'\n",
      "    If 'data', interpolation\n",
      "    is carried out on the data provided by the user.  If 'rgba', the\n",
      "    interpolation is carried out after the colormapping has been\n",
      "    applied (visual interpolation).\n",
      "\n",
      "alpha : float or array-like, optional\n",
      "    The alpha blending value, between 0 (transparent) and 1 (opaque).\n",
      "    If *alpha* is an array, the alpha blending values are applied pixel\n",
      "    by pixel, and *alpha* must have the same shape as *X*.\n",
      "\n",
      "origin : {'upper', 'lower'}, default: :rc:`image.origin`\n",
      "    Place the [0, 0] index of the array in the upper left or lower\n",
      "    left corner of the Axes. The convention (the default) 'upper' is\n",
      "    typically used for matrices and images.\n",
      "\n",
      "    Note that the vertical axis points upward for 'lower'\n",
      "    but downward for 'upper'.\n",
      "\n",
      "    See the :doc:`/tutorials/intermediate/imshow_extent` tutorial for\n",
      "    examples and a more detailed description.\n",
      "\n",
      "extent : floats (left, right, bottom, top), optional\n",
      "    The bounding box in data coordinates that the image will fill.\n",
      "    These values may be unitful and match the units of the Axes.\n",
      "    The image is stretched individually along x and y to fill the box.\n",
      "\n",
      "    The default extent is determined by the following conditions.\n",
      "    Pixels have unit size in data coordinates. Their centers are on\n",
      "    integer coordinates, and their center coordinates range from 0 to\n",
      "    columns-1 horizontally and from 0 to rows-1 vertically.\n",
      "\n",
      "    Note that the direction of the vertical axis and thus the default\n",
      "    values for top and bottom depend on *origin*:\n",
      "\n",
      "    - For ``origin == 'upper'`` the default is\n",
      "      ``(-0.5, numcols-0.5, numrows-0.5, -0.5)``.\n",
      "    - For ``origin == 'lower'`` the default is\n",
      "      ``(-0.5, numcols-0.5, -0.5, numrows-0.5)``.\n",
      "\n",
      "    See the :doc:`/tutorials/intermediate/imshow_extent` tutorial for\n",
      "    examples and a more detailed description.\n",
      "\n",
      "filternorm : bool, default: True\n",
      "    A parameter for the antigrain image resize filter (see the\n",
      "    antigrain documentation).  If *filternorm* is set, the filter\n",
      "    normalizes integer values and corrects the rounding errors. It\n",
      "    doesn't do anything with the source floating point values, it\n",
      "    corrects only integers according to the rule of 1.0 which means\n",
      "    that any sum of pixel weights must be equal to 1.0.  So, the\n",
      "    filter function must produce a graph of the proper shape.\n",
      "\n",
      "filterrad : float > 0, default: 4.0\n",
      "    The filter radius for filters that have a radius parameter, i.e.\n",
      "    when interpolation is one of: 'sinc', 'lanczos' or 'blackman'.\n",
      "\n",
      "resample : bool, default: :rc:`image.resample`\n",
      "    When *True*, use a full resampling method.  When *False*, only\n",
      "    resample when the output image is larger than the input image.\n",
      "\n",
      "url : str, optional\n",
      "    Set the url of the created `.AxesImage`. See `.Artist.set_url`.\n",
      "\n",
      "Returns\n",
      "-------\n",
      "`~matplotlib.image.AxesImage`\n",
      "\n",
      "Other Parameters\n",
      "----------------\n",
      "data : indexable object, optional\n",
      "    If given, all parameters also accept a string ``s``, which is\n",
      "    interpreted as ``data[s]`` (unless this raises an exception).\n",
      "\n",
      "**kwargs : `~matplotlib.artist.Artist` properties\n",
      "    These parameters are passed on to the constructor of the\n",
      "    `.AxesImage` artist.\n",
      "\n",
      "See Also\n",
      "--------\n",
      "matshow : Plot a matrix or an array as an image.\n",
      "\n",
      "Notes\n",
      "-----\n",
      "Unless *extent* is used, pixel centers will be located at integer\n",
      "coordinates. In other words: the origin will coincide with the center\n",
      "of pixel (0, 0).\n",
      "\n",
      "There are two common representations for RGB images with an alpha\n",
      "channel:\n",
      "\n",
      "-   Straight (unassociated) alpha: R, G, and B channels represent the\n",
      "    color of the pixel, disregarding its opacity.\n",
      "-   Premultiplied (associated) alpha: R, G, and B channels represent\n",
      "    the color of the pixel, adjusted for its opacity by multiplication.\n",
      "\n",
      "`~matplotlib.pyplot.imshow` expects RGB images adopting the straight\n",
      "(unassociated) alpha representation.\n",
      "\u001b[0;31mFile:\u001b[0m      ~/Desktop/Projects/.venv/lib/python3.8/site-packages/matplotlib/pyplot.py\n",
      "\u001b[0;31mType:\u001b[0m      function"
     ]
    }
   ],
   "source": [
    "plt.imshow?"
   ]
  },
  {
   "cell_type": "code",
   "execution_count": 148,
   "metadata": {},
   "outputs": [
    {
     "data": {
      "image/png": "[encoded data removed]",
      "text/plain": [
       "<Figure size 640x480 with 1 Axes>"
      ]
     },
     "metadata": {},
     "output_type": "display_data"
    },
    {
     "data": {
      "image/png": "[encoded data removed]",
      "text/plain": [
       "<Figure size 640x480 with 1 Axes>"
      ]
     },
     "metadata": {},
     "output_type": "display_data"
    },
    {
     "data": {
      "image/png": "[encoded data removed]",
      "text/plain": [
       "<Figure size 640x480 with 1 Axes>"
      ]
     },
     "metadata": {},
     "output_type": "display_data"
    },
    {
     "data": {
      "image/png": "[encoded data removed]",
      "text/plain": [
       "<Figure size 640x480 with 1 Axes>"
      ]
     },
     "metadata": {},
     "output_type": "display_data"
    },
    {
     "data": {
      "image/png": "[encoded data removed]",
      "text/plain": [
       "<Figure size 640x480 with 1 Axes>"
      ]
     },
     "metadata": {},
     "output_type": "display_data"
    },
    {
     "data": {
      "image/png": "[encoded data removed]",
      "text/plain": [
       "<Figure size 640x480 with 1 Axes>"
      ]
     },
     "metadata": {},
     "output_type": "display_data"
    },
    {
     "data": {
      "image/png": "[encoded data removed]",
      "text/plain": [
       "<Figure size 640x480 with 1 Axes>"
      ]
     },
     "metadata": {},
     "output_type": "display_data"
    },
    {
     "data": {
      "image/png": "[encoded data removed]",
      "text/plain": [
       "<Figure size 640x480 with 1 Axes>"
      ]
     },
     "metadata": {},
     "output_type": "display_data"
    },
    {
     "data": {
      "image/png": "[encoded data removed]",
      "text/plain": [
       "<Figure size 640x480 with 1 Axes>"
      ]
     },
     "metadata": {},
     "output_type": "display_data"
    },
    {
     "data": {
      "image/png": "[encoded data removed]",
      "text/plain": [
       "<Figure size 640x480 with 1 Axes>"
      ]
     },
     "metadata": {},
     "output_type": "display_data"
    }
   ],
   "source": [
    "for i in range(10):\n",
    "    plt.figure()\n",
    "    plt.imshow(train_dataloader.dataset[i][0].numpy().squeeze(), cmap=\"gray\")"
   ]
  },
  {
   "cell_type": "code",
   "execution_count": null,
   "metadata": {},
   "outputs": [],
   "source": []
  },
  {
   "cell_type": "code",
   "execution_count": null,
   "metadata": {},
   "outputs": [],
   "source": []
  }
 ],
 "metadata": {
  "kernelspec": {
   "display_name": "trading",
   "language": "python",
   "name": "trading"
  },
  "language_info": {
   "codemirror_mode": {
    "name": "ipython",
    "version": 3
   },
   "file_extension": ".py",
   "mimetype": "text/x-python",
   "name": "python",
   "nbconvert_exporter": "python",
   "pygments_lexer": "ipython3",
   "version": "3.8.8"
  }
 },
 "nbformat": 4,
 "nbformat_minor": 2
}
