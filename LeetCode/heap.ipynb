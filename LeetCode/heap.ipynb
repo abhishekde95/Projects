{
 "cells": [
  {
   "cell_type": "markdown",
   "metadata": {},
   "source": [
    "## 1. Importing libraries"
   ]
  },
  {
   "cell_type": "code",
   "execution_count": 2,
   "metadata": {},
   "outputs": [],
   "source": [
    "import heapq, numpy as np\n",
    "from typing import Iterable"
   ]
  },
  {
   "cell_type": "markdown",
   "metadata": {},
   "source": [
    "## 2. Exploration"
   ]
  },
  {
   "cell_type": "code",
   "execution_count": 3,
   "metadata": {},
   "outputs": [
    {
     "name": "stdout",
     "output_type": "stream",
     "text": [
      "\u001b[0;31mSignature:\u001b[0m \u001b[0mheapq\u001b[0m\u001b[0;34m.\u001b[0m\u001b[0mheappush\u001b[0m\u001b[0;34m(\u001b[0m\u001b[0mheap\u001b[0m\u001b[0;34m,\u001b[0m \u001b[0mitem\u001b[0m\u001b[0;34m,\u001b[0m \u001b[0;34m/\u001b[0m\u001b[0;34m)\u001b[0m\u001b[0;34m\u001b[0m\u001b[0;34m\u001b[0m\u001b[0m\n",
      "\u001b[0;31mDocstring:\u001b[0m Push item onto heap, maintaining the heap invariant.\n",
      "\u001b[0;31mType:\u001b[0m      builtin_function_or_method"
     ]
    }
   ],
   "source": [
    "heapq.heappush?"
   ]
  },
  {
   "cell_type": "code",
   "execution_count": 4,
   "metadata": {},
   "outputs": [
    {
     "name": "stdout",
     "output_type": "stream",
     "text": [
      "\u001b[0;31mSignature:\u001b[0m \u001b[0mheapq\u001b[0m\u001b[0;34m.\u001b[0m\u001b[0mheappop\u001b[0m\u001b[0;34m(\u001b[0m\u001b[0mheap\u001b[0m\u001b[0;34m,\u001b[0m \u001b[0;34m/\u001b[0m\u001b[0;34m)\u001b[0m\u001b[0;34m\u001b[0m\u001b[0;34m\u001b[0m\u001b[0m\n",
      "\u001b[0;31mDocstring:\u001b[0m Pop the smallest item off the heap, maintaining the heap invariant.\n",
      "\u001b[0;31mType:\u001b[0m      builtin_function_or_method"
     ]
    }
   ],
   "source": [
    "heapq.heappop?"
   ]
  },
  {
   "cell_type": "code",
   "execution_count": 11,
   "metadata": {},
   "outputs": [
    {
     "name": "stdout",
     "output_type": "stream",
     "text": [
      "\u001b[0;31mSignature:\u001b[0m \u001b[0mheapq\u001b[0m\u001b[0;34m.\u001b[0m\u001b[0mheapify\u001b[0m\u001b[0;34m(\u001b[0m\u001b[0mheap\u001b[0m\u001b[0;34m,\u001b[0m \u001b[0;34m/\u001b[0m\u001b[0;34m)\u001b[0m\u001b[0;34m\u001b[0m\u001b[0;34m\u001b[0m\u001b[0m\n",
      "\u001b[0;31mDocstring:\u001b[0m Transform list into a heap, in-place, in O(len(heap)) time.\n",
      "\u001b[0;31mType:\u001b[0m      builtin_function_or_method"
     ]
    }
   ],
   "source": [
    "heapq.heapify?"
   ]
  },
  {
   "cell_type": "code",
   "execution_count": 26,
   "metadata": {},
   "outputs": [],
   "source": [
    "def heapsort(arr: Iterable):\n",
    "    h = []\n",
    "    for i in arr:\n",
    "        heapq.heappush(h,i)\n",
    "    return h, [heapq.heappop(h) for _ in range(int(len(h)/2))]\n",
    "\n",
    "N = 10\n",
    "input = np.random.random(N)\n",
    "h, sorted_series = heapsort(input)"
   ]
  },
  {
   "cell_type": "code",
   "execution_count": 27,
   "metadata": {},
   "outputs": [
    {
     "data": {
      "text/plain": [
       "[0.722845691464518,\n",
       " 0.7972719044585193,\n",
       " 0.799781102165968,\n",
       " 0.8817270546584974,\n",
       " 0.8117553195039844]"
      ]
     },
     "execution_count": 27,
     "metadata": {},
     "output_type": "execute_result"
    }
   ],
   "source": [
    "h"
   ]
  },
  {
   "cell_type": "code",
   "execution_count": 28,
   "metadata": {},
   "outputs": [
    {
     "data": {
      "text/plain": [
       "[0.18459728848429124,\n",
       " 0.3568005025786366,\n",
       " 0.4152864600494256,\n",
       " 0.6085906663932582,\n",
       " 0.697160750529376]"
      ]
     },
     "execution_count": 28,
     "metadata": {},
     "output_type": "execute_result"
    }
   ],
   "source": [
    "sorted_series"
   ]
  },
  {
   "cell_type": "code",
   "execution_count": 29,
   "metadata": {},
   "outputs": [
    {
     "data": {
      "text/plain": [
       "array([0.7997811 , 0.60859067, 0.3568005 , 0.18459729, 0.81175532,\n",
       "       0.88172705, 0.69716075, 0.7972719 , 0.72284569, 0.41528646])"
      ]
     },
     "execution_count": 29,
     "metadata": {},
     "output_type": "execute_result"
    }
   ],
   "source": [
    "input"
   ]
  },
  {
   "cell_type": "code",
   "execution_count": 35,
   "metadata": {},
   "outputs": [],
   "source": [
    "input_list = input.tolist()\n",
    "heapq.heapify(input_list)"
   ]
  },
  {
   "cell_type": "code",
   "execution_count": 36,
   "metadata": {},
   "outputs": [
    {
     "data": {
      "text/plain": [
       "[0.18459728848429124,\n",
       " 0.4152864600494256,\n",
       " 0.3568005025786366,\n",
       " 0.6085906663932582,\n",
       " 0.799781102165968,\n",
       " 0.8817270546584974,\n",
       " 0.697160750529376,\n",
       " 0.7972719044585193,\n",
       " 0.722845691464518,\n",
       " 0.8117553195039844]"
      ]
     },
     "execution_count": 36,
     "metadata": {},
     "output_type": "execute_result"
    }
   ],
   "source": [
    "input_list"
   ]
  },
  {
   "cell_type": "code",
   "execution_count": 37,
   "metadata": {},
   "outputs": [
    {
     "data": {
      "text/plain": [
       "0.799781102165968"
      ]
     },
     "execution_count": 37,
     "metadata": {},
     "output_type": "execute_result"
    }
   ],
   "source": [
    "input_list[4]"
   ]
  },
  {
   "cell_type": "markdown",
   "metadata": {},
   "source": [
    "### Kth smallest element"
   ]
  },
  {
   "cell_type": "code",
   "execution_count": 52,
   "metadata": {},
   "outputs": [
    {
     "name": "stdout",
     "output_type": "stream",
     "text": [
      "0.2980607668503462\n"
     ]
    },
    {
     "data": {
      "text/plain": [
       "array([0.12040617, 0.14384801, 0.22948445, 0.29806077, 0.4230669 ,\n",
       "       0.55311934, 0.63762656, 0.78447164, 0.83278236, 0.95292076])"
      ]
     },
     "execution_count": 52,
     "metadata": {},
     "output_type": "execute_result"
    }
   ],
   "source": [
    "def find_kth_smallest(arr: Iterable, k: int):\n",
    "    \n",
    "    h = []\n",
    "    if not isinstance(arr, list):\n",
    "        arr = arr.tolist()\n",
    "    L = len(arr)\n",
    "    for i in range(L):\n",
    "        heapq.heappush(h, -arr[i])\n",
    "        if i > k:\n",
    "            heapq.heappop(h) # Pushes the smallest element out of the heap\n",
    "    return -h[0]\n",
    "\n",
    "N = 10\n",
    "input = np.random.random(N)\n",
    "h = find_kth_smallest(arr=input, k=3)\n",
    "print(h)  \n",
    "\n",
    "# Validation\n",
    "input.sort()\n",
    "input"
   ]
  },
  {
   "cell_type": "markdown",
   "metadata": {},
   "source": [
    "### Kth largest element"
   ]
  },
  {
   "cell_type": "code",
   "execution_count": 53,
   "metadata": {},
   "outputs": [
    {
     "name": "stdout",
     "output_type": "stream",
     "text": [
      "0.47807469022185745\n"
     ]
    },
    {
     "data": {
      "text/plain": [
       "array([0.0252613 , 0.0708132 , 0.23115199, 0.24043398, 0.32648946,\n",
       "       0.44744703, 0.47807469, 0.68059494, 0.80353045, 0.93819994])"
      ]
     },
     "execution_count": 53,
     "metadata": {},
     "output_type": "execute_result"
    }
   ],
   "source": [
    "def find_kth_largest(arr: Iterable, k: int):\n",
    "    \n",
    "    h = []\n",
    "    if not isinstance(arr, list):\n",
    "        arr = arr.tolist()\n",
    "    L = len(arr)\n",
    "    for i in range(L):\n",
    "        heapq.heappush(h, arr[i])\n",
    "        if i > k:\n",
    "            heapq.heappop(h) # Pushes the smallest element out of the heap\n",
    "    return h[0]\n",
    "\n",
    "N = 10\n",
    "input = np.random.random(N)\n",
    "h = find_kth_largest(arr=input, k=3)\n",
    "print(h)  \n",
    "\n",
    "# Validation\n",
    "input.sort()\n",
    "input"
   ]
  },
  {
   "cell_type": "code",
   "execution_count": null,
   "metadata": {},
   "outputs": [],
   "source": []
  }
 ],
 "metadata": {
  "kernelspec": {
   "display_name": "trading",
   "language": "python",
   "name": "trading"
  },
  "language_info": {
   "codemirror_mode": {
    "name": "ipython",
    "version": 3
   },
   "file_extension": ".py",
   "mimetype": "text/x-python",
   "name": "python",
   "nbconvert_exporter": "python",
   "pygments_lexer": "ipython3",
   "version": "3.8.8"
  }
 },
 "nbformat": 4,
 "nbformat_minor": 2
}
